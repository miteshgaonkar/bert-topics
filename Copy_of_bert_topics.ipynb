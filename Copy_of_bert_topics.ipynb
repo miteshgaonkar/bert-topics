{
  "nbformat": 4,
  "nbformat_minor": 0,
  "metadata": {
    "accelerator": "GPU",
    "colab": {
      "provenance": [],
      "collapsed_sections": [
        "xuM0tnlo0yky",
        "l5CH_Rsfu7Wg"
      ],
      "include_colab_link": true
    },
    "kernelspec": {
      "display_name": "Python 3",
      "name": "python3"
    },
    "language_info": {
      "name": "python"
    },
    "gpuClass": "standard",
    "widgets": {
      "application/vnd.jupyter.widget-state+json": {
        "ba697cc3a8de4699bb9debda2def59fb": {
          "model_module": "@jupyter-widgets/controls",
          "model_name": "HBoxModel",
          "model_module_version": "1.5.0",
          "state": {
            "_dom_classes": [],
            "_model_module": "@jupyter-widgets/controls",
            "_model_module_version": "1.5.0",
            "_model_name": "HBoxModel",
            "_view_count": null,
            "_view_module": "@jupyter-widgets/controls",
            "_view_module_version": "1.5.0",
            "_view_name": "HBoxView",
            "box_style": "",
            "children": [
              "IPY_MODEL_bfbdc6d303c04f50bcef2a279f0d0bd7",
              "IPY_MODEL_715d92bcea2a4075bacecb9c7590d5dd",
              "IPY_MODEL_4e74f2066c6e4d0583b7b76accfe6fb3"
            ],
            "layout": "IPY_MODEL_96b307b1401847d4b287460f81346886"
          }
        },
        "bfbdc6d303c04f50bcef2a279f0d0bd7": {
          "model_module": "@jupyter-widgets/controls",
          "model_name": "HTMLModel",
          "model_module_version": "1.5.0",
          "state": {
            "_dom_classes": [],
            "_model_module": "@jupyter-widgets/controls",
            "_model_module_version": "1.5.0",
            "_model_name": "HTMLModel",
            "_view_count": null,
            "_view_module": "@jupyter-widgets/controls",
            "_view_module_version": "1.5.0",
            "_view_name": "HTMLView",
            "description": "",
            "description_tooltip": null,
            "layout": "IPY_MODEL_b1bdde765edb45299e51f5be3c117080",
            "placeholder": "​",
            "style": "IPY_MODEL_99dee71616aa4abfb2aa4380ccb2ca29",
            "value": "100%"
          }
        },
        "715d92bcea2a4075bacecb9c7590d5dd": {
          "model_module": "@jupyter-widgets/controls",
          "model_name": "FloatProgressModel",
          "model_module_version": "1.5.0",
          "state": {
            "_dom_classes": [],
            "_model_module": "@jupyter-widgets/controls",
            "_model_module_version": "1.5.0",
            "_model_name": "FloatProgressModel",
            "_view_count": null,
            "_view_module": "@jupyter-widgets/controls",
            "_view_module_version": "1.5.0",
            "_view_name": "ProgressView",
            "bar_style": "success",
            "description": "",
            "description_tooltip": null,
            "layout": "IPY_MODEL_c5bbaf33e7584d7ebe87cf3a24e249e7",
            "max": 171,
            "min": 0,
            "orientation": "horizontal",
            "style": "IPY_MODEL_539b900c6682402dbacca46ee5bc8c4e",
            "value": 171
          }
        },
        "4e74f2066c6e4d0583b7b76accfe6fb3": {
          "model_module": "@jupyter-widgets/controls",
          "model_name": "HTMLModel",
          "model_module_version": "1.5.0",
          "state": {
            "_dom_classes": [],
            "_model_module": "@jupyter-widgets/controls",
            "_model_module_version": "1.5.0",
            "_model_name": "HTMLModel",
            "_view_count": null,
            "_view_module": "@jupyter-widgets/controls",
            "_view_module_version": "1.5.0",
            "_view_name": "HTMLView",
            "description": "",
            "description_tooltip": null,
            "layout": "IPY_MODEL_2d146c9dc7d74dafbb3daa69a6e94d70",
            "placeholder": "​",
            "style": "IPY_MODEL_9a06a790e68b48b2a8b6226bfc222f12",
            "value": " 171/171 [06:24&lt;00:00,  1.77s/it]"
          }
        },
        "96b307b1401847d4b287460f81346886": {
          "model_module": "@jupyter-widgets/base",
          "model_name": "LayoutModel",
          "model_module_version": "1.2.0",
          "state": {
            "_model_module": "@jupyter-widgets/base",
            "_model_module_version": "1.2.0",
            "_model_name": "LayoutModel",
            "_view_count": null,
            "_view_module": "@jupyter-widgets/base",
            "_view_module_version": "1.2.0",
            "_view_name": "LayoutView",
            "align_content": null,
            "align_items": null,
            "align_self": null,
            "border": null,
            "bottom": null,
            "display": null,
            "flex": null,
            "flex_flow": null,
            "grid_area": null,
            "grid_auto_columns": null,
            "grid_auto_flow": null,
            "grid_auto_rows": null,
            "grid_column": null,
            "grid_gap": null,
            "grid_row": null,
            "grid_template_areas": null,
            "grid_template_columns": null,
            "grid_template_rows": null,
            "height": null,
            "justify_content": null,
            "justify_items": null,
            "left": null,
            "margin": null,
            "max_height": null,
            "max_width": null,
            "min_height": null,
            "min_width": null,
            "object_fit": null,
            "object_position": null,
            "order": null,
            "overflow": null,
            "overflow_x": null,
            "overflow_y": null,
            "padding": null,
            "right": null,
            "top": null,
            "visibility": null,
            "width": null
          }
        },
        "b1bdde765edb45299e51f5be3c117080": {
          "model_module": "@jupyter-widgets/base",
          "model_name": "LayoutModel",
          "model_module_version": "1.2.0",
          "state": {
            "_model_module": "@jupyter-widgets/base",
            "_model_module_version": "1.2.0",
            "_model_name": "LayoutModel",
            "_view_count": null,
            "_view_module": "@jupyter-widgets/base",
            "_view_module_version": "1.2.0",
            "_view_name": "LayoutView",
            "align_content": null,
            "align_items": null,
            "align_self": null,
            "border": null,
            "bottom": null,
            "display": null,
            "flex": null,
            "flex_flow": null,
            "grid_area": null,
            "grid_auto_columns": null,
            "grid_auto_flow": null,
            "grid_auto_rows": null,
            "grid_column": null,
            "grid_gap": null,
            "grid_row": null,
            "grid_template_areas": null,
            "grid_template_columns": null,
            "grid_template_rows": null,
            "height": null,
            "justify_content": null,
            "justify_items": null,
            "left": null,
            "margin": null,
            "max_height": null,
            "max_width": null,
            "min_height": null,
            "min_width": null,
            "object_fit": null,
            "object_position": null,
            "order": null,
            "overflow": null,
            "overflow_x": null,
            "overflow_y": null,
            "padding": null,
            "right": null,
            "top": null,
            "visibility": null,
            "width": null
          }
        },
        "99dee71616aa4abfb2aa4380ccb2ca29": {
          "model_module": "@jupyter-widgets/controls",
          "model_name": "DescriptionStyleModel",
          "model_module_version": "1.5.0",
          "state": {
            "_model_module": "@jupyter-widgets/controls",
            "_model_module_version": "1.5.0",
            "_model_name": "DescriptionStyleModel",
            "_view_count": null,
            "_view_module": "@jupyter-widgets/base",
            "_view_module_version": "1.2.0",
            "_view_name": "StyleView",
            "description_width": ""
          }
        },
        "c5bbaf33e7584d7ebe87cf3a24e249e7": {
          "model_module": "@jupyter-widgets/base",
          "model_name": "LayoutModel",
          "model_module_version": "1.2.0",
          "state": {
            "_model_module": "@jupyter-widgets/base",
            "_model_module_version": "1.2.0",
            "_model_name": "LayoutModel",
            "_view_count": null,
            "_view_module": "@jupyter-widgets/base",
            "_view_module_version": "1.2.0",
            "_view_name": "LayoutView",
            "align_content": null,
            "align_items": null,
            "align_self": null,
            "border": null,
            "bottom": null,
            "display": null,
            "flex": null,
            "flex_flow": null,
            "grid_area": null,
            "grid_auto_columns": null,
            "grid_auto_flow": null,
            "grid_auto_rows": null,
            "grid_column": null,
            "grid_gap": null,
            "grid_row": null,
            "grid_template_areas": null,
            "grid_template_columns": null,
            "grid_template_rows": null,
            "height": null,
            "justify_content": null,
            "justify_items": null,
            "left": null,
            "margin": null,
            "max_height": null,
            "max_width": null,
            "min_height": null,
            "min_width": null,
            "object_fit": null,
            "object_position": null,
            "order": null,
            "overflow": null,
            "overflow_x": null,
            "overflow_y": null,
            "padding": null,
            "right": null,
            "top": null,
            "visibility": null,
            "width": null
          }
        },
        "539b900c6682402dbacca46ee5bc8c4e": {
          "model_module": "@jupyter-widgets/controls",
          "model_name": "ProgressStyleModel",
          "model_module_version": "1.5.0",
          "state": {
            "_model_module": "@jupyter-widgets/controls",
            "_model_module_version": "1.5.0",
            "_model_name": "ProgressStyleModel",
            "_view_count": null,
            "_view_module": "@jupyter-widgets/base",
            "_view_module_version": "1.2.0",
            "_view_name": "StyleView",
            "bar_color": null,
            "description_width": ""
          }
        },
        "2d146c9dc7d74dafbb3daa69a6e94d70": {
          "model_module": "@jupyter-widgets/base",
          "model_name": "LayoutModel",
          "model_module_version": "1.2.0",
          "state": {
            "_model_module": "@jupyter-widgets/base",
            "_model_module_version": "1.2.0",
            "_model_name": "LayoutModel",
            "_view_count": null,
            "_view_module": "@jupyter-widgets/base",
            "_view_module_version": "1.2.0",
            "_view_name": "LayoutView",
            "align_content": null,
            "align_items": null,
            "align_self": null,
            "border": null,
            "bottom": null,
            "display": null,
            "flex": null,
            "flex_flow": null,
            "grid_area": null,
            "grid_auto_columns": null,
            "grid_auto_flow": null,
            "grid_auto_rows": null,
            "grid_column": null,
            "grid_gap": null,
            "grid_row": null,
            "grid_template_areas": null,
            "grid_template_columns": null,
            "grid_template_rows": null,
            "height": null,
            "justify_content": null,
            "justify_items": null,
            "left": null,
            "margin": null,
            "max_height": null,
            "max_width": null,
            "min_height": null,
            "min_width": null,
            "object_fit": null,
            "object_position": null,
            "order": null,
            "overflow": null,
            "overflow_x": null,
            "overflow_y": null,
            "padding": null,
            "right": null,
            "top": null,
            "visibility": null,
            "width": null
          }
        },
        "9a06a790e68b48b2a8b6226bfc222f12": {
          "model_module": "@jupyter-widgets/controls",
          "model_name": "DescriptionStyleModel",
          "model_module_version": "1.5.0",
          "state": {
            "_model_module": "@jupyter-widgets/controls",
            "_model_module_version": "1.5.0",
            "_model_name": "DescriptionStyleModel",
            "_view_count": null,
            "_view_module": "@jupyter-widgets/base",
            "_view_module_version": "1.2.0",
            "_view_name": "StyleView",
            "description_width": ""
          }
        }
      }
    }
  },
  "cells": [
    {
      "cell_type": "markdown",
      "metadata": {
        "id": "view-in-github",
        "colab_type": "text"
      },
      "source": [
        "<a href=\"https://colab.research.google.com/github/miteshgaonkar/bert-topics/blob/main/Copy_of_bert_topics.ipynb\" target=\"_parent\"><img src=\"https://colab.research.google.com/assets/colab-badge.svg\" alt=\"Open In Colab\"/></a>"
      ]
    },
    {
      "cell_type": "markdown",
      "metadata": {
        "id": "rjociS8Nuo4K"
      },
      "source": [
        "## Setup environment"
      ]
    },
    {
      "cell_type": "markdown",
      "metadata": {
        "id": "tiSpwZ2iXoCR"
      },
      "source": [
        "To make sure your colab doesn't disconnect due to inactivity, you can paste this code in the console of this tab (*right mouse click -> inspect -> Console tab and insert code*)."
      ]
    },
    {
      "cell_type": "markdown",
      "metadata": {
        "id": "UTcAzLYhXc2C"
      },
      "source": [
        "```\n",
        "function ConnectButton(){\n",
        "    console.log(\"Connect pushed\"); \n",
        "    document.querySelector(\"#top-toolbar > colab-connect-button\").shadowRoot.querySelector(\"#connect\").click() \n",
        "}\n",
        "\n",
        "setInterval(ConnectButton,60000);\n",
        "```"
      ]
    },
    {
      "cell_type": "markdown",
      "metadata": {
        "id": "xuM0tnlo0yky"
      },
      "source": [
        "### Requirements"
      ]
    },
    {
      "cell_type": "code",
      "metadata": {
        "colab": {
          "base_uri": "https://localhost:8080/"
        },
        "id": "rzqD61nqu_Zj",
        "outputId": "d7f150b7-7b17-4cc9-be41-38832fb98c87"
      },
      "source": [
        "# for topic models\n",
        "!pip install -U gensim\n",
        "!pip install pyLDAvis\n",
        "!pip install biterm"
      ],
      "execution_count": null,
      "outputs": [
        {
          "output_type": "stream",
          "name": "stderr",
          "text": [
            "/usr/local/lib/python3.9/dist-packages/ipykernel/ipkernel.py:283: DeprecationWarning: `should_run_async` will not call `transform_cell` automatically in the future. Please pass the result to `transformed_cell` argument and any exception that happen during thetransform in `preprocessing_exc_tuple` in IPython 7.17 and above.\n",
            "  and should_run_async(code)\n"
          ]
        },
        {
          "output_type": "stream",
          "name": "stdout",
          "text": [
            "Looking in indexes: https://pypi.org/simple, https://us-python.pkg.dev/colab-wheels/public/simple/\n",
            "Requirement already satisfied: gensim in /usr/local/lib/python3.9/dist-packages (4.3.1)\n",
            "Requirement already satisfied: smart-open>=1.8.1 in /usr/local/lib/python3.9/dist-packages (from gensim) (6.3.0)\n",
            "Requirement already satisfied: scipy>=1.7.0 in /usr/local/lib/python3.9/dist-packages (from gensim) (1.10.1)\n",
            "Requirement already satisfied: numpy>=1.18.5 in /usr/local/lib/python3.9/dist-packages (from gensim) (1.22.4)\n",
            "Looking in indexes: https://pypi.org/simple, https://us-python.pkg.dev/colab-wheels/public/simple/\n",
            "Requirement already satisfied: pyLDAvis in /usr/local/lib/python3.9/dist-packages (3.4.0)\n",
            "Requirement already satisfied: pandas>=1.3.4 in /usr/local/lib/python3.9/dist-packages (from pyLDAvis) (1.5.3)\n",
            "Requirement already satisfied: jinja2 in /usr/local/lib/python3.9/dist-packages (from pyLDAvis) (3.1.2)\n",
            "Requirement already satisfied: funcy in /usr/local/lib/python3.9/dist-packages (from pyLDAvis) (2.0)\n",
            "Requirement already satisfied: gensim in /usr/local/lib/python3.9/dist-packages (from pyLDAvis) (4.3.1)\n",
            "Requirement already satisfied: setuptools in /usr/local/lib/python3.9/dist-packages (from pyLDAvis) (67.6.1)\n",
            "Requirement already satisfied: numpy>=1.22.0 in /usr/local/lib/python3.9/dist-packages (from pyLDAvis) (1.22.4)\n",
            "Requirement already satisfied: numexpr in /usr/local/lib/python3.9/dist-packages (from pyLDAvis) (2.8.4)\n",
            "Requirement already satisfied: joblib>=1.2.0 in /usr/local/lib/python3.9/dist-packages (from pyLDAvis) (1.2.0)\n",
            "Requirement already satisfied: scipy in /usr/local/lib/python3.9/dist-packages (from pyLDAvis) (1.10.1)\n",
            "Requirement already satisfied: scikit-learn>=1.0.0 in /usr/local/lib/python3.9/dist-packages (from pyLDAvis) (1.2.2)\n",
            "Requirement already satisfied: python-dateutil>=2.8.1 in /usr/local/lib/python3.9/dist-packages (from pandas>=1.3.4->pyLDAvis) (2.8.2)\n",
            "Requirement already satisfied: pytz>=2020.1 in /usr/local/lib/python3.9/dist-packages (from pandas>=1.3.4->pyLDAvis) (2022.7.1)\n",
            "Requirement already satisfied: threadpoolctl>=2.0.0 in /usr/local/lib/python3.9/dist-packages (from scikit-learn>=1.0.0->pyLDAvis) (3.1.0)\n",
            "Requirement already satisfied: smart-open>=1.8.1 in /usr/local/lib/python3.9/dist-packages (from gensim->pyLDAvis) (6.3.0)\n",
            "Requirement already satisfied: MarkupSafe>=2.0 in /usr/local/lib/python3.9/dist-packages (from jinja2->pyLDAvis) (2.1.2)\n",
            "Requirement already satisfied: six>=1.5 in /usr/local/lib/python3.9/dist-packages (from python-dateutil>=2.8.1->pandas>=1.3.4->pyLDAvis) (1.16.0)\n",
            "Looking in indexes: https://pypi.org/simple, https://us-python.pkg.dev/colab-wheels/public/simple/\n",
            "Requirement already satisfied: biterm in /usr/local/lib/python3.9/dist-packages (0.1.5)\n",
            "Requirement already satisfied: nltk in /usr/local/lib/python3.9/dist-packages (from biterm) (3.8.1)\n",
            "Requirement already satisfied: tqdm in /usr/local/lib/python3.9/dist-packages (from biterm) (4.65.0)\n",
            "Requirement already satisfied: cython in /usr/local/lib/python3.9/dist-packages (from biterm) (0.29.34)\n",
            "Requirement already satisfied: numpy in /usr/local/lib/python3.9/dist-packages (from biterm) (1.22.4)\n",
            "Requirement already satisfied: click in /usr/local/lib/python3.9/dist-packages (from nltk->biterm) (8.1.3)\n",
            "Requirement already satisfied: joblib in /usr/local/lib/python3.9/dist-packages (from nltk->biterm) (1.2.0)\n",
            "Requirement already satisfied: regex>=2021.8.3 in /usr/local/lib/python3.9/dist-packages (from nltk->biterm) (2022.10.31)\n"
          ]
        }
      ]
    },
    {
      "cell_type": "code",
      "metadata": {
        "colab": {
          "base_uri": "https://localhost:8080/"
        },
        "id": "hkKg4D3d03co",
        "outputId": "16ba4c6f-177b-41bc-896f-5d4aa454edc5"
      },
      "source": [
        "# !pip install sentence_transformers==0.2.5.1\n",
        "!pip install transformers==2.3.0"
      ],
      "execution_count": null,
      "outputs": [
        {
          "output_type": "stream",
          "name": "stderr",
          "text": [
            "/usr/local/lib/python3.9/dist-packages/ipykernel/ipkernel.py:283: DeprecationWarning: `should_run_async` will not call `transform_cell` automatically in the future. Please pass the result to `transformed_cell` argument and any exception that happen during thetransform in `preprocessing_exc_tuple` in IPython 7.17 and above.\n",
            "  and should_run_async(code)\n"
          ]
        },
        {
          "output_type": "stream",
          "name": "stdout",
          "text": [
            "Looking in indexes: https://pypi.org/simple, https://us-python.pkg.dev/colab-wheels/public/simple/\n",
            "Requirement already satisfied: transformers==2.3.0 in /usr/local/lib/python3.9/dist-packages (2.3.0)\n",
            "Requirement already satisfied: boto3 in /usr/local/lib/python3.9/dist-packages (from transformers==2.3.0) (1.26.111)\n",
            "Requirement already satisfied: sacremoses in /usr/local/lib/python3.9/dist-packages (from transformers==2.3.0) (0.0.53)\n",
            "Requirement already satisfied: numpy in /usr/local/lib/python3.9/dist-packages (from transformers==2.3.0) (1.22.4)\n",
            "Requirement already satisfied: sentencepiece in /usr/local/lib/python3.9/dist-packages (from transformers==2.3.0) (0.1.97)\n",
            "Requirement already satisfied: tqdm in /usr/local/lib/python3.9/dist-packages (from transformers==2.3.0) (4.65.0)\n",
            "Requirement already satisfied: requests in /usr/local/lib/python3.9/dist-packages (from transformers==2.3.0) (2.27.1)\n",
            "Requirement already satisfied: regex!=2019.12.17 in /usr/local/lib/python3.9/dist-packages (from transformers==2.3.0) (2022.10.31)\n",
            "Requirement already satisfied: botocore<1.30.0,>=1.29.111 in /usr/local/lib/python3.9/dist-packages (from boto3->transformers==2.3.0) (1.29.111)\n",
            "Requirement already satisfied: s3transfer<0.7.0,>=0.6.0 in /usr/local/lib/python3.9/dist-packages (from boto3->transformers==2.3.0) (0.6.0)\n",
            "Requirement already satisfied: jmespath<2.0.0,>=0.7.1 in /usr/local/lib/python3.9/dist-packages (from boto3->transformers==2.3.0) (1.0.1)\n",
            "Requirement already satisfied: idna<4,>=2.5 in /usr/local/lib/python3.9/dist-packages (from requests->transformers==2.3.0) (3.4)\n",
            "Requirement already satisfied: charset-normalizer~=2.0.0 in /usr/local/lib/python3.9/dist-packages (from requests->transformers==2.3.0) (2.0.12)\n",
            "Requirement already satisfied: certifi>=2017.4.17 in /usr/local/lib/python3.9/dist-packages (from requests->transformers==2.3.0) (2022.12.7)\n",
            "Requirement already satisfied: urllib3<1.27,>=1.21.1 in /usr/local/lib/python3.9/dist-packages (from requests->transformers==2.3.0) (1.26.15)\n",
            "Requirement already satisfied: six in /usr/local/lib/python3.9/dist-packages (from sacremoses->transformers==2.3.0) (1.16.0)\n",
            "Requirement already satisfied: joblib in /usr/local/lib/python3.9/dist-packages (from sacremoses->transformers==2.3.0) (1.2.0)\n",
            "Requirement already satisfied: click in /usr/local/lib/python3.9/dist-packages (from sacremoses->transformers==2.3.0) (8.1.3)\n",
            "Requirement already satisfied: python-dateutil<3.0.0,>=2.1 in /usr/local/lib/python3.9/dist-packages (from botocore<1.30.0,>=1.29.111->boto3->transformers==2.3.0) (2.8.2)\n"
          ]
        }
      ]
    },
    {
      "cell_type": "code",
      "metadata": {
        "id": "KWeXkRrVPFu0",
        "colab": {
          "base_uri": "https://localhost:8080/"
        },
        "outputId": "37d47931-0a30-49d0-8446-7dcb9640d35d"
      },
      "source": [
        "!python -m textblob.download_corpora"
      ],
      "execution_count": null,
      "outputs": [
        {
          "output_type": "stream",
          "name": "stderr",
          "text": [
            "/usr/local/lib/python3.9/dist-packages/ipykernel/ipkernel.py:283: DeprecationWarning: `should_run_async` will not call `transform_cell` automatically in the future. Please pass the result to `transformed_cell` argument and any exception that happen during thetransform in `preprocessing_exc_tuple` in IPython 7.17 and above.\n",
            "  and should_run_async(code)\n"
          ]
        },
        {
          "output_type": "stream",
          "name": "stdout",
          "text": [
            "[nltk_data] Downloading package brown to /root/nltk_data...\n",
            "[nltk_data]   Package brown is already up-to-date!\n",
            "[nltk_data] Downloading package punkt to /root/nltk_data...\n",
            "[nltk_data]   Package punkt is already up-to-date!\n",
            "[nltk_data] Downloading package wordnet to /root/nltk_data...\n",
            "[nltk_data]   Package wordnet is already up-to-date!\n",
            "[nltk_data] Downloading package averaged_perceptron_tagger to\n",
            "[nltk_data]     /root/nltk_data...\n",
            "[nltk_data]   Package averaged_perceptron_tagger is already up-to-\n",
            "[nltk_data]       date!\n",
            "[nltk_data] Downloading package conll2000 to /root/nltk_data...\n",
            "[nltk_data]   Package conll2000 is already up-to-date!\n",
            "[nltk_data] Downloading package movie_reviews to /root/nltk_data...\n",
            "[nltk_data]   Package movie_reviews is already up-to-date!\n",
            "Finished.\n"
          ]
        }
      ]
    },
    {
      "cell_type": "markdown",
      "metadata": {
        "id": "C-ISIntU1Rvr"
      },
      "source": [
        "### Imports"
      ]
    },
    {
      "cell_type": "code",
      "metadata": {
        "id": "G4GZRMkfuuO6",
        "colab": {
          "base_uri": "https://localhost:8080/"
        },
        "outputId": "ae54c3bc-7afe-4705-95eb-32d380b27825"
      },
      "source": [
        "import pandas as pd\n",
        "import numpy as np\n",
        "import itertools\n",
        "import random\n",
        "from pathlib import Path\n",
        "import json\n",
        "import time\n",
        "import datetime\n",
        "from tqdm.notebook import tqdm\n",
        "import matplotlib.pyplot as plt\n",
        "import re\n",
        "import math"
      ],
      "execution_count": null,
      "outputs": [
        {
          "output_type": "stream",
          "name": "stderr",
          "text": [
            "/usr/local/lib/python3.9/dist-packages/ipykernel/ipkernel.py:283: DeprecationWarning: `should_run_async` will not call `transform_cell` automatically in the future. Please pass the result to `transformed_cell` argument and any exception that happen during thetransform in `preprocessing_exc_tuple` in IPython 7.17 and above.\n",
            "  and should_run_async(code)\n"
          ]
        }
      ]
    },
    {
      "cell_type": "code",
      "metadata": {
        "id": "IIAFmTYfrhk8",
        "colab": {
          "base_uri": "https://localhost:8080/"
        },
        "outputId": "cd1d34da-0eeb-4758-e634-b0de429cc407"
      },
      "source": [
        "# clustering / topic model modules\n",
        "from sklearn.cluster import KMeans\n",
        "from collections import Counter\n",
        "from gensim.models.phrases import Phrases, Phraser\n",
        "from sklearn.feature_extraction.text import TfidfVectorizer\n",
        "from textblob import TextBlob, Word\n",
        "import time"
      ],
      "execution_count": null,
      "outputs": [
        {
          "output_type": "stream",
          "name": "stderr",
          "text": [
            "/usr/local/lib/python3.9/dist-packages/ipykernel/ipkernel.py:283: DeprecationWarning: `should_run_async` will not call `transform_cell` automatically in the future. Please pass the result to `transformed_cell` argument and any exception that happen during thetransform in `preprocessing_exc_tuple` in IPython 7.17 and above.\n",
            "  and should_run_async(code)\n"
          ]
        }
      ]
    },
    {
      "cell_type": "code",
      "metadata": {
        "id": "XeIkdWPEAu5b",
        "colab": {
          "base_uri": "https://localhost:8080/"
        },
        "outputId": "9a9501b2-7675-4a94-b726-3212a2bad958"
      },
      "source": [
        "# neural network modules\n",
        "import torch\n",
        "from torch import nn\n",
        "from torch.utils.data import TensorDataset, DataLoader, RandomSampler\n",
        "from transformers import (BertTokenizer, BertModel, BertPreTrainedModel, AdamW,\n",
        "                          get_linear_schedule_with_warmup,\n",
        "                          )"
      ],
      "execution_count": null,
      "outputs": [
        {
          "output_type": "stream",
          "name": "stderr",
          "text": [
            "/usr/local/lib/python3.9/dist-packages/ipykernel/ipkernel.py:283: DeprecationWarning: `should_run_async` will not call `transform_cell` automatically in the future. Please pass the result to `transformed_cell` argument and any exception that happen during thetransform in `preprocessing_exc_tuple` in IPython 7.17 and above.\n",
            "  and should_run_async(code)\n"
          ]
        }
      ]
    },
    {
      "cell_type": "code",
      "metadata": {
        "id": "G0Ejaydyt8s-",
        "colab": {
          "base_uri": "https://localhost:8080/"
        },
        "outputId": "6416029c-fd95-4201-8a5e-6c0d5182acac"
      },
      "source": [
        "# lda modules\n",
        "import gensim\n",
        "import gensim.corpora as corpora\n",
        "from gensim.utils import simple_preprocess\n",
        "import pyLDAvis\n",
        "import nltk\n",
        "nltk.download('stopwords')\n",
        "from nltk.corpus import stopwords\n",
        "from nltk.tokenize import RegexpTokenizer"
      ],
      "execution_count": null,
      "outputs": [
        {
          "output_type": "stream",
          "name": "stderr",
          "text": [
            "/usr/local/lib/python3.9/dist-packages/ipykernel/ipkernel.py:283: DeprecationWarning: `should_run_async` will not call `transform_cell` automatically in the future. Please pass the result to `transformed_cell` argument and any exception that happen during thetransform in `preprocessing_exc_tuple` in IPython 7.17 and above.\n",
            "  and should_run_async(code)\n",
            "[nltk_data] Downloading package stopwords to /root/nltk_data...\n",
            "[nltk_data]   Package stopwords is already up-to-date!\n"
          ]
        }
      ]
    },
    {
      "cell_type": "code",
      "metadata": {
        "id": "XZXWQ3D9wLsR",
        "colab": {
          "base_uri": "https://localhost:8080/"
        },
        "outputId": "8d24aaf8-e70c-4a0d-8df5-672326005539"
      },
      "source": [
        "# btm modules\n",
        "from sklearn.feature_extraction.text import CountVectorizer\n",
        "from biterm.utility import vec_to_biterms, topic_summuary\n",
        "from biterm.btm import oBTM"
      ],
      "execution_count": null,
      "outputs": [
        {
          "output_type": "stream",
          "name": "stderr",
          "text": [
            "/usr/local/lib/python3.9/dist-packages/ipykernel/ipkernel.py:283: DeprecationWarning: `should_run_async` will not call `transform_cell` automatically in the future. Please pass the result to `transformed_cell` argument and any exception that happen during thetransform in `preprocessing_exc_tuple` in IPython 7.17 and above.\n",
            "  and should_run_async(code)\n"
          ]
        }
      ]
    },
    {
      "cell_type": "code",
      "metadata": {
        "id": "3Hn45H0nbpR8",
        "colab": {
          "base_uri": "https://localhost:8080/"
        },
        "outputId": "22dad847-d6c2-4b6e-915b-4ba1fc61dabd"
      },
      "source": [
        "# coherence modules\n",
        "\n",
        "from gensim.corpora import Dictionary\n",
        "from gensim.models.coherencemodel import CoherenceModel"
      ],
      "execution_count": null,
      "outputs": [
        {
          "output_type": "stream",
          "name": "stderr",
          "text": [
            "/usr/local/lib/python3.9/dist-packages/ipykernel/ipkernel.py:283: DeprecationWarning: `should_run_async` will not call `transform_cell` automatically in the future. Please pass the result to `transformed_cell` argument and any exception that happen during thetransform in `preprocessing_exc_tuple` in IPython 7.17 and above.\n",
            "  and should_run_async(code)\n"
          ]
        }
      ]
    },
    {
      "cell_type": "code",
      "metadata": {
        "id": "GvuwPZJ96va4",
        "colab": {
          "base_uri": "https://localhost:8080/"
        },
        "outputId": "acaf5ee5-2630-471b-8dc4-af373861fd8b"
      },
      "source": [
        "# data downloading\n",
        "import requests\n",
        "from zipfile import ZipFile"
      ],
      "execution_count": null,
      "outputs": [
        {
          "output_type": "stream",
          "name": "stderr",
          "text": [
            "/usr/local/lib/python3.9/dist-packages/ipykernel/ipkernel.py:283: DeprecationWarning: `should_run_async` will not call `transform_cell` automatically in the future. Please pass the result to `transformed_cell` argument and any exception that happen during thetransform in `preprocessing_exc_tuple` in IPython 7.17 and above.\n",
            "  and should_run_async(code)\n"
          ]
        }
      ]
    },
    {
      "cell_type": "code",
      "metadata": {
        "id": "hsbHxFsZ6uCW",
        "colab": {
          "base_uri": "https://localhost:8080/"
        },
        "outputId": "0695018f-d571-4c7e-eee3-6a1a7eb8e6f2"
      },
      "source": [
        "# types\n",
        "from typing import List, Tuple, Dict"
      ],
      "execution_count": null,
      "outputs": [
        {
          "output_type": "stream",
          "name": "stderr",
          "text": [
            "/usr/local/lib/python3.9/dist-packages/ipykernel/ipkernel.py:283: DeprecationWarning: `should_run_async` will not call `transform_cell` automatically in the future. Please pass the result to `transformed_cell` argument and any exception that happen during thetransform in `preprocessing_exc_tuple` in IPython 7.17 and above.\n",
            "  and should_run_async(code)\n"
          ]
        }
      ]
    },
    {
      "cell_type": "code",
      "metadata": {
        "id": "jO922CmwBs0k",
        "colab": {
          "base_uri": "https://localhost:8080/"
        },
        "outputId": "2bc2035b-f460-4dd4-e0d4-25fdde69a261"
      },
      "source": [
        "# plots\n",
        "import matplotlib.pyplot as plt\n",
        "import matplotlib as mpl\n",
        "import seaborn as sns\n",
        "from matplotlib.colors import ListedColormap\n",
        "from IPython.display import Image"
      ],
      "execution_count": null,
      "outputs": [
        {
          "output_type": "stream",
          "name": "stderr",
          "text": [
            "/usr/local/lib/python3.9/dist-packages/ipykernel/ipkernel.py:283: DeprecationWarning: `should_run_async` will not call `transform_cell` automatically in the future. Please pass the result to `transformed_cell` argument and any exception that happen during thetransform in `preprocessing_exc_tuple` in IPython 7.17 and above.\n",
            "  and should_run_async(code)\n"
          ]
        }
      ]
    },
    {
      "cell_type": "markdown",
      "metadata": {
        "id": "l5CH_Rsfu7Wg"
      },
      "source": [
        "## Download data"
      ]
    },
    {
      "cell_type": "markdown",
      "metadata": {
        "id": "nIT77KdH3RgI"
      },
      "source": [
        "### Winter Storm Jacob 2020"
      ]
    },
    {
      "cell_type": "code",
      "metadata": {
        "id": "2vFSyZVKuvFe",
        "colab": {
          "base_uri": "https://localhost:8080/"
        },
        "outputId": "c0fac9ed-5854-4a95-fd4c-6b853272dd9d"
      },
      "source": [
        "nlwx_df = pd.read_csv('https://drive.google.com/uc?export=download&id=1wYsKTuKabfS7wrVYJ1yu9Sk0cHF7BDhN')\n",
        "#The above block of code is reading a CSV file from a Google Drive link and storing it as a pandas DataFrame object in the variable nlwx_df. The link in the code is a download link for a CSV file stored in Google Drive, and the pd.read_csv() function from the pandas library is used to read the CSV data and create a DataFrame object"
      ],
      "execution_count": null,
      "outputs": [
        {
          "output_type": "stream",
          "name": "stderr",
          "text": [
            "/usr/local/lib/python3.9/dist-packages/ipykernel/ipkernel.py:283: DeprecationWarning: `should_run_async` will not call `transform_cell` automatically in the future. Please pass the result to `transformed_cell` argument and any exception that happen during thetransform in `preprocessing_exc_tuple` in IPython 7.17 and above.\n",
            "  and should_run_async(code)\n"
          ]
        }
      ]
    },
    {
      "cell_type": "code",
      "metadata": {
        "id": "GII84hk0xkTh",
        "colab": {
          "base_uri": "https://localhost:8080/"
        },
        "outputId": "3b9da5f7-fa69-4b3d-be9e-4a1215f9f98a"
      },
      "source": [
        "#nlwx_df.head()"
      ],
      "execution_count": null,
      "outputs": [
        {
          "output_type": "stream",
          "name": "stderr",
          "text": [
            "/usr/local/lib/python3.9/dist-packages/ipykernel/ipkernel.py:283: DeprecationWarning: `should_run_async` will not call `transform_cell` automatically in the future. Please pass the result to `transformed_cell` argument and any exception that happen during thetransform in `preprocessing_exc_tuple` in IPython 7.17 and above.\n",
            "  and should_run_async(code)\n"
          ]
        }
      ]
    },
    {
      "cell_type": "markdown",
      "metadata": {
        "id": "h526UzzW3aoj"
      },
      "source": [
        "### CrisisNLP\n",
        "Dowload CrisisNLP tweets (annotated by paid workers on crowdflower). \n",
        "\n",
        "For more information on dataset see: https://crisisnlp.qcri.org/lrec2016/lrec2016.html"
      ]
    },
    {
      "cell_type": "code",
      "metadata": {
        "id": "WKUYFDqb1ZeV"
      },
      "source": [
        "# download already filtered/split datasets\n",
        "CRISIS_NLP_URL = 'https://drive.google.com/uc?export=download&id=1a5eWNUBKYb-RYQ9THU_GLRX2EaBh5spK'\n",
        "DATA_PATH = Path.cwd()\n",
        "CRISIS_NLP_PATH = DATA_PATH / \"LREC_2016_datasets.zip\"\n",
        "\n",
        "r = requests.get(CRISIS_NLP_URL)\n",
        "with CRISIS_NLP_PATH.open(\"wb\") as f:\n",
        "    f.write(r.content)\n",
        "\n",
        "with ZipFile(CRISIS_NLP_PATH) as z:\n",
        "    z.extractall(DATA_PATH)"
      ],
      "execution_count": null,
      "outputs": []
    },
    {
      "cell_type": "markdown",
      "source": [
        "The below code downloads and processes data from the CrisisNLP dataset for text classification tasks. The script downloads a zip file from a URL, extracts the contents of the zip file, and then performs a train-test split on the CSV files in the extracted data directory. The DOWNLOAD_ORIGINAL variable is a boolean flag that determines whether to download the data or not. If it is set to True, the script will download the data; otherwise, it will assume the data has already been downloaded.\n",
        "\n",
        "The create_train_test_split function takes as input a CSV file path, a label column name, and a split ratio. It reads in the CSV file, shuffles the rows, and then splits the data into train and test sets based on the label column. The function then writes the resulting train and test sets to new CSV files in the same directory as the original file.\n",
        "\n",
        "The script loops through all the CSV files in the extracted CrisisNLP dataset directory (excluding any that already have \"train\" or \"test\" in their file names), calls the create_train_test_split function on each CSV file, and outputs the label distribution of the resulting train and test sets."
      ],
      "metadata": {
        "id": "jorIbtekzcKi"
      }
    },
    {
      "cell_type": "code",
      "metadata": {
        "id": "0M4cDkEF3eg5",
        "colab": {
          "base_uri": "https://localhost:8080/"
        },
        "outputId": "cf4639f2-3b2a-4767-ee26-ff0afd37e8cf"
      },
      "source": [
        "# The following code downloads and processes data from the CrisisNLP dataset for text classification tasks. \n",
        "# The script downloads a zip file from a URL, extracts the contents of the zip file, \n",
        "# and then performs a train-test split on the CSV files in the extracted data directory. \n",
        "# The DOWNLOAD_ORIGINAL variable is a boolean flag that determines whether to download the data or not. \n",
        "# If it is set to True, the script will download the data; otherwise, it will assume the data has already been downloaded.\n",
        "# download and split original data from CrisisNLP (might be rate-limited)\n",
        "DOWNLOAD_ORIGINAL = False \n",
        "\n",
        "if DOWNLOAD_ORIGINAL:\n",
        "    DATA_PATH = Path.cwd()\n",
        "    CRISIS_NLP_PATH = DATA_PATH / \"LREC_2016_datasets.zip\"\n",
        "\n",
        "    CRISIS_NLP_URL = \"https://crisisnlp.qcri.org/data/lrec2016/labeled_cf/CrisisNLP_labeled_data_crowdflower.zip\"\n",
        "    CRISIS_NLP_DIR = \"CrisisNLP_labeled_data_crowdflower\"\n",
        "    label_col = \"choose_one_category\"\n",
        "\n",
        "    r = requests.get(CRISIS_NLP_URL)\n",
        "\n",
        "    with CRISIS_NLP_PATH.open(\"wb\") as f:\n",
        "        f.write(r.content)\n",
        "\n",
        "    with ZipFile(CRISIS_NLP_PATH) as z:\n",
        "        z.extractall(DATA_PATH)\n",
        "\n",
        "    for zip_file in (DATA_PATH / CRISIS_NLP_DIR).glob(\"*/*.zip\"):\n",
        "        print(f\"unzipping {zip_file}\")\n",
        "        with ZipFile(zip_file) as z:\n",
        "            z.extractall(zip_file.parent)\n",
        "\n",
        "    # The create_train_test_split function takes as input a CSV file path, a label column name, and a split ratio. \n",
        "    # It reads in the CSV file, shuffles the rows, and then splits the data into train and test sets based on the label column. \n",
        "    # The function then writes the resulting train and test sets to new CSV files in the same directory as the original file.\n",
        "    def create_train_test_split(csv_path: Path, label_col, split: float = 0.8):\n",
        "        df = pd.read_csv(csv_path, encoding = \"ISO-8859-1\").sample(frac=1).reset_index(drop=True)\n",
        "        train_df = pd.DataFrame(columns=df.columns)\n",
        "        test_df = pd.DataFrame(columns=df.columns)\n",
        "        train_path = csv_path.parent / f\"{csv_path.stem}_train.csv\"\n",
        "        test_path = csv_path.parent / f\"{csv_path.stem}_test.csv\"\n",
        "        for label in df[label_col].unique():\n",
        "            label_df = df.loc[df[label_col] == label]\n",
        "            train_df = train_df.append(label_df[:int(len(label_df)*split)])\n",
        "            test_df = test_df.append(label_df[int(len(label_df)*split):])\n",
        "\n",
        "        print(f\"Train set:\\n{train_df[label_col].value_counts()}\")\n",
        "        print(f\"Test set:\\n{test_df[label_col].value_counts()}\")\n",
        "        print(\"-\"*80)\n",
        "        train_df.to_csv(train_path)\n",
        "        test_df.to_csv(test_path)\n",
        "\n",
        "    # The script loops through all the CSV files in the extracted CrisisNLP dataset directory \n",
        "    # (excluding any that already have \"train\" or \"test\" in their file names), \n",
        "    # calls the create_train_test_split function on each CSV file, and outputs the label distribution of the resulting train and test sets.\n",
        "    split = 0.8\n",
        "    for csv_path in (DATA_PATH / CRISIS_NLP_DIR).glob(\"*/*.csv\"):\n",
        "        if \"train\" in str(csv_path) or \"test\" in str(csv_path):\n",
        "            continue\n",
        "        else:\n",
        "            print(f\"Splitting: {csv_path.parent}\")\n",
        "            create_train_test_split(csv_path, label_col, split)"
      ],
      "execution_count": null,
      "outputs": [
        {
          "output_type": "stream",
          "name": "stderr",
          "text": [
            "/usr/local/lib/python3.9/dist-packages/ipykernel/ipkernel.py:283: DeprecationWarning: `should_run_async` will not call `transform_cell` automatically in the future. Please pass the result to `transformed_cell` argument and any exception that happen during thetransform in `preprocessing_exc_tuple` in IPython 7.17 and above.\n",
            "  and should_run_async(code)\n"
          ]
        }
      ]
    },
    {
      "cell_type": "markdown",
      "metadata": {
        "id": "5yQzNq8nvv1D"
      },
      "source": [
        "## FTE Model"
      ]
    },
    {
      "cell_type": "markdown",
      "metadata": {
        "id": "tfrSulS0u-8Q"
      },
      "source": [
        "### Finetune model"
      ]
    },
    {
      "cell_type": "code",
      "metadata": {
        "id": "E8km6oMCQk-O",
        "colab": {
          "base_uri": "https://localhost:8080/"
        },
        "outputId": "6b845ef6-5672-440e-fde8-878bf9cdef05"
      },
      "source": [
        "# skip finetuning and load pre-finetuned model\n",
        "FINETUNE = False\n",
        "\n",
        "# Dataloader\n",
        "BSZ = 8\n",
        "\n",
        "# Optimizer\n",
        "LR = 2e-5\n",
        "EPS = 1e-8 \n",
        "\n",
        "# Training\n",
        "N_EPOCHS = 2 # Model converges within 2 epochs\n",
        "\n",
        "# Random seed\n",
        "SEED = 42\n",
        "random.seed(SEED)\n",
        "np.random.seed(SEED)\n",
        "torch.manual_seed(SEED)\n",
        "torch.cuda.manual_seed_all(SEED)\n",
        "\n",
        "\n",
        "#FINETUNE: A boolean flag indicating whether to perform fine-tuning of a pre-trained model or just load a pre-finetuned model. It is set to False, indicating that a pre-finetuned model will be loaded.\n",
        "\n",
        "#BSZ: The batch size of the data loader, which is set to 8.\n",
        "\n",
        "#LR: The learning rate of the optimizer, which is set to 2e-5.\n",
        "\n",
        "#EPS: The epsilon value for numerical stability in the optimizer, which is set to 1e-8.\n",
        "\n",
        "#N_EPOCHS: The number of epochs for training the model, which is set to 2.\n",
        "\n",
        "#SEED: The random seed for reproducibility of the results. It is set to 42, and then the random seed is set for Python's built-in random module, NumPy, and the random number generators of the CPU and GPU of the PyTorch library.\n"
      ],
      "execution_count": null,
      "outputs": [
        {
          "output_type": "stream",
          "name": "stderr",
          "text": [
            "/usr/local/lib/python3.9/dist-packages/ipykernel/ipkernel.py:283: DeprecationWarning: `should_run_async` will not call `transform_cell` automatically in the future. Please pass the result to `transformed_cell` argument and any exception that happen during thetransform in `preprocessing_exc_tuple` in IPython 7.17 and above.\n",
            "  and should_run_async(code)\n"
          ]
        }
      ]
    },
    {
      "cell_type": "code",
      "metadata": {
        "id": "MMXopAYqVqmb",
        "colab": {
          "base_uri": "https://localhost:8080/"
        },
        "outputId": "4114f7ce-bc41-4b14-9a63-e59bda7c92e6"
      },
      "source": [
        "device = torch.device(\"cuda\" if torch.cuda.is_available() else \"cpu\")\n",
        "print(f\"Using device: {device}\")\n",
        "\n",
        "#The above code block is determining and printing whether the code will use a GPU or CPU for running the deep learning model, and then assigning the device to a variable named device.\n",
        "\n",
        "#The first line of the code checks whether a CUDA-enabled GPU is available on the machine where the code is running by calling torch.cuda.is_available(). If a GPU is available, the device will be set to \"cuda\" to use the GPU; otherwise, it will be set to \"cpu\" to use the CPU.\n",
        "\n",
        "#The second line of the code prints a message indicating which device is being used, either \"cuda\" or \"cpu\".\n",
        "\n",
        "#The device variable is then assigned the device type, and it will be used in the subsequent code for moving the model and data tensors to the device during the training and inference phases."
      ],
      "execution_count": null,
      "outputs": [
        {
          "output_type": "stream",
          "name": "stderr",
          "text": [
            "/usr/local/lib/python3.9/dist-packages/ipykernel/ipkernel.py:283: DeprecationWarning: `should_run_async` will not call `transform_cell` automatically in the future. Please pass the result to `transformed_cell` argument and any exception that happen during thetransform in `preprocessing_exc_tuple` in IPython 7.17 and above.\n",
            "  and should_run_async(code)\n"
          ]
        },
        {
          "output_type": "stream",
          "name": "stdout",
          "text": [
            "Using device: cuda\n"
          ]
        }
      ]
    },
    {
      "cell_type": "markdown",
      "metadata": {
        "id": "adRV3DAk21tF"
      },
      "source": [
        "#### Create dataloaders"
      ]
    },
    {
      "cell_type": "code",
      "metadata": {
        "id": "bfTkVvefvEg-",
        "colab": {
          "base_uri": "https://localhost:8080/"
        },
        "outputId": "6abc5ed9-2621-40fd-d337-4e80170baa90"
      },
      "source": [
        "# The below code reads in data from the CrisisNLP dataset for text classification tasks. \n",
        "# The FINETUNE variable is a boolean flag that determines whether to run this part of the script or not. \n",
        "# If it is set to True, the script will read in the data; otherwise, it will assume the data has already been read in.\n",
        "if FINETUNE:\n",
        "  # read data\n",
        "  DATA_PATH = Path.cwd() / \"CrisisNLP_labeled_data_crowdflower\"\n",
        "  PATHS = [\"2014_California_Earthquake\", \"2014_Chile_Earthquake_en\", \n",
        "          \"2013_Pakistan_eq\", \"2014_Hurricane_Odile_Mexico_en\",\n",
        "          \"2014_India_floods\", \"2014_Pakistan_floods\", \n",
        "          \"2014_Philippines_Typhoon_Hagupit_en\",\"2015_Cyclone_Pam_en\",\n",
        "          \"2015_Nepal_Earthquake_en\"]\n",
        "\n",
        "# The read_data function that takes as input a directory path, a list of event names, \n",
        "# a string indicating whether to read the \"train\" or \"test\" data, and column names for the text and label columns in the CSV files. \n",
        "# The function reads in the CSV files for each event and concatenates the text and label columns into a list of tuples, \n",
        "# where each tuple contains a text string and its corresponding label.\n",
        "  def read_data(\n",
        "          data_dir: Path, \n",
        "          events: List[str], \n",
        "          train_test: str, \n",
        "          text_col: str = \"tweet_text\", \n",
        "          label_col: str = \"choose_one_category\"\n",
        "          ) -> List[Tuple[str, str]]:\n",
        "      data = []\n",
        "      for event in events:\n",
        "          csv_paths = list((data_dir / event).glob(f\"*_{train_test}.csv\"))\n",
        "          assert len(csv_paths) == 1, f\"Found files:{csv_paths}\\n for event {event}\"\n",
        "\n",
        "          df = pd.read_csv(csv_paths[0], encoding = \"ISO-8859-1\")\n",
        "          data.extend(list(zip(df[text_col], df[label_col])))\n",
        "      return(data)\n",
        "      \n",
        "# The code then calls read_data twice to read in the training and validation data for the specified events in the CrisisNLP dataset. \n",
        "# The data_train and data_val variables are lists of tuples, where each tuple contains a text string and its corresponding label. \n",
        "# Finally, the script prints out the number of examples in each dataset and an example tuple from each dataset.\n",
        "  data_train = read_data(DATA_PATH, PATHS, \"train\")\n",
        "  data_val = read_data(DATA_PATH, PATHS, \"test\")\n",
        "\n",
        "  # Note: there seems to be issues with the encoding of the CrisisNLP data\n",
        "  print(f\"Training data: {len(data_train)} examples; e.g. {data_train[0]}\")\n",
        "  print(f\"Validation data: {len(data_val)} examples; e.g. {data_val[0]}\")"
      ],
      "execution_count": null,
      "outputs": [
        {
          "output_type": "stream",
          "name": "stderr",
          "text": [
            "/usr/local/lib/python3.9/dist-packages/ipykernel/ipkernel.py:283: DeprecationWarning: `should_run_async` will not call `transform_cell` automatically in the future. Please pass the result to `transformed_cell` argument and any exception that happen during thetransform in `preprocessing_exc_tuple` in IPython 7.17 and above.\n",
            "  and should_run_async(code)\n"
          ]
        }
      ]
    },
    {
      "cell_type": "code",
      "metadata": {
        "id": "-oxSKZLmEJ79",
        "colab": {
          "base_uri": "https://localhost:8080/"
        },
        "outputId": "8b30f458-279b-4add-a8a5-ee15ddd6241d"
      },
      "source": [
        "# In the above code, if the FINETUNE flag is set to true, a data loader is created for the BERT-based model. \n",
        "# First, a tokenizer is created using the 'bert-base-uncased' pre-trained model. \n",
        "# Next, the training and validation labels are extracted from the input data. \n",
        "# A dictionary mapping labels to integer indices is created using the training and validation labels. \n",
        "# A function called 'create_dataloader' is defined which takes as input the data, tokenizer, label-to-index dictionary, \n",
        "# and batch size, and returns a PyTorch dataloader object. \n",
        "# The 'create_dataloader' function encodes the input texts using the tokenizer, converts the labels to a PyTorch tensor, \n",
        "# and returns a 'TensorDataset' object which is then fed to a PyTorch 'DataLoader' object. \n",
        "# Finally, the data loader is created for both training and validation sets using the 'create_dataloader' function.\n",
        "if FINETUNE:\n",
        "  # create data loader\n",
        "  tokenizer = BertTokenizer.from_pretrained('bert-base-uncased', do_lower_case=True)\n",
        "\n",
        "  train_labels = [tpl[1] for tpl in data_train]\n",
        "  val_labels = [tpl[1] for tpl in data_val]\n",
        "  ltoi = {l: i for i,l in enumerate(set(train_labels + val_labels))}\n",
        "\n",
        "  def create_dataloader(\n",
        "          data: List[Tuple[str, str]],\n",
        "          tokenizer: BertTokenizer,\n",
        "          ltoi: Dict[str, int],\n",
        "          batch_size: int\n",
        "          ):\n",
        "      texts_raw = [tpl[0] for tpl in data]\n",
        "      d = tokenizer.batch_encode_plus(\n",
        "          texts_raw, add_special_tokens=True, return_tensors='pt',\n",
        "      )\n",
        "      labels = [tpl[1] for tpl in data]\n",
        "      labels = torch.LongTensor([ltoi[l] for l in labels])\n",
        "\n",
        "      ds = TensorDataset(d['input_ids'], d['attention_mask'], labels)\n",
        "      sampler = RandomSampler(ds)\n",
        "      dataloader = DataLoader(ds, sampler=sampler, batch_size=batch_size)\n",
        "      return(dataloader)\n",
        "\n",
        "  train_dataloader = create_dataloader(data_train, tokenizer, ltoi, BSZ)\n",
        "  val_dataloader = create_dataloader(data_val, tokenizer, ltoi, BSZ)"
      ],
      "execution_count": null,
      "outputs": [
        {
          "output_type": "stream",
          "name": "stderr",
          "text": [
            "/usr/local/lib/python3.9/dist-packages/ipykernel/ipkernel.py:283: DeprecationWarning: `should_run_async` will not call `transform_cell` automatically in the future. Please pass the result to `transformed_cell` argument and any exception that happen during thetransform in `preprocessing_exc_tuple` in IPython 7.17 and above.\n",
            "  and should_run_async(code)\n"
          ]
        }
      ]
    },
    {
      "cell_type": "markdown",
      "metadata": {
        "id": "ynM2H2umGlG-"
      },
      "source": [
        "#### Initialize model"
      ]
    },
    {
      "cell_type": "code",
      "metadata": {
        "id": "5eVTg9nvG15O",
        "colab": {
          "base_uri": "https://localhost:8080/"
        },
        "outputId": "604cc2ee-9499-4926-d8ca-d872d6ad743e"
      },
      "source": [
        "# The code defines a PyTorch model class BertForSequenceClassificationOutputPooled, which is a subclass of the BertPreTrainedModel class. \n",
        "# This model is designed for sequence classification using the BERT architecture.\n",
        "class BertForSequenceClassificationOutputPooled(BertPreTrainedModel):\n",
        "  # The __init__ method initializes the model architecture with a BERT model, a dropout layer, and a linear classifier. \n",
        "  # The forward method defines the forward pass of the model. \n",
        "  # The inputs are passed through the BERT model, and the output is pooled to create a representation of the input sequence. \n",
        "  # This pooled output is passed through the dropout layer and then through the linear classifier to produce logits.\n",
        "    def __init__(self, config):\n",
        "        super().__init__(config)\n",
        "        self.bert = BertModel(config)\n",
        "        self.dropout = nn.Dropout(config.hidden_dropout_prob)\n",
        "        self.classifier = nn.Linear(config.hidden_size, config.num_labels)\n",
        "        self.init_weights()\n",
        "\n",
        "    def forward(\n",
        "        self,\n",
        "        input_ids=None,\n",
        "        attention_mask=None,\n",
        "        token_type_ids=None,\n",
        "        position_ids=None,\n",
        "        head_mask=None,\n",
        "        inputs_embeds=None,\n",
        "        labels=None,\n",
        "    ):\n",
        "        outputs = self.bert(\n",
        "            input_ids,\n",
        "            attention_mask=attention_mask,\n",
        "            token_type_ids=token_type_ids,\n",
        "            position_ids=position_ids,\n",
        "            head_mask=head_mask,\n",
        "            inputs_embeds=inputs_embeds,\n",
        "        )\n",
        "\n",
        "        pooled_output = outputs[1]\n",
        "        pooled_output = self.dropout(pooled_output)\n",
        "        logits = self.classifier(pooled_output)\n",
        "        outputs = (logits,) + outputs[2:] # add hidden states and attention if they are here\n",
        "        \n",
        "        # If labels are provided, the loss is calculated using cross-entropy loss and added to the outputs. \n",
        "        # Finally, the method returns the outputs of the model, which include the logits, and optionally the loss, hidden states, and attentions.\n",
        "        if labels is not None:\n",
        "            loss_fct = nn.CrossEntropyLoss()\n",
        "            loss = loss_fct(logits.view(-1, self.config.num_labels), labels.view(-1))\n",
        "            outputs = (loss,) + outputs\n",
        "        \n",
        "        return outputs  # (loss), logits, (hidden_states), (attentions)"
      ],
      "execution_count": null,
      "outputs": [
        {
          "output_type": "stream",
          "name": "stderr",
          "text": [
            "/usr/local/lib/python3.9/dist-packages/ipykernel/ipkernel.py:283: DeprecationWarning: `should_run_async` will not call `transform_cell` automatically in the future. Please pass the result to `transformed_cell` argument and any exception that happen during thetransform in `preprocessing_exc_tuple` in IPython 7.17 and above.\n",
            "  and should_run_async(code)\n"
          ]
        }
      ]
    },
    {
      "cell_type": "code",
      "metadata": {
        "id": "47zTEprGPG5o",
        "colab": {
          "base_uri": "https://localhost:8080/"
        },
        "outputId": "3313a5c5-f4fc-46e9-d7ff-565c7aafac25"
      },
      "source": [
        "# The code initializes a BERT model for sequence classification using the BertForSequenceClassificationOutputPooled class \n",
        "# from the transformers library. \n",
        "# The model is loaded with the pre-trained weights from the bert-base-uncased model and configured to have num_labels output labels, \n",
        "# with the option to return attention weights and hidden states during inference.\n",
        "if FINETUNE:\n",
        "\n",
        "  model = BertForSequenceClassificationOutputPooled.from_pretrained(\n",
        "      \"bert-base-uncased\", # Use the 12-layer BERT model, with an uncased vocab.\n",
        "      num_labels = len(ltoi), # The number of output labels.\n",
        "      output_attentions = True, # Whether the model returns attentions weights.\n",
        "      output_hidden_states = True, # Whether the model returns all hidden-states.\n",
        "  ).to(device)\n",
        "\n",
        "\n",
        "# The optimizer is set to AdamW with a learning rate of LR and epsilon value of EPS. \n",
        "# The total number of training steps is calculated by multiplying the number of batches in the training data by the number of epochs. \n",
        "# Finally, a linear learning rate scheduler is created that uses no warm-up steps \n",
        "# and updates the learning rate based on the total number of training steps. \n",
        "# The model is moved to the device (e.g., GPU) for training.\n",
        "  optimizer = AdamW(model.parameters(), lr=LR, eps=EPS)\n",
        "  total_steps = len(train_dataloader) * N_EPOCHS\n",
        "  scheduler = get_linear_schedule_with_warmup(optimizer, \n",
        "                                              num_warmup_steps = 0,\n",
        "                                              num_training_steps = total_steps)"
      ],
      "execution_count": null,
      "outputs": [
        {
          "output_type": "stream",
          "name": "stderr",
          "text": [
            "/usr/local/lib/python3.9/dist-packages/ipykernel/ipkernel.py:283: DeprecationWarning: `should_run_async` will not call `transform_cell` automatically in the future. Please pass the result to `transformed_cell` argument and any exception that happen during thetransform in `preprocessing_exc_tuple` in IPython 7.17 and above.\n",
            "  and should_run_async(code)\n"
          ]
        }
      ]
    },
    {
      "cell_type": "markdown",
      "metadata": {
        "id": "dfgdAOawRf8d"
      },
      "source": [
        "#### Train model"
      ]
    },
    {
      "cell_type": "code",
      "metadata": {
        "id": "gSMHFMCrUihY",
        "colab": {
          "base_uri": "https://localhost:8080/"
        },
        "outputId": "795ad4e8-dd84-43c9-8a53-74859a250d74"
      },
      "source": [
        "# The code defines two helper functions:\n",
        "# flat_accuracy: calculates the accuracy of predicted labels compared to actual labels, by taking the argmax of the predicted probabilities and comparing it to the corresponding label.\n",
        "# format_time: converts a given number of seconds into a formatted string representing hours, minutes, and seconds.\n",
        "if FINETUNE:\n",
        "  \n",
        "  def flat_accuracy(preds: np.ndarray, labels: np.ndarray):\n",
        "      pred_flat = np.argmax(preds, axis=1).flatten()\n",
        "      labels_flat = labels.flatten()\n",
        "      return np.sum(pred_flat == labels_flat) / len(labels_flat)\n",
        "      \n",
        "  def format_time(seconds: int):\n",
        "      # Format time as hh:mm:ss\n",
        "      seconds = int(round((seconds))) \n",
        "      return str(datetime.timedelta(seconds=seconds))"
      ],
      "execution_count": null,
      "outputs": [
        {
          "output_type": "stream",
          "name": "stderr",
          "text": [
            "/usr/local/lib/python3.9/dist-packages/ipykernel/ipkernel.py:283: DeprecationWarning: `should_run_async` will not call `transform_cell` automatically in the future. Please pass the result to `transformed_cell` argument and any exception that happen during thetransform in `preprocessing_exc_tuple` in IPython 7.17 and above.\n",
            "  and should_run_async(code)\n"
          ]
        }
      ]
    },
    {
      "cell_type": "code",
      "metadata": {
        "id": "1aLVSlC5P5kv",
        "colab": {
          "base_uri": "https://localhost:8080/"
        },
        "outputId": "066ed383-7a73-42c3-e05c-fc720ea173d0"
      },
      "source": [
        "# The below code block implements the fine-tuning process for a pre-trained BERT model to classify a set of text documents. \n",
        "# The model is trained for a specified number of epochs with a given batch size. \n",
        "# The training and validation progress is printed to the console with metrics such as average loss and accuracy. \n",
        "# Additionally, the code implements a custom accuracy function and a time formatting function. \n",
        "# The code also uses the PyTorch library for optimization and gradient descent.\n",
        "if FINETUNE:\n",
        "  \n",
        "  torch.cuda.empty_cache()\n",
        "\n",
        "  loss_values = []\n",
        "  for epoch_i in range(N_EPOCHS):\n",
        "      print('\\n======== Epoch {:} / {:} ========'.format(epoch_i + 1, N_EPOCHS))\n",
        "      print('Training...')\n",
        "      model.train()\n",
        "      total_loss = 0\n",
        "\n",
        "      t0 = time.time()\n",
        "      pbar = tqdm(enumerate(train_dataloader), total=len(train_dataloader))\n",
        "      for step, batch in pbar:\n",
        "          b_input_ids, b_input_mask, b_labels = tuple(t.to(device) for t in batch)\n",
        "\n",
        "          model.zero_grad()        \n",
        "          outputs = model(b_input_ids, \n",
        "                          token_type_ids=None, \n",
        "                          attention_mask=b_input_mask, \n",
        "                          labels=b_labels)\n",
        "\n",
        "          loss = outputs[0]\n",
        "          total_loss += loss.item()\n",
        "          loss.backward()\n",
        "          torch.nn.utils.clip_grad_norm_(model.parameters(), 1.0)\n",
        "          \n",
        "          optimizer.step()\n",
        "          scheduler.step()\n",
        "\n",
        "          logits = outputs[1].detach().cpu().numpy()\n",
        "          label_ids = b_labels.cpu().numpy()\n",
        "          acc = flat_accuracy(logits, label_ids)\n",
        "          pbar.set_description(f\"Acc: {acc}\")\n",
        "\n",
        "      avg_train_loss = total_loss / len(train_dataloader)            \n",
        "      loss_values.append(avg_train_loss)\n",
        "      print(\"\\n  Average training loss: {0:.2f}\".format(avg_train_loss))\n",
        "      print(\"  Training epcoh took: {:}\".format(format_time(time.time() - t0)))\n",
        "\n",
        "\n",
        "      print(\"\\nRunning Validation...\")\n",
        "      model.eval()\n",
        "      eval_loss, eval_accuracy = 0, 0\n",
        "      nb_eval_steps, nb_eval_examples = 0, 0\n",
        "      \n",
        "      t0 = time.time()\n",
        "      for batch in val_dataloader:\n",
        "          b_input_ids, b_input_mask, b_labels = tuple(t.to(device) for t in batch)\n",
        "\n",
        "          with torch.no_grad():  \n",
        "              outputs = model(b_input_ids, \n",
        "                              token_type_ids=None, \n",
        "                              attention_mask=b_input_mask)\n",
        "\n",
        "          logits = outputs[0]\n",
        "\n",
        "          logits = logits.cpu().numpy()\n",
        "          label_ids = b_labels.cpu().numpy()\n",
        "          tmp_eval_accuracy = flat_accuracy(logits, label_ids)\n",
        "          eval_accuracy += tmp_eval_accuracy\n",
        "          nb_eval_steps += 1\n",
        "\n",
        "      print(\"  Accuracy: {0:.2f}\".format(eval_accuracy/nb_eval_steps))\n",
        "      print(\"  Validation took: {:}\".format(format_time(time.time() - t0)))\n",
        "\n",
        "      print(\"\")\n",
        "      print(\"Training complete!\")"
      ],
      "execution_count": null,
      "outputs": [
        {
          "output_type": "stream",
          "name": "stderr",
          "text": [
            "/usr/local/lib/python3.9/dist-packages/ipykernel/ipkernel.py:283: DeprecationWarning: `should_run_async` will not call `transform_cell` automatically in the future. Please pass the result to `transformed_cell` argument and any exception that happen during thetransform in `preprocessing_exc_tuple` in IPython 7.17 and above.\n",
            "  and should_run_async(code)\n"
          ]
        }
      ]
    },
    {
      "cell_type": "markdown",
      "metadata": {
        "id": "mHHYNRUQ_W8L"
      },
      "source": [
        "#### Save model"
      ]
    },
    {
      "cell_type": "code",
      "metadata": {
        "id": "t_up7EFs-4u6",
        "colab": {
          "base_uri": "https://localhost:8080/"
        },
        "outputId": "b59fc46d-9de2-43dc-dc3b-0e250f7dfb1b"
      },
      "source": [
        "# If the FINETUNE flag is true, the code creates a directory named \"model\" in the current working directory, \n",
        "# saves the fine-tuned BERT model and the corresponding tokenizer in that directory using the save_pretrained method. \n",
        "# This allows the saved model and tokenizer to be loaded and used for inference later.\n",
        "if FINETUNE:\n",
        "  \n",
        "  OUT_PATH = Path.cwd() / \"model\"\n",
        "  OUT_PATH.mkdir(parents=True)\n",
        "  model.save_pretrained(OUT_PATH)\n",
        "  tokenizer.save_pretrained(OUT_PATH)"
      ],
      "execution_count": null,
      "outputs": [
        {
          "output_type": "stream",
          "name": "stderr",
          "text": [
            "/usr/local/lib/python3.9/dist-packages/ipykernel/ipkernel.py:283: DeprecationWarning: `should_run_async` will not call `transform_cell` automatically in the future. Please pass the result to `transformed_cell` argument and any exception that happen during thetransform in `preprocessing_exc_tuple` in IPython 7.17 and above.\n",
            "  and should_run_async(code)\n"
          ]
        }
      ]
    },
    {
      "cell_type": "markdown",
      "metadata": {
        "id": "Mxroo66fveas"
      },
      "source": [
        "### Embed tweets"
      ]
    },
    {
      "cell_type": "markdown",
      "metadata": {
        "id": "SLzhM-AgG4ae"
      },
      "source": [
        "#### Initialize model"
      ]
    },
    {
      "cell_type": "code",
      "metadata": {
        "id": "L82yqp-FKJ-M",
        "colab": {
          "base_uri": "https://localhost:8080/"
        },
        "outputId": "cacb68fb-cfa7-4755-fe0e-abbb3fe2f934"
      },
      "source": [
        "# Initializing the pre-trained model\n",
        "class BertForClustering(BertPreTrainedModel):\n",
        "    def __init__(self, config):\n",
        "        super().__init__(config)\n",
        "        self.bert = BertModel(config)\n",
        "        self.init_weights()\n",
        "\n",
        "    def forward(\n",
        "        self,\n",
        "        input_ids=None,\n",
        "        attention_mask=None,\n",
        "        token_type_ids=None,\n",
        "        position_ids=None,\n",
        "        head_mask=None,\n",
        "        inputs_embeds=None,\n",
        "    ):\n",
        "        outputs = self.bert(\n",
        "            input_ids,\n",
        "            attention_mask=attention_mask,\n",
        "            token_type_ids=token_type_ids,\n",
        "            position_ids=position_ids,\n",
        "            head_mask=head_mask,\n",
        "            inputs_embeds=inputs_embeds,\n",
        "        )\n",
        "        output, pooled, hidden, attention = outputs\n",
        "\n",
        "        pad_mask = (input_ids != self.config.pad_token_id).unsqueeze(-1)\n",
        "        mean_pooled = (output * pad_mask).sum(axis=1) / pad_mask.sum(axis=1)\n",
        "        \n",
        "        # attention shape: (layer, bsz, head, token, attention)\n",
        "        # want attention of CLS token (in position 0) from last layer\n",
        "        # averaged over heads and normalized\n",
        "        cls_attn = attention[-1][:,:,0,:].mean(axis=1)\n",
        "        cls_attn = cls_attn / cls_attn.sum(axis=1).unsqueeze(-1)\n",
        "\n",
        "        return mean_pooled, cls_attn\n",
        "\n",
        "# The above code block defines a custom neural network architecture called BertForClustering, which is based on the BERT (Bidirectional Encoder Representations from Transformers) model, a popular pre-trained transformer-based language model for natural language processing.\n",
        "\n",
        "# The BertForClustering class inherits from the BertPreTrainedModel class and overrides its __init__ and forward methods. The __init__ method initializes the BERT model with the given configuration, and the forward method performs the forward pass of the model given input_ids, attention_mask, token_type_ids, position_ids, head_mask, and inputs_embeds arguments.\n",
        "\n",
        "# During the forward pass, the model first passes the input through the BERT model and gets back the output, pooled output, hidden states, and attention tensor. The output tensor contains the contextualized embeddings for each token in the input sequence, and the pooled output tensor contains the pooled representation of the input sequence, which is the output corresponding to the [CLS] token.\n",
        "\n",
        "# The mean_pooled tensor is calculated by taking the mean of the output embeddings of all non-padding tokens in the input sequence. The cls_attn tensor is calculated as the attention scores of the [CLS] token (in position 0) in the last layer of the BERT model, averaged over all heads and normalized.\n",
        "\n",
        "# Finally, the function returns mean_pooled and cls_attn tensors as the outputs of the model.\n",
        "\n",
        "\n",
        "\n",
        "\n",
        "\n",
        "\n"
      ],
      "execution_count": null,
      "outputs": [
        {
          "output_type": "stream",
          "name": "stderr",
          "text": [
            "/usr/local/lib/python3.9/dist-packages/ipykernel/ipkernel.py:283: DeprecationWarning: `should_run_async` will not call `transform_cell` automatically in the future. Please pass the result to `transformed_cell` argument and any exception that happen during thetransform in `preprocessing_exc_tuple` in IPython 7.17 and above.\n",
            "  and should_run_async(code)\n"
          ]
        }
      ]
    },
    {
      "cell_type": "code",
      "metadata": {
        "id": "XSK-idqDvfjR",
        "colab": {
          "base_uri": "https://localhost:8080/"
        },
        "outputId": "a47e1650-f2f2-4045-b99b-128c60f3fb84"
      },
      "source": [
        "# helper method to get word-level attentions from token-level\n",
        "def get_word_level_attns(\n",
        "        input_ids: torch.LongTensor, \n",
        "        cls_attn: torch.FloatTensor, \n",
        "        ids_to_tokens: Dict[int, str],\n",
        "        ) -> Tuple[List[str], List[float]]:\n",
        "    batch_words = []\n",
        "    batch_attn_scores = []\n",
        "    num_subwords = 1\n",
        "    for i, (iids, attns) in enumerate(zip(input_ids, cls_attn)):\n",
        "        batch_words += [[]]\n",
        "        batch_attn_scores += [[]]\n",
        "        for iid, attn in zip(iids, attns):\n",
        "            token = ids_to_tokens[iid.item()]\n",
        "            if token in ['[CLS]', '[SEP]', '[PAD]']:\n",
        "                continue\n",
        "            if token.startswith(\"##\"):\n",
        "                batch_words[i][-1] += token[2:]\n",
        "                batch_attn_scores[i][-1] += attn.item()\n",
        "                num_subwords += 1\n",
        "            else:\n",
        "                # average score of previous word (if it exists)\n",
        "                if len(batch_attn_scores[i]):\n",
        "                    batch_attn_scores[i][-1] /= num_subwords\n",
        "                    num_subwords = 1\n",
        "                # start new word\n",
        "                batch_words[i] += [token]\n",
        "                batch_attn_scores[i] += [attn.item()]\n",
        "    return batch_words, batch_attn_scores\n",
        "\n",
        "# The above code defines a function get_word_level_attns that takes in the input ids of a batch of sequences, the attention scores of the [CLS] token for each sequence in the batch, and a dictionary mapping token ids to token strings. The function returns two lists: batch_words and batch_attn_scores.\n",
        "\n",
        "# For each sequence in the batch, the function iterates through the input ids and their corresponding attention scores for the [CLS] token. For each token, the function checks if it is a special token ([CLS], [SEP], or [PAD]). If it is, the function skips to the next token. Otherwise, the function checks if the token is a subword token (i.e., a token that is part of a word but not the first token). If it is, the function appends the token's text and attention score to the current word being processed. If it is not a subword token, the function starts a new word and appends the token's text and attention score to the new word.\n",
        "\n",
        "# Once the function has processed all the tokens for a sequence, it appends the list of words and their corresponding attention scores to batch_words and batch_attn_scores, respectively. The function repeats this process for each sequence in the batch and returns the final batch_words and batch_attn_scores lists.\n",
        "\n",
        "# Overall, the function extracts the word-level attention scores for each sequence in a batch and returns the words and their corresponding attention scores as separate lists."
      ],
      "execution_count": null,
      "outputs": [
        {
          "output_type": "stream",
          "name": "stderr",
          "text": [
            "/usr/local/lib/python3.9/dist-packages/ipykernel/ipkernel.py:283: DeprecationWarning: `should_run_async` will not call `transform_cell` automatically in the future. Please pass the result to `transformed_cell` argument and any exception that happen during thetransform in `preprocessing_exc_tuple` in IPython 7.17 and above.\n",
            "  and should_run_async(code)\n"
          ]
        }
      ]
    },
    {
      "cell_type": "code",
      "metadata": {
        "id": "khQX10OOXSlU",
        "colab": {
          "base_uri": "https://localhost:8080/"
        },
        "outputId": "aa570b42-0c9e-4798-c5d8-47bbfb69aac3"
      },
      "source": [
        "# Using BERT clustering model and tokenizer for retrieving the appropriate pad_token_id\n",
        "if FINETUNE:\n",
        "  MODEL_PATH = Path.cwd() / \"model\"\n",
        "else:\n",
        "  if not Path(\"model_save_attention_1epoch\").exists():\n",
        "    !gdown --id 1jnQVZpdsFIAbV8J7szUjtfQ0uXo_NOh_\n",
        "    !unzip model_save_attention_1epoch.zip\n",
        "  MODEL_PATH = Path.cwd() / \"model_save_attention_1epoch\"\n",
        "\n",
        "\n",
        "model = BertForClustering.from_pretrained(MODEL_PATH).to(device).eval()\n",
        "tokenizer = BertTokenizer.from_pretrained(MODEL_PATH, do_lower_case=True)\n",
        "model.config.pad_token_id = tokenizer.pad_token_id\n",
        "\n",
        "# The above code is used to initialize a BERT clustering model and tokenizer for retrieving the appropriate pad_token_id. \n",
        "# If the FINETUNE variable is set to True, then it loads a pre-trained model from the MODEL_PATH directory. \n",
        "# Otherwise, it downloads and unzips a pre-trained model model_save_attention_1epoch from Google Drive. Then it initializes the model and tokenizer objects with the pre-trained weights and sets the pad_token_id of the model's configuration to the pad_token_id of the tokenizer. Finally, it moves the model object to the available device (GPU or CPU) and sets it to evaluation mode."
      ],
      "execution_count": null,
      "outputs": [
        {
          "output_type": "stream",
          "name": "stderr",
          "text": [
            "/usr/local/lib/python3.9/dist-packages/ipykernel/ipkernel.py:283: DeprecationWarning: `should_run_async` will not call `transform_cell` automatically in the future. Please pass the result to `transformed_cell` argument and any exception that happen during thetransform in `preprocessing_exc_tuple` in IPython 7.17 and above.\n",
            "  and should_run_async(code)\n"
          ]
        },
        {
          "output_type": "stream",
          "name": "stdout",
          "text": [
            "/usr/local/lib/python3.9/dist-packages/gdown/cli.py:121: FutureWarning: Option `--id` was deprecated in version 4.3.1 and will be removed in 5.0. You don't need to pass it anymore to use a file ID.\n",
            "  warnings.warn(\n",
            "Downloading...\n",
            "From: https://drive.google.com/uc?id=1jnQVZpdsFIAbV8J7szUjtfQ0uXo_NOh_\n",
            "To: /content/model_save_attention_1epoch.zip\n",
            "100% 446M/446M [00:10<00:00, 41.8MB/s]\n",
            "Archive:  model_save_attention_1epoch.zip\n",
            "   creating: model_save_attention_1epoch/\n",
            "  inflating: model_save_attention_1epoch/special_tokens_map.json  \n",
            " extracting: model_save_attention_1epoch/tokenizer_config.json  \n",
            "  inflating: model_save_attention_1epoch/pytorch_model.bin  \n",
            "   creating: model_save_attention_1epoch/.ipynb_checkpoints/\n",
            "  inflating: model_save_attention_1epoch/.ipynb_checkpoints/config-checkpoint.json  \n",
            "  inflating: model_save_attention_1epoch/config.json  \n",
            "  inflating: model_save_attention_1epoch/outputs.pkl  \n",
            " extracting: model_save_attention_1epoch/loss_values.pkl  \n",
            "  inflating: model_save_attention_1epoch/vocab.txt  \n"
          ]
        }
      ]
    },
    {
      "cell_type": "code",
      "metadata": {
        "id": "ibunwOnUsNyM",
        "colab": {
          "base_uri": "https://localhost:8080/"
        },
        "outputId": "788b7b4b-c873-41f5-e34f-4ac45e6acdc6"
      },
      "source": [
        "# Using BERT for clutering to generate BERT baseline, which is, after evaluation, used to calculate the pad_token_id\n",
        "bert_baseline = BertForClustering.from_pretrained(\n",
        "    'bert-base-uncased',output_attentions=True, output_hidden_states=True\n",
        "    ).to(device).eval()\n",
        "tokenizer = BertTokenizer.from_pretrained('bert-base-uncased', do_lower_case=True)\n",
        "bert_baseline.config.pad_token_id = tokenizer.pad_token_id\n",
        "\n",
        "# The above code initializes a BERT model for clustering with the pre-trained weights of the \"bert-base-uncased\" model. \n",
        "# It sets the model in evaluation mode and configures it to output the attention weights and hidden states. Then it initializes a tokenizer with the same pre-trained weights and sets the pad token ID in the model configuration to the pad token ID of the tokenizer. \n",
        "# This is done to ensure consistency between the model and the tokenizer in handling padded sequences during training and evaluation."
      ],
      "execution_count": null,
      "outputs": [
        {
          "output_type": "stream",
          "name": "stderr",
          "text": [
            "/usr/local/lib/python3.9/dist-packages/ipykernel/ipkernel.py:283: DeprecationWarning: `should_run_async` will not call `transform_cell` automatically in the future. Please pass the result to `transformed_cell` argument and any exception that happen during thetransform in `preprocessing_exc_tuple` in IPython 7.17 and above.\n",
            "  and should_run_async(code)\n"
          ]
        }
      ]
    },
    {
      "cell_type": "markdown",
      "metadata": {
        "id": "Lv7JGACYgy3I"
      },
      "source": [
        "#### Compute embeds and attentions"
      ]
    },
    {
      "cell_type": "code",
      "metadata": {
        "id": "ytgPMicPhO1o",
        "colab": {
          "base_uri": "https://localhost:8080/"
        },
        "outputId": "f4710119-212b-4378-c131-2ef139956a33"
      },
      "source": [
        "input_ids = tokenizer.batch_encode_plus(nlwx_df.text, add_special_tokens=True, \n",
        "                                        return_tensors='pt')['input_ids']\n",
        "print(f\"Encoded {len(input_ids)} examples, with max length {input_ids.shape[-1]}\")\n",
        "\n",
        "# The above code uses the BERT tokenizer to tokenize and encode the texts in the nlwx_df DataFrame. It does this by first calling the batch_encode_plus() method of the tokenizer, passing the texts as input along with the add_special_tokens=True argument to include special tokens such as [CLS] and [SEP] at the beginning and end of each text. The return_tensors='pt' argument specifies that the output should be PyTorch tensors.\n",
        "\n",
        "# The code then extracts the input_ids tensor from the output of batch_encode_plus(), which contains the encoded representation of the texts. The print() statement outputs the number of examples that were encoded and the maximum length of the encoded sequence."
      ],
      "execution_count": null,
      "outputs": [
        {
          "output_type": "stream",
          "name": "stderr",
          "text": [
            "/usr/local/lib/python3.9/dist-packages/ipykernel/ipkernel.py:283: DeprecationWarning: `should_run_async` will not call `transform_cell` automatically in the future. Please pass the result to `transformed_cell` argument and any exception that happen during thetransform in `preprocessing_exc_tuple` in IPython 7.17 and above.\n",
            "  and should_run_async(code)\n"
          ]
        },
        {
          "output_type": "stream",
          "name": "stdout",
          "text": [
            "Encoded 21797 examples, with max length 117\n"
          ]
        }
      ]
    },
    {
      "cell_type": "code",
      "metadata": {
        "id": "a8Jox2HGiXMo",
        "colab": {
          "base_uri": "https://localhost:8080/",
          "height": 104,
          "referenced_widgets": [
            "ba697cc3a8de4699bb9debda2def59fb",
            "bfbdc6d303c04f50bcef2a279f0d0bd7",
            "715d92bcea2a4075bacecb9c7590d5dd",
            "4e74f2066c6e4d0583b7b76accfe6fb3",
            "96b307b1401847d4b287460f81346886",
            "b1bdde765edb45299e51f5be3c117080",
            "99dee71616aa4abfb2aa4380ccb2ca29",
            "c5bbaf33e7584d7ebe87cf3a24e249e7",
            "539b900c6682402dbacca46ee5bc8c4e",
            "2d146c9dc7d74dafbb3daa69a6e94d70",
            "9a06a790e68b48b2a8b6226bfc222f12"
          ]
        },
        "outputId": "bb347de9-3278-466d-a36c-3e150311c282"
      },
      "source": [
        "# Chaining words, embedding them and concatenating them into batches\n",
        "EMBED_BSZ = 128\n",
        "torch.cuda.empty_cache()\n",
        "\n",
        "batch_embeds = []\n",
        "batch_words = []\n",
        "batch_word_attns = []\n",
        "batch_embeds_bert = []\n",
        "batch_words_bert = []\n",
        "batch_word_attns_bert = []\n",
        "for i in tqdm(list(range(0, len(input_ids), EMBED_BSZ))):\n",
        "    batch = input_ids[i:i+EMBED_BSZ].to(device)\n",
        "    with torch.no_grad():\n",
        "        embeds, cls_attn = model(batch)\n",
        "        words, attns = get_word_level_attns(batch, cls_attn, tokenizer.ids_to_tokens)\n",
        "        embeds_bert, cls_attn_bert = bert_baseline(batch)\n",
        "        words_bert, attns_bert = get_word_level_attns(batch, cls_attn_bert, tokenizer.ids_to_tokens)\n",
        "    batch_embeds += [embeds.cpu().numpy()]\n",
        "    batch_words += [words]\n",
        "    batch_word_attns += [attns]\n",
        "    batch_embeds_bert += [embeds_bert.cpu().numpy()]\n",
        "    batch_words_bert += [words_bert]\n",
        "    batch_word_attns_bert += [attns_bert]\n",
        "\n",
        "# concatenate batches\n",
        "batch_embeds = np.concatenate(batch_embeds)\n",
        "batch_words = list(itertools.chain(*batch_words))\n",
        "batch_word_attns = list(itertools.chain(*batch_word_attns))\n",
        "batch_embeds_bert = np.concatenate(batch_embeds_bert)\n",
        "batch_words_bert = list(itertools.chain(*batch_words_bert))\n",
        "batch_word_attns_bert = list(itertools.chain(*batch_word_attns_bert))\n",
        "\n",
        "# The above code takes the input_ids of text data and chains, embeds, and concatenates them into batches using the model and bert_baseline. It also extracts word-level attention scores and words from the attention score of each word. \n",
        "# The final output is concatenated batches and the corresponding word-level attentions and words."
      ],
      "execution_count": null,
      "outputs": [
        {
          "output_type": "stream",
          "name": "stderr",
          "text": [
            "/usr/local/lib/python3.9/dist-packages/ipykernel/ipkernel.py:283: DeprecationWarning: `should_run_async` will not call `transform_cell` automatically in the future. Please pass the result to `transformed_cell` argument and any exception that happen during thetransform in `preprocessing_exc_tuple` in IPython 7.17 and above.\n",
            "  and should_run_async(code)\n"
          ]
        },
        {
          "output_type": "display_data",
          "data": {
            "text/plain": [
              "  0%|          | 0/171 [00:00<?, ?it/s]"
            ],
            "application/vnd.jupyter.widget-view+json": {
              "version_major": 2,
              "version_minor": 0,
              "model_id": "ba697cc3a8de4699bb9debda2def59fb"
            }
          },
          "metadata": {}
        }
      ]
    },
    {
      "cell_type": "markdown",
      "metadata": {
        "id": "GWcWqf83vgnq"
      },
      "source": [
        "### Cluster tweets"
      ]
    },
    {
      "cell_type": "code",
      "metadata": {
        "id": "_fWzCICAVb02",
        "colab": {
          "base_uri": "https://localhost:8080/"
        },
        "outputId": "40361d0c-d558-4cf8-fdba-2255850554a3"
      },
      "source": [
        "# Defining two functions namely:\n",
        "# topics_df: Iterating through the topics and fetching the dictionary which is returned as a dataframe\n",
        "# get_stopwords: fetching the stopwords from the mentioned URL and appending some additional stopwords to the corresponding list\n",
        "def topics_df(topics, components, n_words = 20):\n",
        "    df = {}\n",
        "    for i in range(topics):\n",
        "        words = sorted(components[i], key=components[i].get, reverse=True)[:n_words]\n",
        "        df['topic %d' % (i)] = words\n",
        "        if len(words) < n_words:\n",
        "            df['topic %d' % (i)].extend([''] * (n_words - len(words)))\n",
        "    return pd.DataFrame.from_dict(df)\n",
        "\n",
        "# The above code defines a function called topics_df which takes in the number of topics, the components of each topic, and the number of words to include in the topic.\n",
        "\n",
        "# The function then creates a dictionary where each topic is represented by its top n_words most important words. It does this by sorting the words in each topic by their value in the corresponding component, and selecting the top n_words words. \n",
        "# If there are fewer than n_words words in a topic, the dictionary extends the topic with empty strings so that it has n_words elements.\n",
        "\n",
        "# Finally, the function returns a pandas dataframe created from the dictionary of topics. The resulting dataframe has the topic number as the column name and the top n_words words for each topic in the corresponding column."
      ],
      "execution_count": null,
      "outputs": [
        {
          "output_type": "stream",
          "name": "stderr",
          "text": [
            "/usr/local/lib/python3.9/dist-packages/ipykernel/ipkernel.py:283: DeprecationWarning: `should_run_async` will not call `transform_cell` automatically in the future. Please pass the result to `transformed_cell` argument and any exception that happen during thetransform in `preprocessing_exc_tuple` in IPython 7.17 and above.\n",
            "  and should_run_async(code)\n"
          ]
        }
      ]
    },
    {
      "cell_type": "code",
      "source": [
        "def get_stopwords(hashtags = [], \n",
        "                  URL = 'https://drive.google.com/uc?export=download&id=1DcYzpMB-3Dbp7IEtmTbTd4DIgtz9ut6I'):\n",
        "  r = requests.get(URL)\n",
        "  stopwords = json.loads(r.text)\n",
        "  stopwords.extend(['#', '@', '…', \"'\", \"’\", \"[unk]\", \"\\\"\", \";\", \n",
        "                    \"*\", \"_\", \"amp\", \"&\", \"“\", \"”\"] + hashtags)\n",
        "  return(stopwords)\n",
        "\n",
        "stopwords_bert = get_stopwords()\n",
        "\n",
        "# The above code defines a function get_stopwords that retrieves a list of stop words from a URL and extends it with additional words and hashtags provided as parameters. \n",
        "# Specifically, it uses the requests library to get the text content from the given URL and then loads it as a JSON object using json.loads(). It then extends this list of stop words with a predefined set of additional words and any hashtags provided as input parameters. Finally, it returns the list of stop words. In the code, the resulting list of stop words is assigned to the variable stopwords_bert."
      ],
      "metadata": {
        "id": "iOHvrRt7TGYx"
      },
      "execution_count": null,
      "outputs": []
    },
    {
      "cell_type": "code",
      "metadata": {
        "id": "D-DPQKQJUjLy",
        "colab": {
          "base_uri": "https://localhost:8080/"
        },
        "outputId": "f4555bff-8576-4d7e-a873-b41e6ad63a6c"
      },
      "source": [
        "\n",
        "# The above code defines a class BertTopicModel that performs topic modeling using BERT embeddings and KMeans clustering. \n",
        "# The class has several methods for filtering and processing text data, generating topic clusters, and calculating cluster components using TF-IDF scores. \n",
        "# Here is a summary of the methods:\n",
        "# __init__: Initializes the BertTopicModel object with input texts, attentions, embeddings, and number of clusters.\n",
        "# get_clusters: Applies KMeans clustering to the input embeddings and returns the cluster labels.\n",
        "# get_features: Filters the input texts for stopwords, URLs, and other irrelevant words, and generates n-grams if specified. Returns a list of filtered text features.\n",
        "# _filter_data: A helper method used by get_features to filter the input attentions and texts.\n",
        "# determine_cluster_components: Generates n-grams for the filtered text data and calculates the average attention score for each n-gram in each cluster. Returns two dictionaries: one containing the components for each cluster, and one containing the words for each component.\n",
        "# get_tfidf_components: Calculates the TF-IDF scores for each component and returns two dictionaries: one containing the components multiplied by their corresponding TF-IDF scores, and one containing the TF-IDF scores alone.\n",
        "# reset_model: Resets the class attributes to their initial values.\n",
        "# _get_label_counts: Prints the number of texts in each cluster.\n",
        "# _get_phrases: A helper method used by get_features to generate phrases for the text data using Gensim Phrases and Phraser functions.\n",
        "URL_RE = r'(https?:\\/\\/(?:www\\.|(?!www))[a-zA-Z0-9][a-zA-Z0-9-]+[a-zA-Z0-9]\\.[^\\s]{2,}|www\\.[a-zA-Z0-9][a-zA-Z0-9-]+[a-zA-Z0-9]\\.[^\\s]{2,}|https?:\\/\\/(?:www\\.|(?!www))[a-zA-Z0-9]+\\.[^\\s]{2,}|www\\.[a-zA-Z0-9]+\\.[^\\s]{2,})'\n",
        "\n",
        "class BertTopicModel():\n",
        "    def __init__(self, texts, attentions, embeddings, n_clusters):\n",
        "        self.texts = texts\n",
        "        self.attentions = attentions\n",
        "        self.embeddings = embeddings\n",
        "        self.n_clusters = n_clusters\n",
        "        self.filtered_a = []\n",
        "        self.filtered_t = [] \n",
        "        self.filtered_l = []\n",
        "        \n",
        "    def get_clusters(self):\n",
        "        print(\"Fitting kmeans model.\")\n",
        "        kmeans = KMeans(n_clusters = self.n_clusters, random_state = 0).fit(self.embeddings)\n",
        "        self.labels = kmeans.labels_\n",
        "        self._get_label_counts()\n",
        "        return self.labels\n",
        "    \n",
        "    def get_features(self, stopwords, phrasing = False,min_count=5, threshold=100):\n",
        "        self._filter_data(stopwords)\n",
        "        if phrasing == True:\n",
        "            self._get_phrases(min_count=min_count, threshold=threshold)\n",
        "        else:\n",
        "            self.features = self.filtered_t\n",
        "        print(len(self.features))\n",
        "        self._remove_ifreq_words()\n",
        "        print(len(self.features))\n",
        "        return self.features\n",
        "        \n",
        "    def _filter_data(self, stopwords):\n",
        "        url_re = URL_RE\n",
        "        print(\"Filtering attentions.\")\n",
        "        for idx, a in enumerate(self.attentions):\n",
        "            f = [(i[0].lower(), i[1]) for i in a]\n",
        "            f = [(Word(i[0]).lemmatize(), i[1]) \n",
        "                 for i in f if (i[0] not in stopwords) \n",
        "                 and (not re.match(url_re, i[0]))\n",
        "                 and (i[0].find('snowmageddon2020') == -1)]\n",
        "            f_txt = [re.sub('[^a-zA-Z]+', '', w[0]) for w in f]\n",
        "            f = [(re.sub('[^a-zA-Z]+', '', w[0]), w[1]) for w in f]\n",
        "            if len(f) > 1:\n",
        "                self.filtered_a.append(f)\n",
        "                self.filtered_t.append(f_txt)\n",
        "                self.filtered_l.append(self.labels[idx])\n",
        "                \n",
        "    def determine_cluster_components(self, ngram):\n",
        "        print(\"\"\"\n",
        "    Determining cluster components. This will take a while. \n",
        "    Progress will be printed for every 500th processed property.\n",
        "        \"\"\")\n",
        "        components = {}\n",
        "        words_label = {}\n",
        "        start_time = time.time()\n",
        "        for idx, label in enumerate(self.filtered_l):\n",
        "            if label not in components:\n",
        "                components[label] = {}\n",
        "                words_label[label] = []\n",
        "            else:\n",
        "                f = self._generate_ngram(self.filtered_a[idx], ngram)\n",
        "                for w in f:\n",
        "                    word = ' '.join([r[0] for r in w])\n",
        "                    score = np.mean([r[1] for r in w])\n",
        "                    if word in self.features[idx]:\n",
        "                        if word in components[label]:\n",
        "                            components[label][word] += score\n",
        "                        else:\n",
        "                            components[label][word] = score\n",
        "                        words_label[label].append(word)\n",
        "            if (idx + 1) % 5000 == 0:\n",
        "                print(f'Processed {(idx + 1)} texts in {round(time.time() - start_time, 2)} seconds.')\n",
        "\n",
        "        print(f\"Finished determining a total of {idx + 1} cluster components.\\\n",
        "        Total time {round(time.time() - start_time, 2)} seconds.\")\n",
        "        self.components = components \n",
        "        self.words_label = words_label\n",
        "        return self.components, self.words_label\n",
        "    \n",
        "    def get_tfidf_components(self, max_df = 1.0, stf = False):\n",
        "        tfidf_indexed = self._tf_icf(max_df, stf)\n",
        "        components_tfidf_attn = {}\n",
        "        components_tfidf = {}\n",
        "        for k1 in self.components:\n",
        "            components_tfidf_attn[k1] = {}\n",
        "            components_tfidf[k1] = {}\n",
        "            for k2 in self.components[k1]:\n",
        "                try:\n",
        "                    components_tfidf_attn[k1][k2] = tfidf_indexed[k1][k2] * self.components[k1][k2]\n",
        "                    components_tfidf[k1][k2] = tfidf_indexed[k1][k2]\n",
        "                except:\n",
        "                    continue\n",
        "        self.components_tfidf = components_tfidf\n",
        "        self.components_tfidf_attn = components_tfidf_attn\n",
        "        return self.components_tfidf,self.components_tfidf_attn\n",
        "    \n",
        "    def reset_model(self):\n",
        "        self.filtered_a = []\n",
        "        self.filtered_t = [] \n",
        "        self.filtered_l = []\n",
        "        self.components = [] \n",
        "        self.words_label = []\n",
        "        self.features = []\n",
        "        self.words_label = []\n",
        "        self.components_tfidf = []\n",
        "        self.components_tfidf_attn = []\n",
        "    \n",
        "    def _get_label_counts(self):\n",
        "        unique, counts = np.unique(self.labels, return_counts=True)\n",
        "        print(\"The number of texts per label are:\")\n",
        "        print(dict(zip(unique, counts)))\n",
        "        \n",
        "    # Generate phrases for topic cluster components using Gensim Phrases() and Phraser() functions:\n",
        "    # https://radimrehurek.com/gensim/models/phrases.html\n",
        "    def _get_phrases(self, min_count=5, threshold=100):\n",
        "        bigram = Phrases(self.filtered_t, min_count=min_count, threshold = threshold) # higher threshold fewer phrases.\n",
        "        trigram = Phrases(bigram[self.filtered_t])  \n",
        "\n",
        "        # 'Phraser' is a wrapper that makes 'Phrases' run faster\n",
        "        bigram_phraser = Phraser(bigram)\n",
        "        trigram_phraser = Phraser(trigram)\n",
        "\n",
        "        phrased_bi = [b for b in bigram[self.filtered_t]]\n",
        "        phrased_tri = [t for t in trigram[[b for b in bigram[self.filtered_t]]]]\n",
        "        self.features = [[w.replace('_', ' ') for w in sublist] for sublist in phrased_bi]\n",
        "        \n",
        "    def _remove_ifreq_words(self, vocab_threshold = 10):\n",
        "        texts = [word for words in self.features for word in words]\n",
        "        vocab = self._get_frequent_vocab(texts, threshold = vocab_threshold)\n",
        "        updated_f = []\n",
        "        for f in self.features:\n",
        "            updated_f.append([word for word in f if word in vocab and len(word) > 0])\n",
        "        self.features = updated_f\n",
        "    \n",
        "    def _get_frequent_vocab(self, corpus, threshold=10):\n",
        "        '''\n",
        "        Gets words whose frequency exceeds that of the threshold\n",
        "        in a given corpus.\n",
        "        :param corpus: list of tokenized words\n",
        "        :param threshold:\n",
        "        :return: list of words with higher frequency than threshold\n",
        "        '''\n",
        "        freq = Counter(corpus)\n",
        "        filtered = [word for word, count in freq.items() if count >= threshold]\n",
        "        return filtered\n",
        "    \n",
        "    def _generate_ngram(self, \n",
        "                        seq, \n",
        "                        ngram = (1, 3)):\n",
        "        g = []\n",
        "        for i in range(ngram[0], ngram[-1] + 1):\n",
        "            g.extend(list(self._ngrams_generator(seq, i)))\n",
        "        return g\n",
        "    \n",
        "    def _ngrams_generator(\n",
        "        self,\n",
        "        sequence,\n",
        "        n,\n",
        "        pad_left = False,\n",
        "        pad_right = False,\n",
        "        left_pad_symbol = None,\n",
        "        right_pad_symbol = None):\n",
        "        \"\"\"\n",
        "        generate ngrams.\n",
        "\n",
        "        Parameters\n",
        "        ----------\n",
        "        sequence : list of str\n",
        "            list of tokenize words.\n",
        "        n : int\n",
        "            ngram size\n",
        "\n",
        "        Returns\n",
        "        -------\n",
        "        ngram: list\n",
        "        \"\"\"\n",
        "        sequence = self._pad_sequence(\n",
        "            sequence, n, pad_left, pad_right, left_pad_symbol, right_pad_symbol\n",
        "        )\n",
        "\n",
        "        history = []\n",
        "        while n > 1:\n",
        "            try:\n",
        "                next_item = next(sequence)\n",
        "            except StopIteration:\n",
        "                return\n",
        "            history.append(next_item)\n",
        "            n -= 1\n",
        "        for item in sequence:\n",
        "            history.append(item)\n",
        "            yield tuple(history)\n",
        "            del history[0]\n",
        "            \n",
        "    # Pad sequence helper funtion for ngram generator.\n",
        "    # Implemented from block 14 of commit 9895ee0 at:\n",
        "    # https://github.com/huseinzol05/NLP-Models-Tensorflow/blob/master/topic-model/2.bert-topic.ipynb\n",
        "    def _pad_sequence(\n",
        "        self,\n",
        "        sequence,\n",
        "        n,\n",
        "        pad_left = False,\n",
        "        pad_right = False,\n",
        "        left_pad_symbol = None,\n",
        "        right_pad_symbol = None):\n",
        "        \n",
        "        sequence = iter(sequence)\n",
        "        if pad_left:\n",
        "            sequence = itertools.chain((left_pad_symbol,) * (n - 1), sequence)\n",
        "        if pad_right:\n",
        "            sequence = itertools.chain(sequence, (right_pad_symbol,) * (n - 1))\n",
        "        return sequence\n",
        "    \n",
        "    def _tf_icf(self, max_df, stf):\n",
        "        def dummy_fun(doc):\n",
        "            return doc\n",
        "        \n",
        "        tfidf_vectorizer = TfidfVectorizer(\n",
        "            analyzer='word',\n",
        "            tokenizer=dummy_fun,\n",
        "            preprocessor=dummy_fun,\n",
        "            token_pattern=None,\n",
        "            max_df = max_df,\n",
        "            sublinear_tf = stf)\n",
        "\n",
        "        tf_idf_corpus = [[item for item in self.words_label[key]] for key in range(self.n_clusters)]\n",
        "        transformed = tfidf_vectorizer.fit_transform(tf_idf_corpus)\n",
        "        index_value={i[1]:i[0] for i in tfidf_vectorizer.vocabulary_.items()}\n",
        "        fully_indexed = []\n",
        "        for row in transformed:\n",
        "            fully_indexed.append({index_value[column]:value for (column,value) in zip(row.indices,row.data)})\n",
        "        return(fully_indexed)\n",
        "    "
      ],
      "execution_count": null,
      "outputs": [
        {
          "output_type": "stream",
          "name": "stderr",
          "text": [
            "/usr/local/lib/python3.9/dist-packages/ipykernel/ipkernel.py:283: DeprecationWarning: `should_run_async` will not call `transform_cell` automatically in the future. Please pass the result to `transformed_cell` argument and any exception that happen during thetransform in `preprocessing_exc_tuple` in IPython 7.17 and above.\n",
            "  and should_run_async(code)\n"
          ]
        }
      ]
    },
    {
      "cell_type": "code",
      "metadata": {
        "id": "XnolHVVGRR9b",
        "colab": {
          "base_uri": "https://localhost:8080/"
        },
        "outputId": "3911690f-9f40-44c6-e816-8864e1cbc2e2"
      },
      "source": [
        "# This is a Python class called TopicSearch that is designed to perform topic modeling on a set of texts. \n",
        "# The __init__ method initializes the class with a set of embeddings, texts, attention scores, and stopwords.\n",
        "# The search method takes a number of parameters and uses them to perform topic modeling with different settings. \n",
        "# It iterates over different values of n_topics, max_df, stf, ngrams, hashtags, hashtag_opts, and phrasing, and for each combination of these parameters, it generates a set of hyperparameters and stores them in the class instance.\n",
        "# The _store_hyperparams method is a helper function that stores hyperparameters generated in the search method in a dictionary for later retrieval.\n",
        "# The _cluster_embeds method is a helper function that runs a KMeans clustering algorithm on a set of embeddings.\n",
        "# The _init_model method initializes a BertTopicModel instance with a given number of topics, embeddings, texts, and attention scores.\n",
        "# The _gen_topics method is a helper function that generates a set of topics based on the KMeans clustering algorithm's components.\n",
        "class TopicSearch():\n",
        "    def __init__(self,\n",
        "                 embeddings = batch_embeds,\n",
        "                 texts = batch_words,\n",
        "                 attns = batch_word_attns,\n",
        "                 stopwords=stopwords_bert):\n",
        "        self.topics = {}\n",
        "        self.embeddings = embeddings\n",
        "        self.texts = texts\n",
        "        self.attns = attns\n",
        "        self.hyperparams = {}\n",
        "        self.stopwords = stopwords\n",
        "\n",
        "    def search(self,\n",
        "               ngrams=[1,2], \n",
        "               max_df=[0.6, 0.7, 0.8, 0.85, 0.9, 1.0],\n",
        "               stf=[True, False],\n",
        "               n_topics=[5,10,15],\n",
        "               hashtags=[],\n",
        "               hashtag_opts=[True, False],\n",
        "               phrasing=[True, False],\n",
        "               p_min_count=5,\n",
        "               p_threshold=100,\n",
        "               embedding_name='fte'):\n",
        "\n",
        "      e = embedding_name\n",
        "      self.hyperparams[e] = {}\n",
        "      for t in n_topics:\n",
        "        self._init_model(t)\n",
        "        self.hyperparams[e][t] = {}\n",
        "        self.hyperparams[e][t]['hashtags'] = {}\n",
        "        for h in hashtag_opts:\n",
        "          self.hyperparams[e][t]['hashtags'][h] = {}\n",
        "          self.hyperparams[e][t]['hashtags'][h]['ngram'] = {}\n",
        "          for n in ngrams:\n",
        "            ngram = (1, n)\n",
        "            self.hyperparams[e][t]['hashtags'][h]['ngram'][n] = {}\n",
        "            self.hyperparams[e][t]['hashtags'][h]['ngram'][n]['stf'] = {}\n",
        "            for s in stf:\n",
        "              self.hyperparams[e][t]['hashtags'][h]['ngram'][n]['stf'][s] = {}\n",
        "              self.hyperparams[e][t]['hashtags'][h]['ngram'][n]['stf'][s]['max_df'] = {}\n",
        "              for m in max_df:\n",
        "                self.hyperparams[e][t]['hashtags'][h]['ngram'][n]['stf'][s]['max_df'][m] = {}\n",
        "                self.hyperparams[e][t]['hashtags'][h]['ngram'][n]['stf'][s]['max_df'][m]['phrasing'] = {}\n",
        "                for p in phrasing:\n",
        "                  self.hyperparams[e][t]['hashtags'][h]['ngram'][n]['stf'][s]['max_df'][m]['phrasing'][p] = {}\n",
        "                  features = self.bertTM.get_features(stopwords=self.stopwords,\n",
        "                                                      phrasing=p,\n",
        "                                                      min_count=p_min_count,\n",
        "                                                      threshold=p_threshold)\n",
        "                  print(f'Getting components for kmeans model for '\n",
        "                        f'{t} topics, phrasing {p}, {n} ngrams, mdf {m} and stf {s}.')\n",
        "                  components, words_label = self.bertTM.determine_cluster_components(ngram)\n",
        "                  components_tfidf, components_tfidf_attn = self.bertTM.get_tfidf_components(max_df = m,\n",
        "                                                                                            stf = s)\n",
        "                  print(f'Determining topics for kmeans model with '\n",
        "                        f'{t} topics, phrasing {p}, {n} ngrams, mdf {m} and stf {s}.')\n",
        "                  self._store_hyperparams(e,t,h,s,m,p, n, features, \n",
        "                                          components, components_tfidf, components_tfidf_attn)\n",
        "                  self.bertTM.reset_model()\n",
        "\n",
        "    def _store_hyperparams(self,e,t,h,s,m,p, n, features, \n",
        "                           c, ctf, ctfa):\n",
        "        self.hyperparams[e][t]['hashtags'][h]['ngram'][n]['stf'][s]['max_df'][m]['phrasing'][p]['features'] = features\n",
        "        self.hyperparams[e][t]['hashtags'][h]['ngram'][n]['stf'][s]['max_df'][m]['phrasing'][p]['topics_attn'] = self._gen_topics(t, c)\n",
        "        self.hyperparams[e][t]['hashtags'][h]['ngram'][n]['stf'][s]['max_df'][m]['phrasing'][p]['topics_tfidf'] = self._gen_topics(t, ctf)\n",
        "        self.hyperparams[e][t]['hashtags'][h]['ngram'][n]['stf'][s]['max_df'][m]['phrasing'][p]['topics_tfidf_attn'] = self._gen_topics(t, ctfa)\n",
        "    \n",
        "    def _cluster_embeds(\n",
        "        n_clusters: int\n",
        "        ) -> Tuple[KMeans, np.ndarray]:\n",
        "        kmeans = KMeans(n_clusters = N_CLUSTERS, random_state = 0)\n",
        "        self.klabels = kmeans.fit_predict(self.embeddings)\n",
        "        unique, counts = np.unique(kmeans.labels_, return_counts=True)\n",
        "        print(\"The number of texts per label are:\")\n",
        "        print(dict(zip(unique, counts)))\n",
        "\n",
        "    def _init_model(self, t):\n",
        "        # Run kmeans model\n",
        "        print(f\"Running kmeans model with {t} topics.\")\n",
        "        self.bertTM = BertTopicModel(\n",
        "            texts = self.texts, \n",
        "            attentions = self.attns, \n",
        "            embeddings = self.embeddings,\n",
        "            n_clusters = t)\n",
        "        self.labels = self.bertTM.get_clusters()\n",
        "    \n",
        "    def _gen_topics(self, t, components, n_words = 10):\n",
        "        print(f\"Determining topics for kmeans model for with {t} topics.\")\n",
        "        topics = topics_df(topics = t, components = components, n_words = n_words)\n",
        "        return topics\n"
      ],
      "execution_count": null,
      "outputs": [
        {
          "output_type": "stream",
          "name": "stderr",
          "text": [
            "/usr/local/lib/python3.9/dist-packages/ipykernel/ipkernel.py:283: DeprecationWarning: `should_run_async` will not call `transform_cell` automatically in the future. Please pass the result to `transformed_cell` argument and any exception that happen during thetransform in `preprocessing_exc_tuple` in IPython 7.17 and above.\n",
            "  and should_run_async(code)\n"
          ]
        }
      ]
    },
    {
      "cell_type": "code",
      "metadata": {
        "id": "9GCLZJi_UP9e",
        "colab": {
          "base_uri": "https://localhost:8080/"
        },
        "outputId": "e7d7dca1-69c6-4fef-cdda-b248c222919a"
      },
      "source": [
        "ngrams=[1]\n",
        "max_df=[0.7, 0.8, 0.85]\n",
        "stf=[True]\n",
        "n_topics=[5,9,10,15]\n",
        "hashtag_opts=[False]\n",
        "phrasing=[False]\n",
        "p_min_count=5\n",
        "p_threshold=100\n",
        "hashtags =  ['nlwhiteout', 'nlweather', 'newfoundland', \n",
        "             'nlblizzard2020', 'nlstm2020','snowmaggedon2020', \n",
        "             'stmageddon2020','stormageddon2020', 'newfoundland2020',\n",
        "             'snowpocalypse2020','snowmageddon','nlstm', \n",
        "             'nlwx', 'nlwx2020','nlblizzard', 'nlstorm2020']\n",
        "\n",
        "# The above code sets up multiple hyperparameter options for topic modeling using LDA, including options for n-grams, maximum document frequency, stopword removal, number of topics, phrasing, and hashtags to remove. It creates lists of options for each hyperparameter and stores them in variables. \n",
        "# The hashtags list includes specific hashtags to remove from the text data."
      ],
      "execution_count": null,
      "outputs": [
        {
          "output_type": "stream",
          "name": "stderr",
          "text": [
            "/usr/local/lib/python3.9/dist-packages/ipykernel/ipkernel.py:283: DeprecationWarning: `should_run_async` will not call `transform_cell` automatically in the future. Please pass the result to `transformed_cell` argument and any exception that happen during thetransform in `preprocessing_exc_tuple` in IPython 7.17 and above.\n",
            "  and should_run_async(code)\n"
          ]
        }
      ]
    },
    {
      "cell_type": "code",
      "metadata": {
        "id": "7EJwoea_RX8j",
        "colab": {
          "base_uri": "https://localhost:8080/"
        },
        "outputId": "33b31ad1-4730-4878-f707-07b5cb97ac17"
      },
      "source": [
        "# The above code is creating a list of words and corresponding attention scores for each word in a batch of input text data. \n",
        "# This list is then passed to an instance of the TopicSearch class, which uses pre-trained embeddings to perform topic modeling on the input text. \n",
        "# The search method of the TopicSearch instance is called, which takes various parameters to configure the topic modeling process. \n",
        "# These parameters include the maximum document frequency (max_df), stop words to be excluded from analysis (stopwords_bert), and the number of topics to be identified (n_topics). \n",
        "# Hashtags and phrasing are also included in the analysis by specifying their respective options. \n",
        "# Finally, the name of the embedding used for analysis (fte) is also specified. \n",
        "# The resulting output from search will be a list of identified topics along with their corresponding word distributions.\n",
        "batch_words_attn_pairs = [list(zip(batch_words[i], batch_word_attns[i])) for i in range(0, len(batch_words))] \n",
        "\n",
        "ts = TopicSearch(embeddings = batch_embeds,\n",
        "                 texts = batch_words,\n",
        "                 attns = batch_words_attn_pairs,\n",
        "                 stopwords=stopwords_bert)\n",
        "ts.search(ngrams=ngrams,\n",
        "          max_df=max_df,\n",
        "          stf=stf,\n",
        "          n_topics = n_topics,\n",
        "          hashtags = hashtags,\n",
        "          hashtag_opts = hashtag_opts,\n",
        "          phrasing = phrasing,\n",
        "          p_min_count=5,\n",
        "          p_threshold=100,\n",
        "          embedding_name='fte')"
      ],
      "execution_count": null,
      "outputs": [
        {
          "output_type": "stream",
          "name": "stderr",
          "text": [
            "/usr/local/lib/python3.9/dist-packages/ipykernel/ipkernel.py:283: DeprecationWarning: `should_run_async` will not call `transform_cell` automatically in the future. Please pass the result to `transformed_cell` argument and any exception that happen during thetransform in `preprocessing_exc_tuple` in IPython 7.17 and above.\n",
            "  and should_run_async(code)\n"
          ]
        },
        {
          "output_type": "stream",
          "name": "stdout",
          "text": [
            "Running kmeans model with 5 topics.\n",
            "Fitting kmeans model.\n"
          ]
        },
        {
          "output_type": "stream",
          "name": "stderr",
          "text": [
            "/usr/local/lib/python3.9/dist-packages/sklearn/cluster/_kmeans.py:870: FutureWarning: The default value of `n_init` will change from 10 to 'auto' in 1.4. Set the value of `n_init` explicitly to suppress the warning\n",
            "  warnings.warn(\n"
          ]
        },
        {
          "output_type": "stream",
          "name": "stdout",
          "text": [
            "The number of texts per label are:\n",
            "{0: 9570, 1: 5693, 2: 2991, 3: 857, 4: 2686}\n",
            "Filtering attentions.\n",
            "21766\n",
            "21766\n",
            "Getting components for kmeans model for 5 topics, phrasing False, 1 ngrams, mdf 0.7 and stf True.\n",
            "\n",
            "    Determining cluster components. This will take a while. \n",
            "    Progress will be printed for every 500th processed property.\n",
            "        \n",
            "Processed 5000 texts in 0.59 seconds.\n",
            "Processed 10000 texts in 1.2 seconds.\n",
            "Processed 15000 texts in 1.81 seconds.\n",
            "Processed 20000 texts in 2.44 seconds.\n",
            "Finished determining a total of 21766 cluster components.        Total time 2.65 seconds.\n",
            "Determining topics for kmeans model with 5 topics, phrasing False, 1 ngrams, mdf 0.7 and stf True.\n",
            "Determining topics for kmeans model for with 5 topics.\n",
            "Determining topics for kmeans model for with 5 topics.\n",
            "Determining topics for kmeans model for with 5 topics.\n",
            "Filtering attentions.\n",
            "21766\n",
            "21766\n",
            "Getting components for kmeans model for 5 topics, phrasing False, 1 ngrams, mdf 0.8 and stf True.\n",
            "\n",
            "    Determining cluster components. This will take a while. \n",
            "    Progress will be printed for every 500th processed property.\n",
            "        \n",
            "Processed 5000 texts in 0.6 seconds.\n",
            "Processed 10000 texts in 1.19 seconds.\n",
            "Processed 15000 texts in 1.8 seconds.\n",
            "Processed 20000 texts in 2.44 seconds.\n",
            "Finished determining a total of 21766 cluster components.        Total time 2.65 seconds.\n",
            "Determining topics for kmeans model with 5 topics, phrasing False, 1 ngrams, mdf 0.8 and stf True.\n",
            "Determining topics for kmeans model for with 5 topics.\n",
            "Determining topics for kmeans model for with 5 topics.\n",
            "Determining topics for kmeans model for with 5 topics.\n",
            "Filtering attentions.\n",
            "21766\n",
            "21766\n",
            "Getting components for kmeans model for 5 topics, phrasing False, 1 ngrams, mdf 0.85 and stf True.\n",
            "\n",
            "    Determining cluster components. This will take a while. \n",
            "    Progress will be printed for every 500th processed property.\n",
            "        \n",
            "Processed 5000 texts in 0.6 seconds.\n",
            "Processed 10000 texts in 1.22 seconds.\n",
            "Processed 15000 texts in 1.83 seconds.\n",
            "Processed 20000 texts in 2.45 seconds.\n",
            "Finished determining a total of 21766 cluster components.        Total time 2.66 seconds.\n",
            "Determining topics for kmeans model with 5 topics, phrasing False, 1 ngrams, mdf 0.85 and stf True.\n",
            "Determining topics for kmeans model for with 5 topics.\n",
            "Determining topics for kmeans model for with 5 topics.\n",
            "Determining topics for kmeans model for with 5 topics.\n",
            "Running kmeans model with 9 topics.\n",
            "Fitting kmeans model.\n"
          ]
        },
        {
          "output_type": "stream",
          "name": "stderr",
          "text": [
            "/usr/local/lib/python3.9/dist-packages/sklearn/cluster/_kmeans.py:870: FutureWarning: The default value of `n_init` will change from 10 to 'auto' in 1.4. Set the value of `n_init` explicitly to suppress the warning\n",
            "  warnings.warn(\n"
          ]
        },
        {
          "output_type": "stream",
          "name": "stdout",
          "text": [
            "The number of texts per label are:\n",
            "{0: 2680, 1: 4336, 2: 1881, 3: 826, 4: 662, 5: 5060, 6: 1095, 7: 4304, 8: 953}\n",
            "Filtering attentions.\n",
            "21766\n",
            "21766\n",
            "Getting components for kmeans model for 9 topics, phrasing False, 1 ngrams, mdf 0.7 and stf True.\n",
            "\n",
            "    Determining cluster components. This will take a while. \n",
            "    Progress will be printed for every 500th processed property.\n",
            "        \n",
            "Processed 5000 texts in 1.05 seconds.\n",
            "Processed 10000 texts in 2.12 seconds.\n",
            "Processed 15000 texts in 3.1 seconds.\n",
            "Processed 20000 texts in 3.73 seconds.\n",
            "Finished determining a total of 21766 cluster components.        Total time 3.93 seconds.\n",
            "Determining topics for kmeans model with 9 topics, phrasing False, 1 ngrams, mdf 0.7 and stf True.\n",
            "Determining topics for kmeans model for with 9 topics.\n",
            "Determining topics for kmeans model for with 9 topics.\n",
            "Determining topics for kmeans model for with 9 topics.\n",
            "Filtering attentions.\n",
            "21766\n",
            "21766\n",
            "Getting components for kmeans model for 9 topics, phrasing False, 1 ngrams, mdf 0.8 and stf True.\n",
            "\n",
            "    Determining cluster components. This will take a while. \n",
            "    Progress will be printed for every 500th processed property.\n",
            "        \n",
            "Processed 5000 texts in 1.04 seconds.\n",
            "Processed 10000 texts in 1.92 seconds.\n",
            "Processed 15000 texts in 2.58 seconds.\n",
            "Processed 20000 texts in 3.25 seconds.\n",
            "Finished determining a total of 21766 cluster components.        Total time 3.47 seconds.\n",
            "Determining topics for kmeans model with 9 topics, phrasing False, 1 ngrams, mdf 0.8 and stf True.\n",
            "Determining topics for kmeans model for with 9 topics.\n",
            "Determining topics for kmeans model for with 9 topics.\n",
            "Determining topics for kmeans model for with 9 topics.\n",
            "Filtering attentions.\n",
            "21766\n",
            "21766\n",
            "Getting components for kmeans model for 9 topics, phrasing False, 1 ngrams, mdf 0.85 and stf True.\n",
            "\n",
            "    Determining cluster components. This will take a while. \n",
            "    Progress will be printed for every 500th processed property.\n",
            "        \n",
            "Processed 5000 texts in 0.62 seconds.\n",
            "Processed 10000 texts in 1.22 seconds.\n",
            "Processed 15000 texts in 1.83 seconds.\n",
            "Processed 20000 texts in 2.46 seconds.\n",
            "Finished determining a total of 21766 cluster components.        Total time 2.67 seconds.\n",
            "Determining topics for kmeans model with 9 topics, phrasing False, 1 ngrams, mdf 0.85 and stf True.\n",
            "Determining topics for kmeans model for with 9 topics.\n",
            "Determining topics for kmeans model for with 9 topics.\n",
            "Determining topics for kmeans model for with 9 topics.\n",
            "Running kmeans model with 10 topics.\n",
            "Fitting kmeans model.\n"
          ]
        },
        {
          "output_type": "stream",
          "name": "stderr",
          "text": [
            "/usr/local/lib/python3.9/dist-packages/sklearn/cluster/_kmeans.py:870: FutureWarning: The default value of `n_init` will change from 10 to 'auto' in 1.4. Set the value of `n_init` explicitly to suppress the warning\n",
            "  warnings.warn(\n"
          ]
        },
        {
          "output_type": "stream",
          "name": "stdout",
          "text": [
            "The number of texts per label are:\n",
            "{0: 4779, 1: 4061, 2: 804, 3: 4328, 4: 649, 5: 888, 6: 1882, 7: 787, 8: 2535, 9: 1084}\n",
            "Filtering attentions.\n",
            "21766\n",
            "21766\n",
            "Getting components for kmeans model for 10 topics, phrasing False, 1 ngrams, mdf 0.7 and stf True.\n",
            "\n",
            "    Determining cluster components. This will take a while. \n",
            "    Progress will be printed for every 500th processed property.\n",
            "        \n",
            "Processed 5000 texts in 1.09 seconds.\n",
            "Processed 10000 texts in 2.17 seconds.\n",
            "Processed 15000 texts in 3.08 seconds.\n",
            "Processed 20000 texts in 3.73 seconds.\n",
            "Finished determining a total of 21766 cluster components.        Total time 3.96 seconds.\n",
            "Determining topics for kmeans model with 10 topics, phrasing False, 1 ngrams, mdf 0.7 and stf True.\n",
            "Determining topics for kmeans model for with 10 topics.\n",
            "Determining topics for kmeans model for with 10 topics.\n",
            "Determining topics for kmeans model for with 10 topics.\n",
            "Filtering attentions.\n",
            "21766\n",
            "21766\n",
            "Getting components for kmeans model for 10 topics, phrasing False, 1 ngrams, mdf 0.8 and stf True.\n",
            "\n",
            "    Determining cluster components. This will take a while. \n",
            "    Progress will be printed for every 500th processed property.\n",
            "        \n",
            "Processed 5000 texts in 1.0 seconds.\n",
            "Processed 10000 texts in 1.63 seconds.\n",
            "Processed 15000 texts in 2.27 seconds.\n",
            "Processed 20000 texts in 2.89 seconds.\n",
            "Finished determining a total of 21766 cluster components.        Total time 3.1 seconds.\n",
            "Determining topics for kmeans model with 10 topics, phrasing False, 1 ngrams, mdf 0.8 and stf True.\n",
            "Determining topics for kmeans model for with 10 topics.\n",
            "Determining topics for kmeans model for with 10 topics.\n",
            "Determining topics for kmeans model for with 10 topics.\n",
            "Filtering attentions.\n",
            "21766\n",
            "21766\n",
            "Getting components for kmeans model for 10 topics, phrasing False, 1 ngrams, mdf 0.85 and stf True.\n",
            "\n",
            "    Determining cluster components. This will take a while. \n",
            "    Progress will be printed for every 500th processed property.\n",
            "        \n",
            "Processed 5000 texts in 1.07 seconds.\n",
            "Processed 10000 texts in 2.11 seconds.\n",
            "Processed 15000 texts in 2.82 seconds.\n",
            "Processed 20000 texts in 3.43 seconds.\n",
            "Finished determining a total of 21766 cluster components.        Total time 3.65 seconds.\n",
            "Determining topics for kmeans model with 10 topics, phrasing False, 1 ngrams, mdf 0.85 and stf True.\n",
            "Determining topics for kmeans model for with 10 topics.\n",
            "Determining topics for kmeans model for with 10 topics.\n",
            "Determining topics for kmeans model for with 10 topics.\n",
            "Running kmeans model with 15 topics.\n",
            "Fitting kmeans model.\n"
          ]
        },
        {
          "output_type": "stream",
          "name": "stderr",
          "text": [
            "/usr/local/lib/python3.9/dist-packages/sklearn/cluster/_kmeans.py:870: FutureWarning: The default value of `n_init` will change from 10 to 'auto' in 1.4. Set the value of `n_init` explicitly to suppress the warning\n",
            "  warnings.warn(\n"
          ]
        },
        {
          "output_type": "stream",
          "name": "stdout",
          "text": [
            "The number of texts per label are:\n",
            "{0: 765, 1: 3325, 2: 3588, 3: 435, 4: 2963, 5: 1139, 6: 386, 7: 1307, 8: 534, 9: 2009, 10: 665, 11: 1563, 12: 1835, 13: 610, 14: 673}\n",
            "Filtering attentions.\n",
            "21766\n",
            "21766\n",
            "Getting components for kmeans model for 15 topics, phrasing False, 1 ngrams, mdf 0.7 and stf True.\n",
            "\n",
            "    Determining cluster components. This will take a while. \n",
            "    Progress will be printed for every 500th processed property.\n",
            "        \n",
            "Processed 5000 texts in 0.61 seconds.\n",
            "Processed 10000 texts in 1.23 seconds.\n",
            "Processed 15000 texts in 1.84 seconds.\n",
            "Processed 20000 texts in 2.47 seconds.\n",
            "Finished determining a total of 21766 cluster components.        Total time 2.68 seconds.\n",
            "Determining topics for kmeans model with 15 topics, phrasing False, 1 ngrams, mdf 0.7 and stf True.\n",
            "Determining topics for kmeans model for with 15 topics.\n",
            "Determining topics for kmeans model for with 15 topics.\n",
            "Determining topics for kmeans model for with 15 topics.\n",
            "Filtering attentions.\n",
            "21766\n",
            "21766\n",
            "Getting components for kmeans model for 15 topics, phrasing False, 1 ngrams, mdf 0.8 and stf True.\n",
            "\n",
            "    Determining cluster components. This will take a while. \n",
            "    Progress will be printed for every 500th processed property.\n",
            "        \n",
            "Processed 5000 texts in 0.61 seconds.\n",
            "Processed 10000 texts in 1.21 seconds.\n",
            "Processed 15000 texts in 1.82 seconds.\n",
            "Processed 20000 texts in 2.47 seconds.\n",
            "Finished determining a total of 21766 cluster components.        Total time 2.68 seconds.\n",
            "Determining topics for kmeans model with 15 topics, phrasing False, 1 ngrams, mdf 0.8 and stf True.\n",
            "Determining topics for kmeans model for with 15 topics.\n",
            "Determining topics for kmeans model for with 15 topics.\n",
            "Determining topics for kmeans model for with 15 topics.\n",
            "Filtering attentions.\n",
            "21766\n",
            "21766\n",
            "Getting components for kmeans model for 15 topics, phrasing False, 1 ngrams, mdf 0.85 and stf True.\n",
            "\n",
            "    Determining cluster components. This will take a while. \n",
            "    Progress will be printed for every 500th processed property.\n",
            "        \n",
            "Processed 5000 texts in 0.59 seconds.\n",
            "Processed 10000 texts in 1.21 seconds.\n",
            "Processed 15000 texts in 1.84 seconds.\n",
            "Processed 20000 texts in 2.49 seconds.\n",
            "Finished determining a total of 21766 cluster components.        Total time 2.7 seconds.\n",
            "Determining topics for kmeans model with 15 topics, phrasing False, 1 ngrams, mdf 0.85 and stf True.\n",
            "Determining topics for kmeans model for with 15 topics.\n",
            "Determining topics for kmeans model for with 15 topics.\n",
            "Determining topics for kmeans model for with 15 topics.\n"
          ]
        }
      ]
    },
    {
      "cell_type": "markdown",
      "metadata": {
        "id": "fcsj9YnZv8DZ"
      },
      "source": [
        "## Baselines"
      ]
    },
    {
      "cell_type": "code",
      "metadata": {
        "id": "t6E1UD7Qv6c3",
        "colab": {
          "base_uri": "https://localhost:8080/"
        },
        "outputId": "34136d35-e2b2-4cb1-b9f0-5c275f2b0963"
      },
      "source": [
        "# The below code is creating a new object ts_bert of the class TopicSearch that takes in three arguments embeddings, texts, and attns, \n",
        "# which are preprocessed using BERT embeddings. \n",
        "# The batch_words_attn_pairs_bert variable creates pairs of words and their corresponding attention values using the zip function. \n",
        "# Then, ts_bert.search() method is called with various parameters including ngrams, max_df, stf, n_topics, hashtags, hashtag_opts, phrasing, p_min_count, p_threshold, and embedding_name. \n",
        "# This method searches for topics using the provided parameters and BERT embeddings.\n",
        "batch_words_attn_pairs_bert = [list(zip(batch_words_bert[i], batch_word_attns_bert[i])) for i in range(0, len(batch_words_bert))] \n",
        "\n",
        "ts_bert = TopicSearch(embeddings = batch_embeds_bert,\n",
        "                 texts = batch_words_bert,\n",
        "                 attns = batch_words_attn_pairs_bert,\n",
        "                 stopwords=stopwords_bert)\n",
        "ts_bert.search(ngrams=ngrams,\n",
        "          max_df=max_df,\n",
        "          stf=stf,\n",
        "          n_topics = n_topics,\n",
        "          hashtags = hashtags,\n",
        "          hashtag_opts = hashtag_opts,\n",
        "          phrasing = phrasing,\n",
        "          p_min_count=5,\n",
        "          p_threshold=100,\n",
        "          embedding_name='bert')"
      ],
      "execution_count": null,
      "outputs": [
        {
          "output_type": "stream",
          "name": "stderr",
          "text": [
            "/usr/local/lib/python3.9/dist-packages/ipykernel/ipkernel.py:283: DeprecationWarning: `should_run_async` will not call `transform_cell` automatically in the future. Please pass the result to `transformed_cell` argument and any exception that happen during thetransform in `preprocessing_exc_tuple` in IPython 7.17 and above.\n",
            "  and should_run_async(code)\n",
            "/usr/local/lib/python3.9/dist-packages/sklearn/cluster/_kmeans.py:870: FutureWarning: The default value of `n_init` will change from 10 to 'auto' in 1.4. Set the value of `n_init` explicitly to suppress the warning\n",
            "  warnings.warn(\n"
          ]
        },
        {
          "output_type": "stream",
          "name": "stdout",
          "text": [
            "Running kmeans model with 5 topics.\n",
            "Fitting kmeans model.\n",
            "The number of texts per label are:\n",
            "{0: 1646, 1: 6673, 2: 8055, 3: 4057, 4: 1366}\n",
            "Filtering attentions.\n",
            "21766\n",
            "21766\n",
            "Getting components for kmeans model for 5 topics, phrasing False, 1 ngrams, mdf 0.7 and stf True.\n",
            "\n",
            "    Determining cluster components. This will take a while. \n",
            "    Progress will be printed for every 500th processed property.\n",
            "        \n",
            "Processed 5000 texts in 0.97 seconds.\n",
            "Processed 10000 texts in 1.57 seconds.\n",
            "Processed 15000 texts in 2.18 seconds.\n",
            "Processed 20000 texts in 2.82 seconds.\n",
            "Finished determining a total of 21766 cluster components.        Total time 3.05 seconds.\n",
            "Determining topics for kmeans model with 5 topics, phrasing False, 1 ngrams, mdf 0.7 and stf True.\n",
            "Determining topics for kmeans model for with 5 topics.\n",
            "Determining topics for kmeans model for with 5 topics.\n",
            "Determining topics for kmeans model for with 5 topics.\n",
            "Filtering attentions.\n",
            "21766\n",
            "21766\n",
            "Getting components for kmeans model for 5 topics, phrasing False, 1 ngrams, mdf 0.8 and stf True.\n",
            "\n",
            "    Determining cluster components. This will take a while. \n",
            "    Progress will be printed for every 500th processed property.\n",
            "        \n",
            "Processed 5000 texts in 0.59 seconds.\n",
            "Processed 10000 texts in 1.22 seconds.\n",
            "Processed 15000 texts in 1.84 seconds.\n",
            "Processed 20000 texts in 2.47 seconds.\n",
            "Finished determining a total of 21766 cluster components.        Total time 2.7 seconds.\n",
            "Determining topics for kmeans model with 5 topics, phrasing False, 1 ngrams, mdf 0.8 and stf True.\n",
            "Determining topics for kmeans model for with 5 topics.\n",
            "Determining topics for kmeans model for with 5 topics.\n",
            "Determining topics for kmeans model for with 5 topics.\n",
            "Filtering attentions.\n",
            "21766\n",
            "21766\n",
            "Getting components for kmeans model for 5 topics, phrasing False, 1 ngrams, mdf 0.85 and stf True.\n",
            "\n",
            "    Determining cluster components. This will take a while. \n",
            "    Progress will be printed for every 500th processed property.\n",
            "        \n",
            "Processed 5000 texts in 0.59 seconds.\n",
            "Processed 10000 texts in 1.21 seconds.\n",
            "Processed 15000 texts in 1.85 seconds.\n",
            "Processed 20000 texts in 2.96 seconds.\n",
            "Finished determining a total of 21766 cluster components.        Total time 3.34 seconds.\n",
            "Determining topics for kmeans model with 5 topics, phrasing False, 1 ngrams, mdf 0.85 and stf True.\n",
            "Determining topics for kmeans model for with 5 topics.\n",
            "Determining topics for kmeans model for with 5 topics.\n",
            "Determining topics for kmeans model for with 5 topics.\n",
            "Running kmeans model with 9 topics.\n",
            "Fitting kmeans model.\n"
          ]
        },
        {
          "output_type": "stream",
          "name": "stderr",
          "text": [
            "/usr/local/lib/python3.9/dist-packages/sklearn/cluster/_kmeans.py:870: FutureWarning: The default value of `n_init` will change from 10 to 'auto' in 1.4. Set the value of `n_init` explicitly to suppress the warning\n",
            "  warnings.warn(\n"
          ]
        },
        {
          "output_type": "stream",
          "name": "stdout",
          "text": [
            "The number of texts per label are:\n",
            "{0: 1605, 1: 2374, 2: 3635, 3: 2333, 4: 2790, 5: 3184, 6: 2156, 7: 1297, 8: 2423}\n",
            "Filtering attentions.\n",
            "21766\n",
            "21766\n",
            "Getting components for kmeans model for 9 topics, phrasing False, 1 ngrams, mdf 0.7 and stf True.\n",
            "\n",
            "    Determining cluster components. This will take a while. \n",
            "    Progress will be printed for every 500th processed property.\n",
            "        \n",
            "Processed 5000 texts in 0.6 seconds.\n",
            "Processed 10000 texts in 1.2 seconds.\n",
            "Processed 15000 texts in 1.81 seconds.\n",
            "Processed 20000 texts in 2.45 seconds.\n",
            "Finished determining a total of 21766 cluster components.        Total time 2.66 seconds.\n",
            "Determining topics for kmeans model with 9 topics, phrasing False, 1 ngrams, mdf 0.7 and stf True.\n",
            "Determining topics for kmeans model for with 9 topics.\n",
            "Determining topics for kmeans model for with 9 topics.\n",
            "Determining topics for kmeans model for with 9 topics.\n",
            "Filtering attentions.\n",
            "21766\n",
            "21766\n",
            "Getting components for kmeans model for 9 topics, phrasing False, 1 ngrams, mdf 0.8 and stf True.\n",
            "\n",
            "    Determining cluster components. This will take a while. \n",
            "    Progress will be printed for every 500th processed property.\n",
            "        \n",
            "Processed 5000 texts in 0.6 seconds.\n",
            "Processed 10000 texts in 1.21 seconds.\n",
            "Processed 15000 texts in 1.85 seconds.\n",
            "Processed 20000 texts in 2.49 seconds.\n",
            "Finished determining a total of 21766 cluster components.        Total time 2.7 seconds.\n",
            "Determining topics for kmeans model with 9 topics, phrasing False, 1 ngrams, mdf 0.8 and stf True.\n",
            "Determining topics for kmeans model for with 9 topics.\n",
            "Determining topics for kmeans model for with 9 topics.\n",
            "Determining topics for kmeans model for with 9 topics.\n",
            "Filtering attentions.\n",
            "21766\n",
            "21766\n",
            "Getting components for kmeans model for 9 topics, phrasing False, 1 ngrams, mdf 0.85 and stf True.\n",
            "\n",
            "    Determining cluster components. This will take a while. \n",
            "    Progress will be printed for every 500th processed property.\n",
            "        \n",
            "Processed 5000 texts in 0.6 seconds.\n",
            "Processed 10000 texts in 1.21 seconds.\n",
            "Processed 15000 texts in 1.84 seconds.\n",
            "Processed 20000 texts in 2.47 seconds.\n",
            "Finished determining a total of 21766 cluster components.        Total time 2.69 seconds.\n",
            "Determining topics for kmeans model with 9 topics, phrasing False, 1 ngrams, mdf 0.85 and stf True.\n",
            "Determining topics for kmeans model for with 9 topics.\n",
            "Determining topics for kmeans model for with 9 topics.\n",
            "Determining topics for kmeans model for with 9 topics.\n",
            "Running kmeans model with 10 topics.\n",
            "Fitting kmeans model.\n"
          ]
        },
        {
          "output_type": "stream",
          "name": "stderr",
          "text": [
            "/usr/local/lib/python3.9/dist-packages/sklearn/cluster/_kmeans.py:870: FutureWarning: The default value of `n_init` will change from 10 to 'auto' in 1.4. Set the value of `n_init` explicitly to suppress the warning\n",
            "  warnings.warn(\n"
          ]
        },
        {
          "output_type": "stream",
          "name": "stdout",
          "text": [
            "The number of texts per label are:\n",
            "{0: 747, 1: 3223, 2: 1248, 3: 3016, 4: 2057, 5: 3795, 6: 2296, 7: 2257, 8: 930, 9: 2228}\n",
            "Filtering attentions.\n",
            "21766\n",
            "21766\n",
            "Getting components for kmeans model for 10 topics, phrasing False, 1 ngrams, mdf 0.7 and stf True.\n",
            "\n",
            "    Determining cluster components. This will take a while. \n",
            "    Progress will be printed for every 500th processed property.\n",
            "        \n",
            "Processed 5000 texts in 0.63 seconds.\n",
            "Processed 10000 texts in 1.24 seconds.\n",
            "Processed 15000 texts in 1.86 seconds.\n",
            "Processed 20000 texts in 2.78 seconds.\n",
            "Finished determining a total of 21766 cluster components.        Total time 3.14 seconds.\n",
            "Determining topics for kmeans model with 10 topics, phrasing False, 1 ngrams, mdf 0.7 and stf True.\n",
            "Determining topics for kmeans model for with 10 topics.\n",
            "Determining topics for kmeans model for with 10 topics.\n",
            "Determining topics for kmeans model for with 10 topics.\n",
            "Filtering attentions.\n",
            "21766\n",
            "21766\n",
            "Getting components for kmeans model for 10 topics, phrasing False, 1 ngrams, mdf 0.8 and stf True.\n",
            "\n",
            "    Determining cluster components. This will take a while. \n",
            "    Progress will be printed for every 500th processed property.\n",
            "        \n",
            "Processed 5000 texts in 0.61 seconds.\n",
            "Processed 10000 texts in 1.48 seconds.\n",
            "Processed 15000 texts in 2.63 seconds.\n",
            "Processed 20000 texts in 3.75 seconds.\n",
            "Finished determining a total of 21766 cluster components.        Total time 4.12 seconds.\n",
            "Determining topics for kmeans model with 10 topics, phrasing False, 1 ngrams, mdf 0.8 and stf True.\n",
            "Determining topics for kmeans model for with 10 topics.\n",
            "Determining topics for kmeans model for with 10 topics.\n",
            "Determining topics for kmeans model for with 10 topics.\n",
            "Filtering attentions.\n",
            "21766\n",
            "21766\n",
            "Getting components for kmeans model for 10 topics, phrasing False, 1 ngrams, mdf 0.85 and stf True.\n",
            "\n",
            "    Determining cluster components. This will take a while. \n",
            "    Progress will be printed for every 500th processed property.\n",
            "        \n",
            "Processed 5000 texts in 1.11 seconds.\n",
            "Processed 10000 texts in 2.12 seconds.\n",
            "Processed 15000 texts in 2.76 seconds.\n",
            "Processed 20000 texts in 3.41 seconds.\n",
            "Finished determining a total of 21766 cluster components.        Total time 3.64 seconds.\n",
            "Determining topics for kmeans model with 10 topics, phrasing False, 1 ngrams, mdf 0.85 and stf True.\n",
            "Determining topics for kmeans model for with 10 topics.\n",
            "Determining topics for kmeans model for with 10 topics.\n",
            "Determining topics for kmeans model for with 10 topics.\n",
            "Running kmeans model with 15 topics.\n",
            "Fitting kmeans model.\n"
          ]
        },
        {
          "output_type": "stream",
          "name": "stderr",
          "text": [
            "/usr/local/lib/python3.9/dist-packages/sklearn/cluster/_kmeans.py:870: FutureWarning: The default value of `n_init` will change from 10 to 'auto' in 1.4. Set the value of `n_init` explicitly to suppress the warning\n",
            "  warnings.warn(\n"
          ]
        },
        {
          "output_type": "stream",
          "name": "stdout",
          "text": [
            "The number of texts per label are:\n",
            "{0: 1622, 1: 1973, 2: 1225, 3: 1625, 4: 1199, 5: 2277, 6: 1382, 7: 1607, 8: 1507, 9: 1343, 10: 720, 11: 910, 12: 1930, 13: 180, 14: 2297}\n",
            "Filtering attentions.\n",
            "21766\n",
            "21766\n",
            "Getting components for kmeans model for 15 topics, phrasing False, 1 ngrams, mdf 0.7 and stf True.\n",
            "\n",
            "    Determining cluster components. This will take a while. \n",
            "    Progress will be printed for every 500th processed property.\n",
            "        \n",
            "Processed 5000 texts in 0.6 seconds.\n",
            "Processed 10000 texts in 1.21 seconds.\n",
            "Processed 15000 texts in 1.82 seconds.\n",
            "Processed 20000 texts in 2.46 seconds.\n",
            "Finished determining a total of 21766 cluster components.        Total time 2.68 seconds.\n",
            "Determining topics for kmeans model with 15 topics, phrasing False, 1 ngrams, mdf 0.7 and stf True.\n",
            "Determining topics for kmeans model for with 15 topics.\n",
            "Determining topics for kmeans model for with 15 topics.\n",
            "Determining topics for kmeans model for with 15 topics.\n",
            "Filtering attentions.\n",
            "21766\n",
            "21766\n",
            "Getting components for kmeans model for 15 topics, phrasing False, 1 ngrams, mdf 0.8 and stf True.\n",
            "\n",
            "    Determining cluster components. This will take a while. \n",
            "    Progress will be printed for every 500th processed property.\n",
            "        \n",
            "Processed 5000 texts in 0.59 seconds.\n",
            "Processed 10000 texts in 1.22 seconds.\n",
            "Processed 15000 texts in 1.83 seconds.\n",
            "Processed 20000 texts in 2.46 seconds.\n",
            "Finished determining a total of 21766 cluster components.        Total time 2.67 seconds.\n",
            "Determining topics for kmeans model with 15 topics, phrasing False, 1 ngrams, mdf 0.8 and stf True.\n",
            "Determining topics for kmeans model for with 15 topics.\n",
            "Determining topics for kmeans model for with 15 topics.\n",
            "Determining topics for kmeans model for with 15 topics.\n",
            "Filtering attentions.\n",
            "21766\n",
            "21766\n",
            "Getting components for kmeans model for 15 topics, phrasing False, 1 ngrams, mdf 0.85 and stf True.\n",
            "\n",
            "    Determining cluster components. This will take a while. \n",
            "    Progress will be printed for every 500th processed property.\n",
            "        \n",
            "Processed 5000 texts in 0.61 seconds.\n",
            "Processed 10000 texts in 1.22 seconds.\n",
            "Processed 15000 texts in 1.84 seconds.\n",
            "Processed 20000 texts in 2.49 seconds.\n",
            "Finished determining a total of 21766 cluster components.        Total time 2.71 seconds.\n",
            "Determining topics for kmeans model with 15 topics, phrasing False, 1 ngrams, mdf 0.85 and stf True.\n",
            "Determining topics for kmeans model for with 15 topics.\n",
            "Determining topics for kmeans model for with 15 topics.\n",
            "Determining topics for kmeans model for with 15 topics.\n"
          ]
        }
      ]
    },
    {
      "cell_type": "code",
      "metadata": {
        "id": "ylRRAUz6Yn4u",
        "colab": {
          "base_uri": "https://localhost:8080/"
        },
        "outputId": "27d9e5fb-1b48-42e2-98a7-8af112ca842d"
      },
      "source": [
        "trainLDA = False\n",
        "trainBTM = False"
      ],
      "execution_count": null,
      "outputs": [
        {
          "output_type": "stream",
          "name": "stderr",
          "text": [
            "/usr/local/lib/python3.9/dist-packages/ipykernel/ipkernel.py:283: DeprecationWarning: `should_run_async` will not call `transform_cell` automatically in the future. Please pass the result to `transformed_cell` argument and any exception that happen during thetransform in `preprocessing_exc_tuple` in IPython 7.17 and above.\n",
            "  and should_run_async(code)\n"
          ]
        }
      ]
    },
    {
      "cell_type": "code",
      "metadata": {
        "id": "FSGszm18dFZ0",
        "colab": {
          "base_uri": "https://localhost:8080/"
        },
        "outputId": "c228455f-07e9-4483-fe52-056c817e820e"
      },
      "source": [
        "if not (trainLDA or trainBTM):\n",
        "  if not Path(\"lda_coherence\").exists():\n",
        "    !gdown --id 1WaB0v5qlBIhp0RIORO_fNiWNcoSwiC6w\n",
        "\n",
        "  lda_df = pd.read_csv(\"lda_coherence.csv\")\n",
        "\n",
        "if not trainLDA:\n",
        "  if not Path(\"lda_labels\").exists():\n",
        "    !gdown --id 14lk_2gTzPoaO6CfXcvSc93tWpOcJ-FE-\n",
        "\n",
        "  lda_labels = pd.read_csv(\"lda_labels.csv\")\n",
        "\n",
        "if not trainBTM:\n",
        "  if not Path(\"btm_labels\").exists():\n",
        "    !gdown --id 1gnudbXBS0mK_tq2ayxkn94XM31xrIqbT\n",
        "\n",
        "  btm_labels = pd.read_csv(\"btm_labels.csv\")\n",
        "\n",
        "# The code checks if trainLDA or trainBTM variables are False. If they are, it checks if certain files exist. \n",
        "# If they don't exist, the code downloads the corresponding files from Google Drive. Specifically, if trainLDA is False, the code checks if lda_coherence.csv and lda_labels.csv files exist, and if they don't, downloads them. \n",
        "# If trainBTM is False, the code checks if btm_labels.csv file exists and if it doesn't, downloads it."
      ],
      "execution_count": null,
      "outputs": [
        {
          "output_type": "stream",
          "name": "stderr",
          "text": [
            "/usr/local/lib/python3.9/dist-packages/ipykernel/ipkernel.py:283: DeprecationWarning: `should_run_async` will not call `transform_cell` automatically in the future. Please pass the result to `transformed_cell` argument and any exception that happen during thetransform in `preprocessing_exc_tuple` in IPython 7.17 and above.\n",
            "  and should_run_async(code)\n"
          ]
        },
        {
          "output_type": "stream",
          "name": "stdout",
          "text": [
            "/usr/local/lib/python3.9/dist-packages/gdown/cli.py:121: FutureWarning: Option `--id` was deprecated in version 4.3.1 and will be removed in 5.0. You don't need to pass it anymore to use a file ID.\n",
            "  warnings.warn(\n",
            "Downloading...\n",
            "From: https://drive.google.com/uc?id=1WaB0v5qlBIhp0RIORO_fNiWNcoSwiC6w\n",
            "To: /content/lda_coherence.csv\n",
            "100% 441/441 [00:00<00:00, 974kB/s]\n",
            "/usr/local/lib/python3.9/dist-packages/gdown/cli.py:121: FutureWarning: Option `--id` was deprecated in version 4.3.1 and will be removed in 5.0. You don't need to pass it anymore to use a file ID.\n",
            "  warnings.warn(\n",
            "Downloading...\n",
            "From: https://drive.google.com/uc?id=14lk_2gTzPoaO6CfXcvSc93tWpOcJ-FE-\n",
            "To: /content/lda_labels.csv\n",
            "100% 2.46M/2.46M [00:00<00:00, 231MB/s]\n",
            "/usr/local/lib/python3.9/dist-packages/gdown/cli.py:121: FutureWarning: Option `--id` was deprecated in version 4.3.1 and will be removed in 5.0. You don't need to pass it anymore to use a file ID.\n",
            "  warnings.warn(\n",
            "Downloading...\n",
            "From: https://drive.google.com/uc?id=1gnudbXBS0mK_tq2ayxkn94XM31xrIqbT\n",
            "To: /content/btm_labels.csv\n",
            "100% 2.46M/2.46M [00:00<00:00, 126MB/s]\n"
          ]
        }
      ]
    },
    {
      "cell_type": "markdown",
      "metadata": {
        "id": "bmMoHZiBzvvD"
      },
      "source": [
        "### Preprocessing and Util"
      ]
    },
    {
      "cell_type": "code",
      "metadata": {
        "id": "7i63UCRPyXtx",
        "colab": {
          "base_uri": "https://localhost:8080/"
        },
        "outputId": "69f461f8-330a-40ad-c263-8b7da098a97b"
      },
      "source": [
        "if (trainLDA or trainBTM):\n",
        "\n",
        "  def get_frequent_vocab(corpus, threshold=0):\n",
        "      '''\n",
        "      Gets words whose frequency exceeds that of the threshold\n",
        "      in a given corpus.\n",
        "\n",
        "      :param corpus: list of tokenized words\n",
        "      :param threshold:\n",
        "      :return: list of words with higher frequency than threshold\n",
        "      '''\n",
        "      vect = CountVectorizer().fit(corpus)\n",
        "      bag_of_words = vect.transform(corpus)\n",
        "      sum_words = bag_of_words.sum(axis=0)\n",
        "      freq = {word: sum_words[0, idx] for word, idx in vect.vocabulary_.items()}\n",
        "      return [word for word, count in freq.items() if count >= threshold]\n",
        "\n",
        "  def preprocess(df,\n",
        "                  extra_stopwords,\n",
        "                  tweet_col='text',\n",
        "                  to_lower = True,\n",
        "                  include_bigram = False,\n",
        "                  vocab_threshold = 10\n",
        "                  ):\n",
        "      '''\n",
        "      Preprocesses text in a certain dataframe column.\n",
        "\n",
        "      :param df: dataframe to be processed\n",
        "      :param tweet_col: name of dataframe column containing text\n",
        "      :param to_lower: flag whether to convert to lowercase\n",
        "      :param include_bigram: flag whether to include bigrams\n",
        "      :param vocab_threshold: minimum number of words in each tweet\n",
        "      :param extra_stopwords: extra stopwords to add onto default nltk\n",
        "      :return: original df with extra column, 'tokenized_[tweet_col]'\n",
        "      '''\n",
        "      df_copy = df.copy()\n",
        "\n",
        "      # drop rows with empty values\n",
        "      df_copy.dropna(how='all', inplace=True)\n",
        "      # drop rows with identical text\n",
        "      df_copy.drop_duplicates(subset = 'text', inplace = True)\n",
        "\n",
        "      # lower the tweets\n",
        "      if to_lower:\n",
        "          df_copy['preprocessed_' + tweet_col] = df_copy[tweet_col].str.lower()\n",
        "      else:\n",
        "          df_copy['preprocessed_' + tweet_col] = df_copy[tweet_col].str\n",
        "\n",
        "      # filter out stop words and URLs\n",
        "      en_stop_words = set(stopwords.words('english'))\n",
        "\n",
        "      #extended stop words for twitter and extra stop words from user\n",
        "      extended_stop_words = en_stop_words.union({\n",
        "                                '&amp;', 'rt',\n",
        "                                'th', 'co', 're', 've', 'kim', 'daca'\n",
        "                            }).union(extra_stopwords)\n",
        "\n",
        "      #removes urls\n",
        "      url_re = r'(https?:\\/\\/(?:www\\.|(?!www))[a-zA-Z0-9][a-zA-Z0-9-]+[a-zA-Z0-9]\\.[^\\s]{2,}|www\\.[a-zA-Z0-9][a-zA-Z0-9-]+[a-zA-Z0-9]\\.[^\\s]{2,}|https?:\\/\\/(?:www\\.|(?!www))[a-zA-Z0-9]+\\.[^\\s]{2,}|www\\.[a-zA-Z0-9]+\\.[^\\s]{2,})'\n",
        "      df_copy['preprocessed_' + tweet_col] = df_copy['preprocessed_' + tweet_col].apply(lambda row: ' '.join(\n",
        "          [word for word in row.split() if (word not in extended_stop_words) and (not re.match(url_re, word)) and (word.find('snowmageddon2020') == -1)]))\n",
        "\n",
        "      # tokenize the tweets\n",
        "      tokenizer = RegexpTokenizer(r'[a-zA-Z]\\w+\\'?\\w*')\n",
        "      df_copy['tokenized_' + tweet_col] = df_copy['preprocessed_' + tweet_col].apply(lambda row: tokenizer.tokenize(row))\n",
        "\n",
        "      if include_bigram:\n",
        "          # Build the bigram and trigram models\n",
        "          texts = df_copy['tokenized_' + tweet_col].values.tolist()\n",
        "          bigram = Phrases(texts, min_count=5, threshold=100)  # higher threshold fewer phrases.\n",
        "          bigram_mod = Phraser(bigram)\n",
        "          df_copy['tokenized_' + tweet_col] = pd.Series([bigram_mod[doc] for doc in texts])\n",
        "\n",
        "      # remove terms with frequency less than 10\n",
        "      if vocab_threshold > 0:\n",
        "          texts = [word for tweet in df_copy.tokenized_text for word in tweet]\n",
        "          vocab = get_frequent_vocab(texts, threshold = vocab_threshold)\n",
        "          df_copy['tokenized_' + tweet_col] = df_copy['tokenized_' + tweet_col].apply(lambda row: [word for word in row if word in vocab])\n",
        "\n",
        "      #remove tweets with length less than two\n",
        "      df_copy = df_copy[df_copy['tokenized_' + tweet_col].map(len) >= 2]\n",
        "\n",
        "      return df_copy\n",
        "\n",
        "# The above code defines a function preprocess which preprocesses text data in a given DataFrame by performing several operations such as converting text to lowercase, removing stop words and URLs, tokenizing the text, and removing terms with low frequency. \n",
        "# The function takes several parameters, including the DataFrame to be processed, the name of the column containing text, a flag to indicate whether to include bigrams, and the minimum threshold for the frequency of words. The function returns the original DataFrame with an additional column containing the tokenized text. The code also defines a helper function get_frequent_vocab that extracts words with a frequency greater than a given threshold from a given corpus.\n"
      ],
      "execution_count": null,
      "outputs": [
        {
          "output_type": "stream",
          "name": "stderr",
          "text": [
            "/usr/local/lib/python3.9/dist-packages/ipykernel/ipkernel.py:283: DeprecationWarning: `should_run_async` will not call `transform_cell` automatically in the future. Please pass the result to `transformed_cell` argument and any exception that happen during thetransform in `preprocessing_exc_tuple` in IPython 7.17 and above.\n",
            "  and should_run_async(code)\n"
          ]
        }
      ]
    },
    {
      "cell_type": "markdown",
      "metadata": {
        "id": "ovSxYTYQv-K6"
      },
      "source": [
        "### LDA"
      ]
    },
    {
      "cell_type": "markdown",
      "metadata": {
        "id": "_CUWMi07vYtg"
      },
      "source": [
        "#### Initialize Model"
      ]
    },
    {
      "cell_type": "code",
      "metadata": {
        "id": "YxNGk57CwAqR",
        "colab": {
          "base_uri": "https://localhost:8080/"
        },
        "outputId": "5de9cae7-acc9-4ca5-f402-1abcc9640e63"
      },
      "source": [
        "if trainLDA:\n",
        "  def build_lda_model(data, num_topics, include_vis = False):\n",
        "      '''\n",
        "      Trains LDA model using Gensim based on parameters\n",
        "      and saves a pyLDAvis visualization of the topics.\n",
        "\n",
        "      :param data: list of tweets to be processed\n",
        "      :param num_topics: number of topics for the model\n",
        "      :param include_vis: flag to include pyLDAvis\n",
        "      :return: LDA model as given by Gensim\n",
        "      '''\n",
        "      # Create Dictionary\n",
        "      id2word = corpora.Dictionary(data)\n",
        "\n",
        "      # Create Corpus: Term Document Frequency\n",
        "      corpus = [id2word.doc2bow(text) for text in data]\n",
        "\n",
        "      # Build LDA model\n",
        "      lda_model = gensim.models.ldamodel.LdaModel(corpus=corpus,\n",
        "                                                  id2word=id2word,\n",
        "                                                  num_topics=num_topics,\n",
        "                                                  random_state=100,\n",
        "                                                  update_every=1,\n",
        "                                                  chunksize=10,\n",
        "                                                  passes=10,\n",
        "                                                  alpha='symmetric',\n",
        "                                                  iterations=100,\n",
        "                                                  per_word_topics=True)\n",
        "\n",
        "      #pyLDAvis\n",
        "      if include_vis:\n",
        "          p = pyLDAvis.gensim.prepare(lda_model, corpus, id2word)\n",
        "          pyLDAvis.save_html(p, 'lda_{}.html'.format(num_topics))\n",
        "\n",
        "      return lda_model\n",
        "\n",
        "# The code defines a function build_lda_model which takes in a list of tweets, the number of topics to model, and an optional flag to include a visualization of the topics using pyLDAvis. \n",
        "# The function then preprocesses the tweets, creates a dictionary and corpus using Gensim, trains an LDA model with the given parameters, and returns the trained model. If the include_vis flag is True, the function also generates and saves a pyLDAvis visualization of the topics."
      ],
      "execution_count": null,
      "outputs": [
        {
          "output_type": "stream",
          "name": "stderr",
          "text": [
            "/usr/local/lib/python3.9/dist-packages/ipykernel/ipkernel.py:283: DeprecationWarning: `should_run_async` will not call `transform_cell` automatically in the future. Please pass the result to `transformed_cell` argument and any exception that happen during thetransform in `preprocessing_exc_tuple` in IPython 7.17 and above.\n",
            "  and should_run_async(code)\n"
          ]
        }
      ]
    },
    {
      "cell_type": "markdown",
      "metadata": {
        "id": "D6i9vfOWvjY5"
      },
      "source": [
        "#### Get Model Results"
      ]
    },
    {
      "cell_type": "code",
      "metadata": {
        "id": "sIesbd0dvrUA",
        "colab": {
          "base_uri": "https://localhost:8080/"
        },
        "outputId": "087f4b99-04d8-4543-d52c-40a142d8beff"
      },
      "source": [
        "if trainLDA:\n",
        "\n",
        "  def top_vocab_lda (lda_model, num):\n",
        "      '''\n",
        "      Gets top vocabulary words for a given LDA model and saves to csv.\n",
        "\n",
        "      :param lda_model: LDA model to be evaluated\n",
        "      :param num: number of vocabulary words assigned to each topic\n",
        "      :return: csv of top words per topic\n",
        "      '''\n",
        "      top_words_per_topic = []\n",
        "      for t in range(lda_model.num_topics):\n",
        "          top_words_per_topic.extend([(t,) + x for x in lda_model.show_topic(t, topn=num)])\n",
        "      return pd.DataFrame(top_words_per_topic, columns=['Topic', 'Word', 'P'])\n",
        "\n",
        "# The code defines a function called top_vocab_lda that takes an LDA model and a number as input parameters. The function extracts the top vocabulary words for each topic in the LDA model and saves them to a pandas DataFrame. \n",
        "# The number parameter determines the number of vocabulary words assigned to each topic. The resulting DataFrame has three columns: 'Topic', 'Word', and 'P' (probability). This function can be used to get the top vocabulary words for each topic in the LDA model."
      ],
      "execution_count": null,
      "outputs": [
        {
          "output_type": "stream",
          "name": "stderr",
          "text": [
            "/usr/local/lib/python3.9/dist-packages/ipykernel/ipkernel.py:283: DeprecationWarning: `should_run_async` will not call `transform_cell` automatically in the future. Please pass the result to `transformed_cell` argument and any exception that happen during thetransform in `preprocessing_exc_tuple` in IPython 7.17 and above.\n",
            "  and should_run_async(code)\n"
          ]
        }
      ]
    },
    {
      "cell_type": "markdown",
      "metadata": {
        "id": "wytnwTI0wBGJ"
      },
      "source": [
        "### BTM"
      ]
    },
    {
      "cell_type": "markdown",
      "metadata": {
        "id": "C8i6-hW8v_oG"
      },
      "source": [
        "#### Initialize Model"
      ]
    },
    {
      "cell_type": "code",
      "metadata": {
        "id": "Xz4SHEhKv8uK",
        "colab": {
          "base_uri": "https://localhost:8080/"
        },
        "outputId": "621b3540-606f-46bf-99f5-6dd01b8104a4"
      },
      "source": [
        "# Initializing the BMT model\n",
        "if trainBTM:\n",
        "\n",
        "  def identity_tokenizer (tokens):\n",
        "      return tokens\n",
        "\n",
        "  def build_btm_model(data, num_topics, include_vis= False):\n",
        "      '''\n",
        "      Builds biterm model based on parameters,\n",
        "      saves output model in a npy model\n",
        "      and outputs pyLDAvis model\n",
        "\n",
        "      :param data: list of preprocessed text\n",
        "      :param num_topics: number of topics for biterm model\n",
        "      :param include_vis: flag to include\n",
        "      :return: biterm model and res summary of model\n",
        "      '''\n",
        "\n",
        "      texts = [' '.join(tweet) for tweet in data]\n",
        "\n",
        "      #vectorize tokens\n",
        "      vec = CountVectorizer(stop_words='english', lowercase=False)\n",
        "      X = vec.fit_transform(texts).toarray()\n",
        "\n",
        "      #build vocabulary\n",
        "      vocab = np.array(vec.get_feature_names())\n",
        "      biterms = vec_to_biterms(X)\n",
        "\n",
        "      btm = oBTM(num_topics=num_topics, V=vocab)\n",
        "      biterm_model = btm.fit_transform(biterms, iterations=100)\n",
        "\n",
        "      for i in range(len(texts[:50])):\n",
        "          print(\"{} (topic: {})\".format(texts[i], biterm_model[i].argmax()))\n",
        "\n",
        "      res = topic_summuary(btm.phi_wz.T, X, vocab, 10)\n",
        "      #np.save('btm_summary_{}.npy'.format(num_topics), res)\n",
        "\n",
        "      #pyLDAvis\n",
        "      if include_vis:\n",
        "          vis = pyLDAvis.prepare(btm.phi_wz.T, biterm_model, np.count_nonzero(X, axis=1), vocab, np.sum(X, axis=0))\n",
        "          pyLDAvis.save_html(p, 'biterm_{}.html'.format(num_topics))\n",
        "\n",
        "      return btm, biterm_model, res\n",
        "\n",
        "# The code initializes and defines functions for building a Biterm Topic Model (BTM) based on the given parameters. It converts the preprocessed text data into a matrix using the CountVectorizer and extracts the biterms from the matrix. \n",
        "# It then trains the BTM model on the biterms using the oBTM function from the BTM package and generates a summary of the topics using the topic_summary function. If the include_vis flag is set to True, it also generates a pyLDAvis visualization of the topics and saves it as an HTML file. Finally, it returns the trained BTM model, the biterm model, and the topic summary."
      ],
      "execution_count": null,
      "outputs": [
        {
          "output_type": "stream",
          "name": "stderr",
          "text": [
            "/usr/local/lib/python3.9/dist-packages/ipykernel/ipkernel.py:283: DeprecationWarning: `should_run_async` will not call `transform_cell` automatically in the future. Please pass the result to `transformed_cell` argument and any exception that happen during thetransform in `preprocessing_exc_tuple` in IPython 7.17 and above.\n",
            "  and should_run_async(code)\n"
          ]
        }
      ]
    },
    {
      "cell_type": "markdown",
      "metadata": {
        "id": "31Ul8Hm2wBcx"
      },
      "source": [
        "#### Get Model Results"
      ]
    },
    {
      "cell_type": "code",
      "metadata": {
        "id": "shyp41qVwdN0",
        "colab": {
          "base_uri": "https://localhost:8080/"
        },
        "outputId": "1e6d1488-7c8b-42e3-b4f4-b636c1c0d689"
      },
      "source": [
        "# Fetching the model results\n",
        "if trainBTM:\n",
        "\n",
        "  def top_vocab_btm (res):\n",
        "      '''\n",
        "      Saves top 10 words per topic given model .npy file\n",
        "\n",
        "      :param res: array of model information\n",
        "      :return: saves csv of top words per topic\n",
        "      '''\n",
        "      df = pd.DataFrame()\n",
        "\n",
        "      #save top words per topic\n",
        "      for i in range(len(res.item()['top_words'])):\n",
        "          df['topic_{}'.format(i)] = pd.Series(res.item()['top_words'][i])\n",
        "      #df.to_csv('btm_top_words_{}.csv'.format(len(res.item()['top_words'])))\n",
        "      return df.T.values.tolist()\n",
        "\n",
        "# The above code defines a function top_vocab_btm that takes in the output of the build_btm_model function and saves the top 10 words per topic in a csv file. The function returns a list of the top words for each topic."
      ],
      "execution_count": null,
      "outputs": [
        {
          "output_type": "stream",
          "name": "stderr",
          "text": [
            "/usr/local/lib/python3.9/dist-packages/ipykernel/ipkernel.py:283: DeprecationWarning: `should_run_async` will not call `transform_cell` automatically in the future. Please pass the result to `transformed_cell` argument and any exception that happen during thetransform in `preprocessing_exc_tuple` in IPython 7.17 and above.\n",
            "  and should_run_async(code)\n"
          ]
        }
      ]
    },
    {
      "cell_type": "markdown",
      "metadata": {
        "id": "-utAmWk60aRY"
      },
      "source": [
        "### Retrieving all baselines"
      ]
    },
    {
      "cell_type": "code",
      "metadata": {
        "id": "i5BcoLhI0gKT",
        "colab": {
          "base_uri": "https://localhost:8080/"
        },
        "outputId": "f05e1a45-0e30-4f1e-e642-1f758cd70343"
      },
      "source": [
        "if (trainLDA or trainBTM):\n",
        "  # constants and preprocessing\n",
        "  HASHTAGS = {r'#nlwhiteout', r'#nlweather', r'#newfoundland', r'#nlblizzard2020', r'#nlstm2020', r'#snowmaggedon2020', r'#stmageddon2020', r'#stormageddon2020', r'#newfoundland',\n",
        "                              r'#snowpocalypse2020', r'#snowmageddon', r'#nlstm', r'#nlwx', r'#nlblizzard', r'#nlwx', 'snowmaggedon2020', 'newfoundland', r'#nlstorm2020', 'snow', 'st'}\n",
        "\n",
        "  num_topics = [5, 9, 10, 15, 20]\n",
        "\n",
        "  winter_tweets_cleaned = preprocess(df=nlwx_df, extra_stopwords = HASHTAGS)\n",
        "  winter_tweets_cleaned.reset_index(inplace=True, drop=True)\n",
        "  ready_data = winter_tweets_cleaned['tokenized_text'].values.tolist()\n",
        "\n",
        "# It sets a set of hashtags as HASHTAGS, a list of integers num_topics as the number of topics to be used in the LDA/BTM model, and preprocesses the nlwx_df dataframe using the preprocess function with extra stopwords specified in HASHTAGS.\n",
        "# The cleaned data is stored in the winter_tweets_cleaned dataframe and is converted to a list of tokenized text in ready_data."
      ],
      "execution_count": null,
      "outputs": [
        {
          "output_type": "stream",
          "name": "stderr",
          "text": [
            "/usr/local/lib/python3.9/dist-packages/ipykernel/ipkernel.py:283: DeprecationWarning: `should_run_async` will not call `transform_cell` automatically in the future. Please pass the result to `transformed_cell` argument and any exception that happen during thetransform in `preprocessing_exc_tuple` in IPython 7.17 and above.\n",
            "  and should_run_async(code)\n"
          ]
        }
      ]
    },
    {
      "cell_type": "markdown",
      "metadata": {
        "id": "PkwoTug4fBQo"
      },
      "source": [
        "#### Example Training Script"
      ]
    },
    {
      "cell_type": "code",
      "metadata": {
        "id": "SzMHSsN1gAfC",
        "colab": {
          "base_uri": "https://localhost:8080/"
        },
        "outputId": "ec0dfc39-2569-46b8-d7b1-0215b249cfb3"
      },
      "source": [
        "num = 10\n",
        "\n",
        "if trainLDA:\n",
        "  lda_model = build_lda_model(ready_data, num_topics = num, include_vis = False)\n",
        "  btm, biterm_model, res = build_btm_model(ready_data, num_topics=num)\n",
        "\n",
        "  #retrieve lda top words for each topic\n",
        "  lda_top_words = pd.DataFrame()\n",
        "  for i in range(lda_model.num_topics):\n",
        "    lda_top_words['topic_{}'.format(i)] = pd.Series([i[0] for i in lda_model.show_topic(i, topn=10)])\n",
        "\n",
        "if trainBTM:\n",
        "  #retrieve top btm words per topic\n",
        "  btm_top_words = pd.DataFrame()\n",
        "  for i in range(len(res.item()['top_words'])):\n",
        "    btm_top_words['topic_{}'.format(i)] = pd.Series(res.item()['top_words'][i])\n",
        "\n",
        "# The code initializes a variable num with a value of 10, and then checks if either trainLDA or trainBTM are true. If trainLDA is true, it builds an LDA model using the build_lda_model() function, passing in the preprocessed data ready_data and the number of topics num. It also builds a BTM model using the build_btm_model() function, passing in the same parameters. \n",
        "# It then retrieves the top words for each topic for the LDA model and stores them in a Pandas DataFrame called lda_top_words. If trainBTM is true, it retrieves the top words for each topic for the BTM model and stores them in a Pandas DataFrame called btm_top_words.\n"
      ],
      "execution_count": null,
      "outputs": [
        {
          "output_type": "stream",
          "name": "stderr",
          "text": [
            "/usr/local/lib/python3.9/dist-packages/ipykernel/ipkernel.py:283: DeprecationWarning: `should_run_async` will not call `transform_cell` automatically in the future. Please pass the result to `transformed_cell` argument and any exception that happen during thetransform in `preprocessing_exc_tuple` in IPython 7.17 and above.\n",
            "  and should_run_async(code)\n"
          ]
        }
      ]
    },
    {
      "cell_type": "code",
      "metadata": {
        "id": "i6keGf5FCfkY",
        "colab": {
          "base_uri": "https://localhost:8080/"
        },
        "outputId": "7fcd8b5e-f0a0-4cc5-9e50-b7e9a826d401"
      },
      "source": [
        "if trainLDA:\n",
        "  #viewing top words\n",
        "  lda_top_words"
      ],
      "execution_count": null,
      "outputs": [
        {
          "output_type": "stream",
          "name": "stderr",
          "text": [
            "/usr/local/lib/python3.9/dist-packages/ipykernel/ipkernel.py:283: DeprecationWarning: `should_run_async` will not call `transform_cell` automatically in the future. Please pass the result to `transformed_cell` argument and any exception that happen during thetransform in `preprocessing_exc_tuple` in IPython 7.17 and above.\n",
            "  and should_run_async(code)\n"
          ]
        }
      ]
    },
    {
      "cell_type": "markdown",
      "metadata": {
        "id": "CJUzPLzDe5GW"
      },
      "source": [
        "#### Retrieving Baseline Coherence"
      ]
    },
    {
      "cell_type": "code",
      "metadata": {
        "id": "N5Wf3bZ6e1xL",
        "colab": {
          "base_uri": "https://localhost:8080/"
        },
        "outputId": "62bfd2a5-5f9d-4a86-b6da-146245236aae"
      },
      "source": [
        "if trainLDA or trainBTM:\n",
        "  #df to store coherence scores\n",
        "  baseline_coh = pd.DataFrame(columns=['model', 'u_mass', 'c_v', 'c_uci', 'c_npmi'])\n",
        "\n",
        "  # Create Corpus: Term Document Frequency\n",
        "  id2word = corpora.Dictionary(ready_data)\n",
        "  corpus = [id2word.doc2bow(text) for text in ready_data]\n",
        "\n",
        "  #counter for formatting df\n",
        "  i=0"
      ],
      "execution_count": null,
      "outputs": [
        {
          "output_type": "stream",
          "name": "stderr",
          "text": [
            "/usr/local/lib/python3.9/dist-packages/ipykernel/ipkernel.py:283: DeprecationWarning: `should_run_async` will not call `transform_cell` automatically in the future. Please pass the result to `transformed_cell` argument and any exception that happen during thetransform in `preprocessing_exc_tuple` in IPython 7.17 and above.\n",
            "  and should_run_async(code)\n"
          ]
        }
      ]
    },
    {
      "cell_type": "code",
      "metadata": {
        "id": "zMviwJlj0qfj",
        "colab": {
          "base_uri": "https://localhost:8080/"
        },
        "outputId": "add8244d-cabd-4aeb-de30-7755bd860430"
      },
      "source": [
        "if trainLDA or trainBTM:\n",
        "  #trains both lda and biterm models\n",
        "  for val in num_topics:\n",
        "          print(\"Building LDA model with {} topics...\".format(val))\n",
        "\n",
        "          if trainLDA:\n",
        "            #coherence model for LDA\n",
        "            lda_model = build_lda_model(ready_data, num_topics = val)\n",
        "            u_mass = CoherenceModel(model=lda_model, corpus=corpus, dictionary=id2word, coherence='u_mass').get_coherence()\n",
        "            c_v = CoherenceModel(model=lda_model, texts=ready_data, dictionary=id2word, coherence='c_v').get_coherence()\n",
        "            c_uci = CoherenceModel(model=lda_model, texts=ready_data, dictionary=id2word, coherence='c_uci').get_coherence()\n",
        "            c_npmi = CoherenceModel(model=lda_model, texts=ready_data, dictionary=id2word, coherence='c_npmi').get_coherence()\n",
        "            lda_coh = [u_mass, c_v, c_uci, c_npmi]\n",
        "            baseline_coh.loc[i] = ['lda_{}'.format(val)] + lda_coh\n",
        "            i += 1\n",
        "          \n",
        "          if trainBTM:\n",
        "            #coherence model for BTM\n",
        "            btm, biterm_model, res = build_btm_model(ready_data, num_topics=val)\n",
        "            ##save top words\n",
        "            top_words_btm = top_vocab_btm(res)\n",
        "            u_mass_b = CoherenceModel(topics=top_words_btm, corpus=corpus, dictionary=id2word, coherence='u_mass').get_coherence()\n",
        "            c_v_b = CoherenceModel(topics=top_words_btm, texts=ready_data, dictionary=id2word, coherence='c_v').get_coherence()\n",
        "            c_uci_b = CoherenceModel(topics=top_words_btm, texts=ready_data, dictionary=id2word, coherence='c_uci').get_coherence()\n",
        "            c_npmi_b = CoherenceModel(topics=top_words_btm, texts=ready_data, dictionary=id2word, coherence='c_npmi').get_coherence()\n",
        "            btm_coh = [u_mass_b, c_v_b, c_uci_b, c_npmi_b]\n",
        "            baseline_coh.loc[i] = ['btm_{}'.format(val)] + btm_coh\n",
        "            i += 1\n",
        "\n",
        "# The above code trains both LDA and BTM models for different numbers of topics specified in the num_topics list. For each value of num_topics, it builds the LDA model and computes the coherence scores using four different coherence measures (u_mass, c_v, c_uci, and c_npmi). It then stores the coherence scores in the baseline_coh DataFrame. \n",
        "# Similarly, for each value of num_topics, it builds the BTM model, computes the coherence scores using the same coherence measures, and stores the coherence scores in the baseline_coh DataFrame. The code also saves the top words per topic for the BTM model using the top_vocab_btm function."
      ],
      "execution_count": null,
      "outputs": [
        {
          "output_type": "stream",
          "name": "stderr",
          "text": [
            "/usr/local/lib/python3.9/dist-packages/ipykernel/ipkernel.py:283: DeprecationWarning: `should_run_async` will not call `transform_cell` automatically in the future. Please pass the result to `transformed_cell` argument and any exception that happen during thetransform in `preprocessing_exc_tuple` in IPython 7.17 and above.\n",
            "  and should_run_async(code)\n"
          ]
        }
      ]
    },
    {
      "cell_type": "code",
      "metadata": {
        "id": "SPruU6aE2dln",
        "colab": {
          "base_uri": "https://localhost:8080/"
        },
        "outputId": "76e39d13-c037-415d-96fb-f4276d2eef85"
      },
      "source": [
        "if trainLDA or trainBTM:\n",
        "  baseline_coh"
      ],
      "execution_count": null,
      "outputs": [
        {
          "output_type": "stream",
          "name": "stderr",
          "text": [
            "/usr/local/lib/python3.9/dist-packages/ipykernel/ipkernel.py:283: DeprecationWarning: `should_run_async` will not call `transform_cell` automatically in the future. Please pass the result to `transformed_cell` argument and any exception that happen during thetransform in `preprocessing_exc_tuple` in IPython 7.17 and above.\n",
            "  and should_run_async(code)\n"
          ]
        }
      ]
    },
    {
      "cell_type": "markdown",
      "metadata": {
        "id": "03mlne7pwH1k"
      },
      "source": [
        "## Evaluation"
      ]
    },
    {
      "cell_type": "markdown",
      "metadata": {
        "id": "pNMst9xmj-Wj"
      },
      "source": [
        "### Coherence"
      ]
    },
    {
      "cell_type": "code",
      "metadata": {
        "id": "CjE3zFvzoGpM",
        "colab": {
          "base_uri": "https://localhost:8080/"
        },
        "outputId": "2b655601-cb09-424a-e7f2-2501588865b5"
      },
      "source": [
        "# The first code block defines a function return_coherence that calculates the coherence value of a topic model given its features, topics, and coherence type. \n",
        "# The second code block defines a function output_coherence that generates a pandas DataFrame with coherence values for a given set of parameters. \n",
        "# It uses return_coherence to calculate the coherence value and saves the resulting values in the DataFrame. \n",
        "# The function takes several parameters including the number of topics, hashtags, phrasing, maximum document frequency, stopword threshold frequency, n-grams, number of components, embeddings name, coherence type, and topic model. The resulting DataFrame has a row for each combination of parameter values and coherence value. The coherence value is calculated using either the u_mass, c_v, c_uci, or c_npmi coherence model.\n",
        "def return_coherence(features, topics, coherence_type):\n",
        "    dct = Dictionary(features)\n",
        "    topics = topics.T.values.tolist()\n",
        "    if coherence_type == 'u_mass':\n",
        "        try:\n",
        "            bow_corpus = [dct.doc2bow(f) for f in features]\n",
        "            cm = CoherenceModel(topics=topics, corpus=bow_corpus, dictionary=dct, coherence=coherence_type)\n",
        "            coherence = cm.get_coherence()  # get coherence value\n",
        "        except:\n",
        "            coherence = 0\n",
        "\n",
        "    elif coherence_type in ['c_v', 'c_uci', 'c_npmi']:\n",
        "        try:\n",
        "            cm = CoherenceModel(topics=topics, texts=features, dictionary=dct, coherence=coherence_type)\n",
        "            coherence = cm.get_coherence()  # get coherence value\n",
        "        except:\n",
        "            coherence = 0\n",
        "\n",
        "    else:\n",
        "        print(f\"'{coherence_type}' is not a coherence model.\" \n",
        "              \"Use one of the following arguments:'u_mass', 'c_v', 'c_uci', 'c_npmi'.\")\n",
        "    \n",
        "    return coherence\n",
        "\n",
        "def output_coherence(n_topics, h, n, s, m, p, comp, \n",
        "                     features, topics, embed_name, coh_type, topic_model = \"kmeans\"):\n",
        "    topic_paths = []\n",
        "    df = {'embeddings': [], 'model': [], 'components':[], 'topics': [], \n",
        "          'ngrams_per_topic':[],'ct': [], 'coherence': [], 'hashtags': [],\n",
        "          'phrasing':[],'max_df':[],'stf':[],'ngrams':[]}\n",
        "    coherence = return_coherence(features, topics, coherence_type = coh_type)\n",
        "    print(f\"Getting {coh_type} coherence for {embed_name} with {n_topics} topics and {comp} components.\")\n",
        "    df['embeddings'].append(embed_name)\n",
        "    df['model'].append(topic_model)\n",
        "    df['components'].append(comp)\n",
        "    df['topics'].append(n_topics)\n",
        "    df['ngrams_per_topic'].append(10)\n",
        "    df['ct'].append(coh_type)\n",
        "    df['coherence'].append(coherence)\n",
        "    df['hashtags'].append(h)\n",
        "    df['phrasing'].append(p)\n",
        "    df['max_df'].append(m)\n",
        "    df['stf'].append(s)\n",
        "    df['ngrams'].append(n)\n",
        "    df = pd.DataFrame.from_dict(df)\n",
        "    return df"
      ],
      "execution_count": null,
      "outputs": [
        {
          "output_type": "stream",
          "name": "stderr",
          "text": [
            "/usr/local/lib/python3.9/dist-packages/ipykernel/ipkernel.py:283: DeprecationWarning: `should_run_async` will not call `transform_cell` automatically in the future. Please pass the result to `transformed_cell` argument and any exception that happen during thetransform in `preprocessing_exc_tuple` in IPython 7.17 and above.\n",
            "  and should_run_async(code)\n"
          ]
        }
      ]
    },
    {
      "cell_type": "code",
      "metadata": {
        "id": "st1ArWuhkH1_",
        "colab": {
          "base_uri": "https://localhost:8080/"
        },
        "outputId": "25ef7437-e1c0-4baf-ace7-64e7d5300dbd"
      },
      "source": [
        "def get_coherence(ts, n_topics, hashtag_opts, ngrams, stf, max_df, phrasing, components, ct, embed_name):\n",
        "  c_dfs = []\n",
        "  for t in n_topics:\n",
        "    for h in hashtag_opts:\n",
        "      for n in ngrams:\n",
        "        for s in stf:\n",
        "          for m in max_df:\n",
        "            for p in phrasing:\n",
        "              for comp in components:\n",
        "                for c in ct:\n",
        "                  df = output_coherence(t, h, n, s, m, p, comp,\n",
        "                                        ts.hyperparams[embed_name][t]['hashtags'][h]['ngram'][n]['stf'][s]['max_df'][m]['phrasing'][p]['features'],\n",
        "                                        ts.hyperparams[embed_name][t]['hashtags'][h]['ngram'][n]['stf'][s]['max_df'][m]['phrasing'][p][f'topics_{comp}'],\n",
        "                                        embed_name = embed_name,\n",
        "                                        coh_type = c)\n",
        "                  c_dfs.append(df)\n",
        "  coherence = pd.concat(c_dfs).groupby('ct', group_keys = False).apply(\n",
        "        pd.DataFrame.sort_values, 'coherence', ascending=False).reset_index(drop = 'True')\n",
        "  return coherence\n",
        "\n",
        "# The code defines a function called \"get_coherence\" that takes several parameters such as n_topics, hashtag_opts, ngrams, stf, max_df, phrasing, components, ct, and embed_name. \n",
        "# The function iterates over these parameters to create a dataframe of coherence scores for different combinations of the hyperparameters. The output is a sorted coherence dataframe for each coherence type."
      ],
      "execution_count": null,
      "outputs": [
        {
          "output_type": "stream",
          "name": "stderr",
          "text": [
            "/usr/local/lib/python3.9/dist-packages/ipykernel/ipkernel.py:283: DeprecationWarning: `should_run_async` will not call `transform_cell` automatically in the future. Please pass the result to `transformed_cell` argument and any exception that happen during thetransform in `preprocessing_exc_tuple` in IPython 7.17 and above.\n",
            "  and should_run_async(code)\n"
          ]
        }
      ]
    },
    {
      "cell_type": "code",
      "metadata": {
        "id": "eCik0Lj_nWzm",
        "colab": {
          "base_uri": "https://localhost:8080/"
        },
        "outputId": "016b2e6f-80b3-42a0-f678-77d08644008c"
      },
      "source": [
        "# Fetching the coherence_fte by passing the appropriate parameters as input\n",
        "ct = ['c_v','c_npmi']\n",
        "components = ['attn', 'tfidf', 'tfidf_attn']\n",
        "\n",
        "coherence_fte = get_coherence(ts, \n",
        "                              n_topics, \n",
        "                              hashtag_opts, \n",
        "                              ngrams, \n",
        "                              stf, \n",
        "                              max_df, \n",
        "                              phrasing, \n",
        "                              components, \n",
        "                              ct,\n",
        "                              'fte')"
      ],
      "execution_count": null,
      "outputs": [
        {
          "output_type": "stream",
          "name": "stderr",
          "text": [
            "/usr/local/lib/python3.9/dist-packages/ipykernel/ipkernel.py:283: DeprecationWarning: `should_run_async` will not call `transform_cell` automatically in the future. Please pass the result to `transformed_cell` argument and any exception that happen during thetransform in `preprocessing_exc_tuple` in IPython 7.17 and above.\n",
            "  and should_run_async(code)\n"
          ]
        },
        {
          "output_type": "stream",
          "name": "stdout",
          "text": [
            "Getting c_v coherence for fte with 5 topics and attn components.\n",
            "Getting c_npmi coherence for fte with 5 topics and attn components.\n",
            "Getting c_v coherence for fte with 5 topics and tfidf components.\n",
            "Getting c_npmi coherence for fte with 5 topics and tfidf components.\n",
            "Getting c_v coherence for fte with 5 topics and tfidf_attn components.\n",
            "Getting c_npmi coherence for fte with 5 topics and tfidf_attn components.\n",
            "Getting c_v coherence for fte with 5 topics and attn components.\n",
            "Getting c_npmi coherence for fte with 5 topics and attn components.\n",
            "Getting c_v coherence for fte with 5 topics and tfidf components.\n",
            "Getting c_npmi coherence for fte with 5 topics and tfidf components.\n",
            "Getting c_v coherence for fte with 5 topics and tfidf_attn components.\n",
            "Getting c_npmi coherence for fte with 5 topics and tfidf_attn components.\n",
            "Getting c_v coherence for fte with 5 topics and attn components.\n",
            "Getting c_npmi coherence for fte with 5 topics and attn components.\n",
            "Getting c_v coherence for fte with 5 topics and tfidf components.\n",
            "Getting c_npmi coherence for fte with 5 topics and tfidf components.\n",
            "Getting c_v coherence for fte with 5 topics and tfidf_attn components.\n",
            "Getting c_npmi coherence for fte with 5 topics and tfidf_attn components.\n",
            "Getting c_v coherence for fte with 9 topics and attn components.\n",
            "Getting c_npmi coherence for fte with 9 topics and attn components.\n",
            "Getting c_v coherence for fte with 9 topics and tfidf components.\n",
            "Getting c_npmi coherence for fte with 9 topics and tfidf components.\n",
            "Getting c_v coherence for fte with 9 topics and tfidf_attn components.\n",
            "Getting c_npmi coherence for fte with 9 topics and tfidf_attn components.\n",
            "Getting c_v coherence for fte with 9 topics and attn components.\n",
            "Getting c_npmi coherence for fte with 9 topics and attn components.\n",
            "Getting c_v coherence for fte with 9 topics and tfidf components.\n",
            "Getting c_npmi coherence for fte with 9 topics and tfidf components.\n",
            "Getting c_v coherence for fte with 9 topics and tfidf_attn components.\n",
            "Getting c_npmi coherence for fte with 9 topics and tfidf_attn components.\n",
            "Getting c_v coherence for fte with 9 topics and attn components.\n",
            "Getting c_npmi coherence for fte with 9 topics and attn components.\n",
            "Getting c_v coherence for fte with 9 topics and tfidf components.\n",
            "Getting c_npmi coherence for fte with 9 topics and tfidf components.\n",
            "Getting c_v coherence for fte with 9 topics and tfidf_attn components.\n",
            "Getting c_npmi coherence for fte with 9 topics and tfidf_attn components.\n",
            "Getting c_v coherence for fte with 10 topics and attn components.\n",
            "Getting c_npmi coherence for fte with 10 topics and attn components.\n",
            "Getting c_v coherence for fte with 10 topics and tfidf components.\n",
            "Getting c_npmi coherence for fte with 10 topics and tfidf components.\n",
            "Getting c_v coherence for fte with 10 topics and tfidf_attn components.\n",
            "Getting c_npmi coherence for fte with 10 topics and tfidf_attn components.\n",
            "Getting c_v coherence for fte with 10 topics and attn components.\n",
            "Getting c_npmi coherence for fte with 10 topics and attn components.\n",
            "Getting c_v coherence for fte with 10 topics and tfidf components.\n",
            "Getting c_npmi coherence for fte with 10 topics and tfidf components.\n",
            "Getting c_v coherence for fte with 10 topics and tfidf_attn components.\n",
            "Getting c_npmi coherence for fte with 10 topics and tfidf_attn components.\n",
            "Getting c_v coherence for fte with 10 topics and attn components.\n",
            "Getting c_npmi coherence for fte with 10 topics and attn components.\n",
            "Getting c_v coherence for fte with 10 topics and tfidf components.\n",
            "Getting c_npmi coherence for fte with 10 topics and tfidf components.\n",
            "Getting c_v coherence for fte with 10 topics and tfidf_attn components.\n",
            "Getting c_npmi coherence for fte with 10 topics and tfidf_attn components.\n",
            "Getting c_v coherence for fte with 15 topics and attn components.\n",
            "Getting c_npmi coherence for fte with 15 topics and attn components.\n",
            "Getting c_v coherence for fte with 15 topics and tfidf components.\n",
            "Getting c_npmi coherence for fte with 15 topics and tfidf components.\n",
            "Getting c_v coherence for fte with 15 topics and tfidf_attn components.\n",
            "Getting c_npmi coherence for fte with 15 topics and tfidf_attn components.\n",
            "Getting c_v coherence for fte with 15 topics and attn components.\n",
            "Getting c_npmi coherence for fte with 15 topics and attn components.\n",
            "Getting c_v coherence for fte with 15 topics and tfidf components.\n",
            "Getting c_npmi coherence for fte with 15 topics and tfidf components.\n",
            "Getting c_v coherence for fte with 15 topics and tfidf_attn components.\n",
            "Getting c_npmi coherence for fte with 15 topics and tfidf_attn components.\n",
            "Getting c_v coherence for fte with 15 topics and attn components.\n",
            "Getting c_npmi coherence for fte with 15 topics and attn components.\n",
            "Getting c_v coherence for fte with 15 topics and tfidf components.\n",
            "Getting c_npmi coherence for fte with 15 topics and tfidf components.\n",
            "Getting c_v coherence for fte with 15 topics and tfidf_attn components.\n",
            "Getting c_npmi coherence for fte with 15 topics and tfidf_attn components.\n"
          ]
        }
      ]
    },
    {
      "cell_type": "code",
      "metadata": {
        "id": "objzVK-3ndcm",
        "colab": {
          "base_uri": "https://localhost:8080/"
        },
        "outputId": "caff4095-560c-4089-ac95-357fcce1809d"
      },
      "source": [
        "# Fetching the coherence_bert by passing the appropriate parameters as input\n",
        "coherence_bert = get_coherence(ts_bert, \n",
        "                               n_topics, \n",
        "                               hashtag_opts, \n",
        "                               ngrams, \n",
        "                               stf, \n",
        "                               max_df, \n",
        "                               phrasing, \n",
        "                               components, \n",
        "                               ct, \n",
        "                               'bert')"
      ],
      "execution_count": null,
      "outputs": [
        {
          "output_type": "stream",
          "name": "stderr",
          "text": [
            "/usr/local/lib/python3.9/dist-packages/ipykernel/ipkernel.py:283: DeprecationWarning: `should_run_async` will not call `transform_cell` automatically in the future. Please pass the result to `transformed_cell` argument and any exception that happen during thetransform in `preprocessing_exc_tuple` in IPython 7.17 and above.\n",
            "  and should_run_async(code)\n"
          ]
        },
        {
          "output_type": "stream",
          "name": "stdout",
          "text": [
            "Getting c_v coherence for bert with 5 topics and attn components.\n",
            "Getting c_npmi coherence for bert with 5 topics and attn components.\n",
            "Getting c_v coherence for bert with 5 topics and tfidf components.\n",
            "Getting c_npmi coherence for bert with 5 topics and tfidf components.\n",
            "Getting c_v coherence for bert with 5 topics and tfidf_attn components.\n",
            "Getting c_npmi coherence for bert with 5 topics and tfidf_attn components.\n",
            "Getting c_v coherence for bert with 5 topics and attn components.\n",
            "Getting c_npmi coherence for bert with 5 topics and attn components.\n",
            "Getting c_v coherence for bert with 5 topics and tfidf components.\n",
            "Getting c_npmi coherence for bert with 5 topics and tfidf components.\n",
            "Getting c_v coherence for bert with 5 topics and tfidf_attn components.\n",
            "Getting c_npmi coherence for bert with 5 topics and tfidf_attn components.\n",
            "Getting c_v coherence for bert with 5 topics and attn components.\n",
            "Getting c_npmi coherence for bert with 5 topics and attn components.\n",
            "Getting c_v coherence for bert with 5 topics and tfidf components.\n",
            "Getting c_npmi coherence for bert with 5 topics and tfidf components.\n",
            "Getting c_v coherence for bert with 5 topics and tfidf_attn components.\n",
            "Getting c_npmi coherence for bert with 5 topics and tfidf_attn components.\n",
            "Getting c_v coherence for bert with 9 topics and attn components.\n",
            "Getting c_npmi coherence for bert with 9 topics and attn components.\n",
            "Getting c_v coherence for bert with 9 topics and tfidf components.\n",
            "Getting c_npmi coherence for bert with 9 topics and tfidf components.\n",
            "Getting c_v coherence for bert with 9 topics and tfidf_attn components.\n",
            "Getting c_npmi coherence for bert with 9 topics and tfidf_attn components.\n",
            "Getting c_v coherence for bert with 9 topics and attn components.\n",
            "Getting c_npmi coherence for bert with 9 topics and attn components.\n",
            "Getting c_v coherence for bert with 9 topics and tfidf components.\n",
            "Getting c_npmi coherence for bert with 9 topics and tfidf components.\n",
            "Getting c_v coherence for bert with 9 topics and tfidf_attn components.\n",
            "Getting c_npmi coherence for bert with 9 topics and tfidf_attn components.\n",
            "Getting c_v coherence for bert with 9 topics and attn components.\n",
            "Getting c_npmi coherence for bert with 9 topics and attn components.\n",
            "Getting c_v coherence for bert with 9 topics and tfidf components.\n",
            "Getting c_npmi coherence for bert with 9 topics and tfidf components.\n",
            "Getting c_v coherence for bert with 9 topics and tfidf_attn components.\n",
            "Getting c_npmi coherence for bert with 9 topics and tfidf_attn components.\n",
            "Getting c_v coherence for bert with 10 topics and attn components.\n",
            "Getting c_npmi coherence for bert with 10 topics and attn components.\n",
            "Getting c_v coherence for bert with 10 topics and tfidf components.\n",
            "Getting c_npmi coherence for bert with 10 topics and tfidf components.\n",
            "Getting c_v coherence for bert with 10 topics and tfidf_attn components.\n",
            "Getting c_npmi coherence for bert with 10 topics and tfidf_attn components.\n",
            "Getting c_v coherence for bert with 10 topics and attn components.\n",
            "Getting c_npmi coherence for bert with 10 topics and attn components.\n",
            "Getting c_v coherence for bert with 10 topics and tfidf components.\n",
            "Getting c_npmi coherence for bert with 10 topics and tfidf components.\n",
            "Getting c_v coherence for bert with 10 topics and tfidf_attn components.\n",
            "Getting c_npmi coherence for bert with 10 topics and tfidf_attn components.\n",
            "Getting c_v coherence for bert with 10 topics and attn components.\n",
            "Getting c_npmi coherence for bert with 10 topics and attn components.\n",
            "Getting c_v coherence for bert with 10 topics and tfidf components.\n",
            "Getting c_npmi coherence for bert with 10 topics and tfidf components.\n",
            "Getting c_v coherence for bert with 10 topics and tfidf_attn components.\n",
            "Getting c_npmi coherence for bert with 10 topics and tfidf_attn components.\n",
            "Getting c_v coherence for bert with 15 topics and attn components.\n",
            "Getting c_npmi coherence for bert with 15 topics and attn components.\n",
            "Getting c_v coherence for bert with 15 topics and tfidf components.\n",
            "Getting c_npmi coherence for bert with 15 topics and tfidf components.\n",
            "Getting c_v coherence for bert with 15 topics and tfidf_attn components.\n",
            "Getting c_npmi coherence for bert with 15 topics and tfidf_attn components.\n",
            "Getting c_v coherence for bert with 15 topics and attn components.\n",
            "Getting c_npmi coherence for bert with 15 topics and attn components.\n",
            "Getting c_v coherence for bert with 15 topics and tfidf components.\n",
            "Getting c_npmi coherence for bert with 15 topics and tfidf components.\n",
            "Getting c_v coherence for bert with 15 topics and tfidf_attn components.\n",
            "Getting c_npmi coherence for bert with 15 topics and tfidf_attn components.\n",
            "Getting c_v coherence for bert with 15 topics and attn components.\n",
            "Getting c_npmi coherence for bert with 15 topics and attn components.\n",
            "Getting c_v coherence for bert with 15 topics and tfidf components.\n",
            "Getting c_npmi coherence for bert with 15 topics and tfidf components.\n",
            "Getting c_v coherence for bert with 15 topics and tfidf_attn components.\n",
            "Getting c_npmi coherence for bert with 15 topics and tfidf_attn components.\n"
          ]
        }
      ]
    },
    {
      "cell_type": "code",
      "metadata": {
        "id": "yqd7w9dt0zeh",
        "colab": {
          "base_uri": "https://localhost:8080/"
        },
        "outputId": "010dbddf-5c2c-4a05-cdc8-d4ef27665555"
      },
      "source": [
        "def best_model(df, ct = 'c_v'):\n",
        "    if ct == 'c_v':\n",
        "        df = df[df['ct'] == 'c_v']\n",
        "        max_df = df.loc[df.groupby(['topics','embeddings','components'])['coherence'].idxmax()]\n",
        "    if ct == 'u_mass':\n",
        "        df = df[df['ct'] == 'u_mass']\n",
        "        max_df = df.loc[df.groupby(['topics','embeddings','components'])['coherence'].idxmin()]\n",
        "    if ct == 'c_npmi' or df.ct.all() == 'c_uci':\n",
        "        df = df[df['ct'] == 'c_npmi']\n",
        "        max_df = df.loc[df.groupby(['topics','embeddings','components'])['coherence'].idxmin()]\n",
        "    return max_df\n",
        "  \n",
        "# The best_model() function takes a coherence DataFrame, df, and a coherence type ct as inputs. It filters the DataFrame based on the coherence type and selects the row with the maximum coherence score for each combination of topic, embedding, and components if the coherence type is c_v and c_npmi, or selects the row with the minimum coherence score if the coherence type is u_mass or c_uci. The function returns a new DataFrame containing the selected rows for each combination of topic, embedding, and components."
      ],
      "execution_count": null,
      "outputs": [
        {
          "output_type": "stream",
          "name": "stderr",
          "text": [
            "/usr/local/lib/python3.9/dist-packages/ipykernel/ipkernel.py:283: DeprecationWarning: `should_run_async` will not call `transform_cell` automatically in the future. Please pass the result to `transformed_cell` argument and any exception that happen during thetransform in `preprocessing_exc_tuple` in IPython 7.17 and above.\n",
            "  and should_run_async(code)\n"
          ]
        }
      ]
    },
    {
      "cell_type": "code",
      "metadata": {
        "id": "6R_rzPBXoCOO",
        "colab": {
          "base_uri": "https://localhost:8080/"
        },
        "outputId": "ead4aaee-3b81-41ea-ff09-617a2ca2890a"
      },
      "source": [
        "best_fte_cv = best_model(coherence_fte, 'c_v')\n",
        "best_fte_npmi = best_model(coherence_fte, 'c_npmi')\n",
        "best_fte = pd.concat([best_fte_cv, best_fte_npmi])\n",
        "\n",
        "best_bert_cv = best_model(coherence_bert, 'c_v')\n",
        "best_bert_npmi = best_model(coherence_bert, 'c_npmi')\n",
        "best_bert = pd.concat([best_bert_cv, best_bert_npmi])\n",
        "\n",
        "# The above code finds the best models for each type of embeddings (FastText and BERT) based on their coherence scores. It does this by calling the best_model function for each type of embedding, using both c_v and c_npmi coherence measures, and then concatenating the results into separate dataframes (best_fte and best_bert). \n",
        "# These dataframes contain information about the best hyperparameters (topics, embeddings, components) for each coherence measure."
      ],
      "execution_count": null,
      "outputs": [
        {
          "output_type": "stream",
          "name": "stderr",
          "text": [
            "/usr/local/lib/python3.9/dist-packages/ipykernel/ipkernel.py:283: DeprecationWarning: `should_run_async` will not call `transform_cell` automatically in the future. Please pass the result to `transformed_cell` argument and any exception that happen during thetransform in `preprocessing_exc_tuple` in IPython 7.17 and above.\n",
            "  and should_run_async(code)\n"
          ]
        }
      ]
    },
    {
      "cell_type": "markdown",
      "metadata": {
        "id": "WF7GaWyBwrNR"
      },
      "source": [
        "### Keywords"
      ]
    },
    {
      "cell_type": "code",
      "metadata": {
        "id": "y-ozXVzTDBmn",
        "colab": {
          "base_uri": "https://localhost:8080/"
        },
        "outputId": "c1cdf75b-2203-474d-b830-833cd4b3146a"
      },
      "source": [
        "best_cv_grouped = best_fte_cv[best_fte_cv.topics == 9].sort_values('coherence',ascending = False).groupby('components').head(1)\n",
        "best_a = best_cv_grouped[best_cv_grouped.components == 'attn'].to_dict(orient=\"records\")[0]\n",
        "best_t = best_cv_grouped[best_cv_grouped.components == 'tfidf'].to_dict(orient=\"records\")[0]\n",
        "best_ta = best_cv_grouped[best_cv_grouped.components == 'tfidf_attn'].to_dict(orient=\"records\")[0]\n",
        "\n",
        "# The above code selects the best models with 9 topics from the coherence results of two different embeddings (i.e., fte and bert) based on their c_v coherence values. \n",
        "# It first filters the best models with 9 topics from each embedding and then groups them by their components (i.e., attn, tfidf, tfidf_attn) and selects the best performing model for each component. The selected models are then saved as dictionaries in the variables best_a, best_t, and best_ta for further use"
      ],
      "execution_count": null,
      "outputs": [
        {
          "output_type": "stream",
          "name": "stderr",
          "text": [
            "/usr/local/lib/python3.9/dist-packages/ipykernel/ipkernel.py:283: DeprecationWarning: `should_run_async` will not call `transform_cell` automatically in the future. Please pass the result to `transformed_cell` argument and any exception that happen during thetransform in `preprocessing_exc_tuple` in IPython 7.17 and above.\n",
            "  and should_run_async(code)\n"
          ]
        }
      ]
    },
    {
      "cell_type": "code",
      "metadata": {
        "id": "vX7IVJ5THCLw",
        "colab": {
          "base_uri": "https://localhost:8080/"
        },
        "outputId": "8253d058-1471-49ef-c02e-37bc273e8492"
      },
      "source": [
        "print(ts.hyperparams['fte'][best_a['topics']]['hashtags'][best_a['hashtags']]['ngram'][best_a['ngrams']]['stf'][best_a['stf']]['max_df'][best_a['max_df']]['phrasing'][best_a['phrasing']]['topics_attn'])\n",
        "\n",
        "# The above code prints the value of the 'topics_attn' parameter from the hyperparameters dictionary of the 'fte' dataset, selected based on the values of various keys in the dictionary that correspond to the best model with attention components ('best_a') obtained from the coherence analysis.\n",
        "\n",
        "# The 'ts' object represents a topic modeling dataset, and the 'hyperparams' attribute contains a dictionary of hyperparameters for various models.\n",
        "\n",
        "# The printed value corresponds to the topics generated by the best model with attention components for the 'fte' dataset."
      ],
      "execution_count": null,
      "outputs": [
        {
          "output_type": "stream",
          "name": "stdout",
          "text": [
            "        topic 0       topic 1       topic 2     topic 3       topic 4  \\\n",
            "0          snow  newfoundland          snow  assistance          hope   \n",
            "1        buried  stormageddon         storm     helping          stay   \n",
            "2         storm          http      blizzard     support          safe   \n",
            "3        people       nlstorm  newfoundland      people  newfoundland   \n",
            "4     emergency  snowmaggedon          wind   emergency        hoping   \n",
            "5  newfoundland          snow      snowfall        snow        friend   \n",
            "6       missing          nlwx     emergency        food      thinking   \n",
            "7           car      blizzard       weather      assist         storm   \n",
            "8         power    nlblizzard     hurricane    military        prayer   \n",
            "9          http          love          http      supply          snow   \n",
            "\n",
            "        topic 5       topic 6       topic 7    topic 8  \n",
            "0          snow          stay          snow     closed  \n",
            "1  newfoundland          safe         storm       snow  \n",
            "2         storm     emergency  newfoundland      power  \n",
            "3          http       warning      blizzard  emergency  \n",
            "4  stormageddon         storm  stormageddon     outage  \n",
            "5  snowmaggedon  newfoundland     snowstorm      storm  \n",
            "6        people          snow       weather       road  \n",
            "7        shovel          http       nlstorm     buried  \n",
            "8          love      blizzard  snowmaggedon     school  \n",
            "9           day          warm          http      close  \n"
          ]
        },
        {
          "output_type": "stream",
          "name": "stderr",
          "text": [
            "/usr/local/lib/python3.9/dist-packages/ipykernel/ipkernel.py:283: DeprecationWarning: `should_run_async` will not call `transform_cell` automatically in the future. Please pass the result to `transformed_cell` argument and any exception that happen during thetransform in `preprocessing_exc_tuple` in IPython 7.17 and above.\n",
            "  and should_run_async(code)\n"
          ]
        }
      ]
    },
    {
      "cell_type": "code",
      "metadata": {
        "id": "vNS074lKChW0",
        "colab": {
          "base_uri": "https://localhost:8080/"
        },
        "outputId": "fe90728c-a24e-43ca-ae89-32a8e386d664"
      },
      "source": [
        "print(ts.hyperparams['fte'][best_t['topics']]['hashtags'][best_t['hashtags']]['ngram'][best_t['ngrams']]['stf'][best_t['stf']]['max_df'][best_t['max_df']]['phrasing'][best_t['phrasing']]['topics_attn'])\n",
        "\n",
        "# The above code is printing the value of the 'topics_attn' parameter for the best performing topic model configuration for the 'fte' dataset with the 'tfidf' component. \n",
        "# The specific configuration is obtained by indexing the 'ts.hyperparams' dictionary with the values of the 'topics', 'hashtags', 'ngrams', 'stf', 'max_df', and 'phrasing' parameters obtained from the 'best_t' dictionary."
      ],
      "execution_count": null,
      "outputs": [
        {
          "output_type": "stream",
          "name": "stdout",
          "text": [
            "        topic 0       topic 1       topic 2     topic 3       topic 4  \\\n",
            "0          snow  newfoundland          snow  assistance          hope   \n",
            "1        buried  stormageddon         storm     helping          stay   \n",
            "2         storm          http      blizzard     support          safe   \n",
            "3        people       nlstorm  newfoundland      people  newfoundland   \n",
            "4     emergency  snowmaggedon          wind   emergency        hoping   \n",
            "5  newfoundland          snow      snowfall        snow        friend   \n",
            "6       missing          nlwx     emergency        food      thinking   \n",
            "7           car      blizzard       weather      assist         storm   \n",
            "8         power    nlblizzard     hurricane    military        prayer   \n",
            "9          http          love          http      supply          snow   \n",
            "\n",
            "        topic 5       topic 6       topic 7    topic 8  \n",
            "0          snow          stay          snow     closed  \n",
            "1  newfoundland          safe         storm       snow  \n",
            "2         storm     emergency  newfoundland      power  \n",
            "3          http       warning      blizzard  emergency  \n",
            "4  stormageddon         storm  stormageddon     outage  \n",
            "5  snowmaggedon  newfoundland     snowstorm      storm  \n",
            "6        people          snow       weather       road  \n",
            "7        shovel          http       nlstorm     buried  \n",
            "8          love      blizzard  snowmaggedon     school  \n",
            "9           day          warm          http      close  \n"
          ]
        },
        {
          "output_type": "stream",
          "name": "stderr",
          "text": [
            "/usr/local/lib/python3.9/dist-packages/ipykernel/ipkernel.py:283: DeprecationWarning: `should_run_async` will not call `transform_cell` automatically in the future. Please pass the result to `transformed_cell` argument and any exception that happen during thetransform in `preprocessing_exc_tuple` in IPython 7.17 and above.\n",
            "  and should_run_async(code)\n"
          ]
        }
      ]
    },
    {
      "cell_type": "code",
      "metadata": {
        "id": "1-V3jhV6KDyN",
        "colab": {
          "base_uri": "https://localhost:8080/"
        },
        "outputId": "efca75a3-b7ae-40c8-9c59-750dda8ad2d7"
      },
      "source": [
        "print(ts.hyperparams['fte'][best_ta['topics']]['hashtags'][best_ta['hashtags']]['ngram'][best_ta['ngrams']]['stf'][best_ta['stf']]['max_df'][best_ta['max_df']]['phrasing'][best_ta['phrasing']]['topics_attn'])\n",
        "\n",
        "# The above code retrieves a specific set of hyperparameters for a topic modeling task in the ts object. The hyperparameters are specified by the best_ta dictionary, which contains information on the optimal number of topics, hashtags, ngrams, stop words, maximum document frequency, phrasing, and components.\n",
        "\n",
        "# The code specifically retrieves the \"topics_attn\" component for the optimal hyperparameters for a topic modeling task using the \"fte\" embedding."
      ],
      "execution_count": null,
      "outputs": [
        {
          "output_type": "stream",
          "name": "stdout",
          "text": [
            "        topic 0       topic 1       topic 2     topic 3       topic 4  \\\n",
            "0          snow  newfoundland          snow  assistance          hope   \n",
            "1        buried  stormageddon         storm     helping          stay   \n",
            "2         storm          http      blizzard     support          safe   \n",
            "3        people       nlstorm  newfoundland      people  newfoundland   \n",
            "4     emergency  snowmaggedon          wind   emergency        hoping   \n",
            "5  newfoundland          snow      snowfall        snow        friend   \n",
            "6       missing          nlwx     emergency        food      thinking   \n",
            "7           car      blizzard       weather      assist         storm   \n",
            "8         power    nlblizzard     hurricane    military        prayer   \n",
            "9          http          love          http      supply          snow   \n",
            "\n",
            "        topic 5       topic 6       topic 7    topic 8  \n",
            "0          snow          stay          snow     closed  \n",
            "1  newfoundland          safe         storm       snow  \n",
            "2         storm     emergency  newfoundland      power  \n",
            "3          http       warning      blizzard  emergency  \n",
            "4  stormageddon         storm  stormageddon     outage  \n",
            "5  snowmaggedon  newfoundland     snowstorm      storm  \n",
            "6        people          snow       weather       road  \n",
            "7        shovel          http       nlstorm     buried  \n",
            "8          love      blizzard  snowmaggedon     school  \n",
            "9           day          warm          http      close  \n"
          ]
        },
        {
          "output_type": "stream",
          "name": "stderr",
          "text": [
            "/usr/local/lib/python3.9/dist-packages/ipykernel/ipkernel.py:283: DeprecationWarning: `should_run_async` will not call `transform_cell` automatically in the future. Please pass the result to `transformed_cell` argument and any exception that happen during thetransform in `preprocessing_exc_tuple` in IPython 7.17 and above.\n",
            "  and should_run_async(code)\n"
          ]
        }
      ]
    },
    {
      "cell_type": "markdown",
      "metadata": {
        "id": "E1ZFj8pTwdcX"
      },
      "source": [
        "### Automatic evaluation"
      ]
    },
    {
      "cell_type": "code",
      "metadata": {
        "id": "z9PgDWEn1lWa",
        "colab": {
          "base_uri": "https://localhost:8080/"
        },
        "outputId": "f632794e-2fb6-4f92-c439-a3ae065bc601"
      },
      "source": [
        "def concat_dfs(fte_df, lda_df, save = True):\n",
        "    output = fte_df[fte_df.embeddings.isin(['fte','bert'])]\n",
        "    output = output.replace(\n",
        "        {'tfidf_attn':'tfidf-attn',\n",
        "         'fte': 'FTE',\n",
        "         'bert': 'BERT'})\n",
        "    output = output.rename({'embeddings': 'Model', \n",
        "                            'components': 'Components'}, axis='columns')\n",
        "    output_cv = output[output['ct'].str.contains('c_v')]\n",
        "    output_npmi = output[output['ct'].str.contains('c_npmi')]\n",
        "    output_cv = output_cv.rename({'coherence': 'Coherence_CV'}, axis='columns')\n",
        "    output_cv['Coherence_NPMI'] = output_npmi['coherence'].tolist()\n",
        "    output_plot = output_cv\n",
        "    output_full = output_cv[['Components','Model','topics',\n",
        "                             'Coherence_CV','Coherence_NPMI']].append(lda_df, ignore_index=True)\n",
        "    output_full['Coherence_NPMI_abs'] = output_full.Coherence_NPMI.abs()\n",
        "    output_full['Model, components'] = output_full[\"Model\"] + \", \" + output_full[\"Components\"]\n",
        "    output_full['Model, components'] = np.where(output_full['Model, components'].isin([np.nan]), \n",
        "                                                output_full['Model'], \n",
        "                                                output_full['Model, components'])\n",
        "    return(output_full)\n",
        "\n",
        "\n",
        "# The above code defines a function named concat_dfs that takes three arguments fte_df, lda_df, and save. The function first filters the rows of fte_df based on the values of embeddings column and renames the values of some columns. It then creates two new dataframes output_cv and output_npmi based on whether the values of ct column contain 'c_v' or 'c_npmi'. \n",
        "# It renames the columns of output_cv and adds a new column Coherence_NPMI to output_cv by getting the values from output_npmi. It then appends lda_df to output_cv and creates a new column Coherence_NPMI_abs to store the absolute values of Coherence_NPMI. Finally, it creates a new column Model, components by concatenating Model and Components columns and replaces the missing values of Model, components with Model. The function returns the final dataframe output_full.\n"
      ],
      "execution_count": null,
      "outputs": [
        {
          "output_type": "stream",
          "name": "stderr",
          "text": [
            "/usr/local/lib/python3.9/dist-packages/ipykernel/ipkernel.py:283: DeprecationWarning: `should_run_async` will not call `transform_cell` automatically in the future. Please pass the result to `transformed_cell` argument and any exception that happen during thetransform in `preprocessing_exc_tuple` in IPython 7.17 and above.\n",
            "  and should_run_async(code)\n"
          ]
        }
      ]
    },
    {
      "cell_type": "code",
      "source": [
        "def output_plot(data, y, ylab, filename):\n",
        "    sns.set(style=\"ticks\", font_scale=1.2)\n",
        "    fig, ax = plt.subplots()\n",
        "    p = sns.lineplot(data= data, \n",
        "                     x='topics', \n",
        "                     y='Coherence_CV',\n",
        "                     hue = 'Model, components',\n",
        "                     style = 'Model, components',\n",
        "                     palette='rocket',\n",
        "                     markers=True,\n",
        "                     ax=ax)\n",
        "    plt.xlabel('Number of topics')\n",
        "    plt.ylabel(ylab)\n",
        "    handles, labels = ax.get_legend_handles_labels()\n",
        "    ax.legend(handles=handles, labels=labels)\n",
        "    p.set_xticks(range(5,16))\n",
        "    p.set_xticklabels(range(5,16))\n",
        "    p.figure.savefig(f\"{filename}.png\",dpi=300, bbox_inches=\"tight\")\n",
        "    plt.clf()\n",
        "\n",
        "# The above code defines a function output_plot that generates a line plot using seaborn library. The function takes four parameters: data (dataframe containing the data to be plotted), y (column name of the y-axis variable), ylab (label for the y-axis), and filename (name of the file to save the plot).\n",
        "\n",
        "# The function sets the seaborn style, creates a figure and axes objects, and uses seaborn's lineplot function to create the line plot. The function also sets the x-axis ticks and labels, adds a legend, and saves the plot as a png file. Finally, the function clears the current figure."
      ],
      "metadata": {
        "id": "7tT4vAVPcTIY"
      },
      "execution_count": null,
      "outputs": []
    },
    {
      "cell_type": "code",
      "source": [
        "def filter_df(df, *args):\n",
        "    for k, v in args:\n",
        "        df = df[df[k].isin(v)]\n",
        "    return df\n",
        "\n",
        "# The filter_df function takes a pandas DataFrame and an arbitrary number of pairs of key-value arguments as input. \n",
        "# It then filters the DataFrame by keeping only the rows where the values in the specified columns match the given values. It returns the filtered DataFrame."
      ],
      "metadata": {
        "id": "FBfJ6qUtcWXM"
      },
      "execution_count": null,
      "outputs": []
    },
    {
      "cell_type": "code",
      "metadata": {
        "id": "zzSkfz0k1gaC",
        "colab": {
          "base_uri": "https://localhost:8080/",
          "height": 280
        },
        "outputId": "9ffa5248-e363-468e-d704-abb2579c524d"
      },
      "source": [
        "# On concatenating dataframes, plotting the graphs for models\n",
        "bert_models = pd.concat([best_fte, best_bert])\n",
        "all_models = concat_dfs(bert_models, lda_df, save = True)\n",
        "output_plot(data = filter_df(all_models, \n",
        "                              ('Model', ['FTE','BERT','BTM','LDA']),\n",
        "                              ('Components', ['tfidf-attn', np.nan])), \n",
        "            y = 'Coherence_CV', \n",
        "            ylab = 'Coherence ($\\mathregular{C_{v}}$)',\n",
        "            filename = 'CV_plot_best_FTA_vs_baselines')\n",
        "\n",
        "output_plot(data = filter_df(all_models, \n",
        "                             ('Model', ['FTE']),\n",
        "                             ('Components', ['tfidf-attn', 'tfidf','attn'])), \n",
        "            y = 'Coherence_CV', \n",
        "            ylab = 'Coherence ($\\mathregular{C_{v}}$)', \n",
        "            filename = 'CV_plot_FTA')\n",
        "\n",
        "# The code concatenates two dataframes (best_fte and best_bert) into a single dataframe (bert_models). It then creates two plots using the output_plot() function, one for all models (FTE, BERT, BTM, and LDA) with tfidf-attn and no component filtering, and another for just the FTE model with tfidf-attn, tfidf, and attn component filtering. The plots display the coherence ($\\mathregular{C_{v}}$) on the y-axis and the number of topics on the x-axis. \n",
        "# The function filter_df() is used to filter the dataframes based on the model and component type. The plots are saved as PNG files with the specified filenames."
      ],
      "execution_count": null,
      "outputs": [
        {
          "output_type": "stream",
          "name": "stderr",
          "text": [
            "/usr/local/lib/python3.9/dist-packages/ipykernel/ipkernel.py:283: DeprecationWarning: `should_run_async` will not call `transform_cell` automatically in the future. Please pass the result to `transformed_cell` argument and any exception that happen during thetransform in `preprocessing_exc_tuple` in IPython 7.17 and above.\n",
            "  and should_run_async(code)\n",
            "<>:7: DeprecationWarning: invalid escape sequence \\m\n",
            "<>:14: DeprecationWarning: invalid escape sequence \\m\n",
            "<>:7: DeprecationWarning: invalid escape sequence \\m\n",
            "<>:14: DeprecationWarning: invalid escape sequence \\m\n",
            "<ipython-input-78-64d1ca733222>:7: DeprecationWarning: invalid escape sequence \\m\n",
            "  ylab = 'Coherence ($\\mathregular{C_{v}}$)',\n",
            "<ipython-input-78-64d1ca733222>:14: DeprecationWarning: invalid escape sequence \\m\n",
            "  ylab = 'Coherence ($\\mathregular{C_{v}}$)',\n",
            "<ipython-input-77-101beefd5658>:14: FutureWarning: The frame.append method is deprecated and will be removed from pandas in a future version. Use pandas.concat instead.\n",
            "  output_full = output_cv[['Components','Model','topics',\n"
          ]
        },
        {
          "output_type": "display_data",
          "data": {
            "text/plain": [
              "<Figure size 640x480 with 0 Axes>"
            ]
          },
          "metadata": {}
        },
        {
          "output_type": "display_data",
          "data": {
            "text/plain": [
              "<Figure size 640x480 with 0 Axes>"
            ]
          },
          "metadata": {}
        }
      ]
    },
    {
      "cell_type": "code",
      "metadata": {
        "id": "lWmPXBbX3Att",
        "colab": {
          "base_uri": "https://localhost:8080/",
          "height": 906
        },
        "outputId": "49485dbf-3f5b-4ffd-d71e-fdaa9f134ac0"
      },
      "source": [
        "Image('CV_plot_best_FTA_vs_baselines.png')"
      ],
      "execution_count": null,
      "outputs": [
        {
          "output_type": "stream",
          "name": "stderr",
          "text": [
            "/usr/local/lib/python3.9/dist-packages/ipykernel/ipkernel.py:283: DeprecationWarning: `should_run_async` will not call `transform_cell` automatically in the future. Please pass the result to `transformed_cell` argument and any exception that happen during thetransform in `preprocessing_exc_tuple` in IPython 7.17 and above.\n",
            "  and should_run_async(code)\n"
          ]
        },
        {
          "output_type": "execute_result",
          "data": {
            "image/png": "[encoded data removed]",
            "text/plain": [
              "<IPython.core.display.Image object>"
            ]
          },
          "metadata": {},
          "execution_count": 79
        }
      ]
    },
    {
      "cell_type": "code",
      "metadata": {
        "id": "kya8U2un5-Ne",
        "colab": {
          "base_uri": "https://localhost:8080/",
          "height": 908
        },
        "outputId": "0ba21406-e47d-4521-c531-fb51057a2f67"
      },
      "source": [
        "Image('CV_plot_FTA.png')"
      ],
      "execution_count": null,
      "outputs": [
        {
          "output_type": "stream",
          "name": "stderr",
          "text": [
            "/usr/local/lib/python3.9/dist-packages/ipykernel/ipkernel.py:283: DeprecationWarning: `should_run_async` will not call `transform_cell` automatically in the future. Please pass the result to `transformed_cell` argument and any exception that happen during thetransform in `preprocessing_exc_tuple` in IPython 7.17 and above.\n",
            "  and should_run_async(code)\n"
          ]
        },
        {
          "output_type": "execute_result",
          "data": {
            "image/png": "[encoded data removed]",
            "text/plain": [
              "<IPython.core.display.Image object>"
            ]
          },
          "metadata": {},
          "execution_count": 80
        }
      ]
    }
  ]
}