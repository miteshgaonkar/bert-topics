{
 "cells": [
  {
   "cell_type": "code",
   "execution_count": 10,
   "metadata": {},
   "outputs": [],
   "source": [
    "from pathlib import Path\n",
    "import json\n",
    "from collections import defaultdict\n",
    "import numpy as np\n",
    "import pandas as pd\n",
    "import matplotlib.pyplot as plt"
   ]
  },
  {
   "cell_type": "markdown",
   "metadata": {},
   "source": [
    "## Load human eval annotations"
   ]
  },
  {
   "cell_type": "code",
   "execution_count": 6,
   "metadata": {},
   "outputs": [],
   "source": [
    "# store human eval annotations in this data structure:\n",
    "# {model: {annotator: {topic: {score: int } } } }\n",
    "annotations = defaultdict(\n",
    "    lambda: defaultdict(\n",
    "        lambda: defaultdict(dict)\n",
    "    )\n",
    ") \n",
    "\n",
    "for annotated_samples_f in Path(\"keyword_eval\").glob(\"*/*.json\"):\n",
    "    a = annotated_samples_f.parent.name # annotator id\n",
    "    m = annotated_samples_f.stem # model id\n",
    "    for t, sample in json.loads(annotated_samples_f.read_text()).items():\n",
    "        t = t.split(\"_\")[-1]\n",
    "        if sample['interpretability'] == '' or sample['usefulness'] == '':\n",
    "            print(f\"Missing scores for [model {m}][annotator {a}][topic {t}]\")\n",
    "        annotations[m][a][t][\"interpretability\"] = sample[\"interpretability\"]\n",
    "        annotations[m][a][t][\"usefulness\"] = sample[\"usefulness\"]"
   ]
  },
  {
   "cell_type": "markdown",
   "metadata": {},
   "source": [
    "## Normalize annotation scores"
   ]
  },
  {
   "cell_type": "code",
   "execution_count": 7,
   "metadata": {},
   "outputs": [
    {
     "data": {
      "text/plain": [
       "{'interpretability': '1',\n",
       " 'usefulness': '1',\n",
       " 'Interpretability': 1.0,\n",
       " 'High Interpretability': 1,\n",
       " 'Avg Interpretability': 0,\n",
       " 'Low Interpretability': 0,\n",
       " 'Usefulness': 1.0,\n",
       " 'High Usefulness': 1,\n",
       " 'Avg Usefulness': 0,\n",
       " 'Low Usefulness': 0}"
      ]
     },
     "execution_count": 7,
     "metadata": {},
     "output_type": "execute_result"
    }
   ],
   "source": [
    "for m in annotations.keys():\n",
    "    for a in annotations[m].keys():\n",
    "        for t in annotations[m][a].keys():\n",
    "            intrp = int(annotations[m][a][t][\"interpretability\"])\n",
    "            annotations[m][a][t][\"Interpretability\"] = (3 - intrp)/2\n",
    "            annotations[m][a][t][\"High Interpretability\"] = 0\n",
    "            annotations[m][a][t][\"Avg Interpretability\"] = 0\n",
    "            annotations[m][a][t][\"Low Interpretability\"] = 0 \n",
    "            if intrp == 1:\n",
    "                annotations[m][a][t][\"High Interpretability\"] = 1\n",
    "            elif intrp == 2:\n",
    "                annotations[m][a][t][\"Avg Interpretability\"] = 1\n",
    "            elif intrp == 3:\n",
    "                annotations[m][a][t][\"Low Interpretability\"] = 1\n",
    "            else:\n",
    "                print(\"Intepretability not valid\")\n",
    "                \n",
    "            usfl = int(annotations[m][a][t][\"usefulness\"])\n",
    "            annotations[m][a][t][\"Usefulness\"] = (3 - usfl)/2\n",
    "            annotations[m][a][t][\"High Usefulness\"] = 0\n",
    "            annotations[m][a][t][\"Avg Usefulness\"] = 0\n",
    "            annotations[m][a][t][\"Low Usefulness\"] = 0 \n",
    "            if usfl == 1:\n",
    "                annotations[m][a][t][\"High Usefulness\"] = 1\n",
    "            elif usfl == 2:\n",
    "                annotations[m][a][t][\"Avg Usefulness\"] = 1\n",
    "            elif usfl == 3:\n",
    "                annotations[m][a][t][\"Low Usefulness\"] = 1\n",
    "            else:\n",
    "                print(\"Usefulness not valid\")\n",
    "  \n",
    "annotations[m]['0'][t]"
   ]
  },
  {
   "cell_type": "markdown",
   "metadata": {},
   "source": [
    "## Average scores across annotators"
   ]
  },
  {
   "cell_type": "code",
   "execution_count": 9,
   "metadata": {},
   "outputs": [],
   "source": [
    "# Compute average of normalized/categorized scores  \n",
    "# (across annotators for a given model and topic)\n",
    "# and store in this data structure:\n",
    "# {model: {score: {topic: ...} } } \n",
    "avg_scores = defaultdict(\n",
    "    lambda: defaultdict(\n",
    "        lambda: defaultdict(list)\n",
    "    )\n",
    ")\n",
    "\n",
    "score_keys = [s for s in annotations[m][a][t].keys() if s not in ['interpretability', 'usefulness']]\n",
    "for m in annotations.keys():\n",
    "    for s in score_keys:\n",
    "        for a in annotations[m].keys():\n",
    "            for t in annotations[m][a].keys():\n",
    "                avg_scores[m][s][t] += [annotations[m][a][t][s]]\n",
    "                \n",
    "        for t in annotations[m][a].keys():\n",
    "                avg_scores[m][s][t] = np.mean(avg_scores[m][s][t])"
   ]
  },
  {
   "cell_type": "markdown",
   "metadata": {},
   "source": [
    "## Plot scores for each topic/model"
   ]
  },
  {
   "cell_type": "code",
   "execution_count": 11,
   "metadata": {},
   "outputs": [],
   "source": [
    "def plot_model_topic_scores(score: str, models):\n",
    "    models = {str(v): k for k,v in models.items()}\n",
    "    rows = []\n",
    "    index = []\n",
    "    for m in models.keys():\n",
    "        index.append(models[m])\n",
    "        row = avg_scores[m][score]\n",
    "        rows.append(row)\n",
    "    df = pd.DataFrame(rows, index=index)\n",
    "    \n",
    "    plt.rcParams['figure.figsize'] = [8, 2]\n",
    "    plt.pcolor(df, cmap='Blues', vmin=0, vmax=1)\n",
    "    cbar = plt.colorbar(ticks = [0,0.5,1.0])\n",
    "    cbar.ax.tick_params(labelsize=12)\n",
    "    cbar.set_ticklabels([0,0.5,1.0])\n",
    "    plt.yticks(np.arange(0.5, len(df.index), 1), df.index, fontsize=15)\n",
    "    plt.xticks([], [], fontsize=15)\n",
    "    plt.xlabel(\"Topic\", fontsize=15)\n",
    "    plt.show()\n",
    "    print(\"Average\")\n",
    "    for i,r in df.iterrows():\n",
    "        print(f\"{i}: {r.mean()}\")\n",
    "    print(\"Num >0.5\")\n",
    "    for i,r in df.iterrows():\n",
    "        print(f\"{i}: {len(r[r>0.5])}\")\n",
    "    \n",
    "    return df"
   ]
  },
  {
   "cell_type": "code",
   "execution_count": 18,
   "metadata": {},
   "outputs": [],
   "source": [
    "models = {\n",
    "    \"LDA\": 9,\n",
    "    \"BERT\": 14,\n",
    "    \"BTM\": 3,\n",
    "    \"FTE\": 6,\n",
    "    \"LDA\": 9,\n",
    "}"
   ]
  },
  {
   "cell_type": "code",
   "execution_count": 19,
   "metadata": {},
   "outputs": [
    {
     "data": {
      "image/png": "[encoded data removed]",
      "text/plain": [
       "<Figure size 576x144 with 2 Axes>"
      ]
     },
     "metadata": {
      "needs_background": "light"
     },
     "output_type": "display_data"
    },
    {
     "name": "stdout",
     "output_type": "stream",
     "text": [
      "Average\n",
      "LDA: 0.013888888888888888\n",
      "BERT: 0.1111111111111111\n",
      "BTM: 0.2777777777777778\n",
      "FTE: 0.5972222222222222\n",
      "Num >0.5\n",
      "LDA: 0\n",
      "BERT: 0\n",
      "BTM: 1\n",
      "FTE: 5\n"
     ]
    },
    {
     "data": {
      "text/html": [
       "<div>\n",
       "<style scoped>\n",
       "    .dataframe tbody tr th:only-of-type {\n",
       "        vertical-align: middle;\n",
       "    }\n",
       "\n",
       "    .dataframe tbody tr th {\n",
       "        vertical-align: top;\n",
       "    }\n",
       "\n",
       "    .dataframe thead th {\n",
       "        text-align: right;\n",
       "    }\n",
       "</style>\n",
       "<table border=\"1\" class=\"dataframe\">\n",
       "  <thead>\n",
       "    <tr style=\"text-align: right;\">\n",
       "      <th></th>\n",
       "      <th>0</th>\n",
       "      <th>1</th>\n",
       "      <th>2</th>\n",
       "      <th>3</th>\n",
       "      <th>4</th>\n",
       "      <th>5</th>\n",
       "      <th>6</th>\n",
       "      <th>7</th>\n",
       "      <th>8</th>\n",
       "    </tr>\n",
       "  </thead>\n",
       "  <tbody>\n",
       "    <tr>\n",
       "      <th>LDA</th>\n",
       "      <td>0.125</td>\n",
       "      <td>0.0</td>\n",
       "      <td>0.000</td>\n",
       "      <td>0.000</td>\n",
       "      <td>0.000</td>\n",
       "      <td>0.000</td>\n",
       "      <td>0.000</td>\n",
       "      <td>0.000</td>\n",
       "      <td>0.000</td>\n",
       "    </tr>\n",
       "    <tr>\n",
       "      <th>BERT</th>\n",
       "      <td>0.000</td>\n",
       "      <td>0.0</td>\n",
       "      <td>0.000</td>\n",
       "      <td>0.000</td>\n",
       "      <td>0.375</td>\n",
       "      <td>0.125</td>\n",
       "      <td>0.000</td>\n",
       "      <td>0.375</td>\n",
       "      <td>0.125</td>\n",
       "    </tr>\n",
       "    <tr>\n",
       "      <th>BTM</th>\n",
       "      <td>0.250</td>\n",
       "      <td>0.0</td>\n",
       "      <td>0.250</td>\n",
       "      <td>0.125</td>\n",
       "      <td>0.250</td>\n",
       "      <td>0.125</td>\n",
       "      <td>0.625</td>\n",
       "      <td>0.500</td>\n",
       "      <td>0.375</td>\n",
       "    </tr>\n",
       "    <tr>\n",
       "      <th>FTE</th>\n",
       "      <td>0.500</td>\n",
       "      <td>0.0</td>\n",
       "      <td>0.875</td>\n",
       "      <td>1.000</td>\n",
       "      <td>0.750</td>\n",
       "      <td>0.750</td>\n",
       "      <td>0.875</td>\n",
       "      <td>0.250</td>\n",
       "      <td>0.375</td>\n",
       "    </tr>\n",
       "  </tbody>\n",
       "</table>\n",
       "</div>"
      ],
      "text/plain": [
       "          0    1      2      3      4      5      6      7      8\n",
       "LDA   0.125  0.0  0.000  0.000  0.000  0.000  0.000  0.000  0.000\n",
       "BERT  0.000  0.0  0.000  0.000  0.375  0.125  0.000  0.375  0.125\n",
       "BTM   0.250  0.0  0.250  0.125  0.250  0.125  0.625  0.500  0.375\n",
       "FTE   0.500  0.0  0.875  1.000  0.750  0.750  0.875  0.250  0.375"
      ]
     },
     "execution_count": 19,
     "metadata": {},
     "output_type": "execute_result"
    }
   ],
   "source": [
    "plot_model_topic_scores(\"Usefulness\", models)"
   ]
  },
  {
   "cell_type": "code",
   "execution_count": 20,
   "metadata": {
    "collapsed": true,
    "jupyter": {
     "outputs_hidden": true
    }
   },
   "outputs": [
    {
     "data": {
      "image/png": "[encoded data removed]",
      "text/plain": [
       "<Figure size 576x144 with 2 Axes>"
      ]
     },
     "metadata": {
      "needs_background": "light"
     },
     "output_type": "display_data"
    },
    {
     "name": "stdout",
     "output_type": "stream",
     "text": [
      "Average\n",
      "LDA: 0.013888888888888888\n",
      "BERT: 0.2638888888888889\n",
      "BTM: 0.3194444444444444\n",
      "FTE: 0.6527777777777778\n",
      "Num >0.5\n",
      "LDA: 0\n",
      "BERT: 1\n",
      "BTM: 1\n",
      "FTE: 5\n"
     ]
    },
    {
     "data": {
      "text/html": [
       "<div>\n",
       "<style scoped>\n",
       "    .dataframe tbody tr th:only-of-type {\n",
       "        vertical-align: middle;\n",
       "    }\n",
       "\n",
       "    .dataframe tbody tr th {\n",
       "        vertical-align: top;\n",
       "    }\n",
       "\n",
       "    .dataframe thead th {\n",
       "        text-align: right;\n",
       "    }\n",
       "</style>\n",
       "<table border=\"1\" class=\"dataframe\">\n",
       "  <thead>\n",
       "    <tr style=\"text-align: right;\">\n",
       "      <th></th>\n",
       "      <th>0</th>\n",
       "      <th>1</th>\n",
       "      <th>2</th>\n",
       "      <th>3</th>\n",
       "      <th>4</th>\n",
       "      <th>5</th>\n",
       "      <th>6</th>\n",
       "      <th>7</th>\n",
       "      <th>8</th>\n",
       "    </tr>\n",
       "  </thead>\n",
       "  <tbody>\n",
       "    <tr>\n",
       "      <th>LDA</th>\n",
       "      <td>0.00</td>\n",
       "      <td>0.00</td>\n",
       "      <td>0.000</td>\n",
       "      <td>0.000</td>\n",
       "      <td>0.000</td>\n",
       "      <td>0.000</td>\n",
       "      <td>0.125</td>\n",
       "      <td>0.000</td>\n",
       "      <td>0.000</td>\n",
       "    </tr>\n",
       "    <tr>\n",
       "      <th>BERT</th>\n",
       "      <td>0.00</td>\n",
       "      <td>0.00</td>\n",
       "      <td>0.250</td>\n",
       "      <td>0.125</td>\n",
       "      <td>0.500</td>\n",
       "      <td>0.375</td>\n",
       "      <td>0.000</td>\n",
       "      <td>0.875</td>\n",
       "      <td>0.250</td>\n",
       "    </tr>\n",
       "    <tr>\n",
       "      <th>BTM</th>\n",
       "      <td>0.25</td>\n",
       "      <td>0.00</td>\n",
       "      <td>0.250</td>\n",
       "      <td>0.250</td>\n",
       "      <td>0.375</td>\n",
       "      <td>0.125</td>\n",
       "      <td>0.750</td>\n",
       "      <td>0.500</td>\n",
       "      <td>0.375</td>\n",
       "    </tr>\n",
       "    <tr>\n",
       "      <th>FTE</th>\n",
       "      <td>0.50</td>\n",
       "      <td>0.25</td>\n",
       "      <td>0.875</td>\n",
       "      <td>1.000</td>\n",
       "      <td>1.000</td>\n",
       "      <td>0.625</td>\n",
       "      <td>0.750</td>\n",
       "      <td>0.375</td>\n",
       "      <td>0.500</td>\n",
       "    </tr>\n",
       "  </tbody>\n",
       "</table>\n",
       "</div>"
      ],
      "text/plain": [
       "         0     1      2      3      4      5      6      7      8\n",
       "LDA   0.00  0.00  0.000  0.000  0.000  0.000  0.125  0.000  0.000\n",
       "BERT  0.00  0.00  0.250  0.125  0.500  0.375  0.000  0.875  0.250\n",
       "BTM   0.25  0.00  0.250  0.250  0.375  0.125  0.750  0.500  0.375\n",
       "FTE   0.50  0.25  0.875  1.000  1.000  0.625  0.750  0.375  0.500"
      ]
     },
     "execution_count": 20,
     "metadata": {},
     "output_type": "execute_result"
    }
   ],
   "source": [
    "plot_model_topic_scores(\"Interpretability\", models)"
   ]
  },
  {
   "cell_type": "markdown",
   "metadata": {},
   "source": [
    "## Inter rater agreement (Fleiss Kappa)"
   ]
  },
  {
   "cell_type": "code",
   "execution_count": 21,
   "metadata": {},
   "outputs": [
    {
     "name": "stdout",
     "output_type": "stream",
     "text": [
      "LDA\n",
      "{'i': -0.028571428571426576, 'u': -0.028571428571426576}\n",
      "BERT\n",
      "{'i': 0.2646239554317547, 'u': 0.35714285714285715}\n",
      "BTM\n",
      "{'i': 0.15014164305948993, 'u': 0.12359550561797747}\n",
      "FTE\n",
      "{'i': 0.17974683544303788, 'u': 0.2154963680387411}\n"
     ]
    }
   ],
   "source": [
    "annotators = list(annotations[m].keys())\n",
    "topics = list(sorted(annotations[m][a].keys(), key=lambda x: int(x)))\n",
    "scores_per_topic = len([annotations[m][a][t][\"usefulness\"] for t in topics])\n",
    "\n",
    "fleiss = {\n",
    "    \"u\": {m: pd.DataFrame() for m in annotations.keys()}, # useful\n",
    "    \"i\": {m: pd.DataFrame() for m in annotations.keys()}, # interpretable\n",
    "    \"u_pi\": {},\n",
    "    \"i_pi\": {},\n",
    "    \"u_P\": {},\n",
    "    \"i_P\": {},\n",
    "    \"u_Pe\": {},\n",
    "    \"i_Pe\": {},\n",
    "    \"k\": {}\n",
    "}\n",
    "\n",
    "\n",
    "for model, m in models.items():\n",
    "    m = str(m)\n",
    "    fleiss[\"u\"][m][\"1\"] = [0 for _ in range(scores_per_topic)]\n",
    "    fleiss[\"u\"][m][\"2\"] = [0 for _ in range(scores_per_topic)]\n",
    "    fleiss[\"u\"][m][\"3\"] = [0 for _ in range(scores_per_topic)]\n",
    "    fleiss[\"i\"][m][\"1\"] = [0 for _ in range(scores_per_topic)]\n",
    "    fleiss[\"i\"][m][\"2\"] = [0 for _ in range(scores_per_topic)]\n",
    "    fleiss[\"i\"][m][\"3\"] = [0 for _ in range(scores_per_topic)]\n",
    "    \n",
    "    for a in annotators:\n",
    "        fleiss[\"u\"][m][\"1\"] += [1 if s==\"1\" else 0 for t in topics for s in [annotations[m][a][t][\"usefulness\"]]]\n",
    "        fleiss[\"u\"][m][\"2\"] += [1 if s==\"2\" else 0 for t in topics for s in [annotations[m][a][t][\"usefulness\"]]]\n",
    "        fleiss[\"u\"][m][\"3\"] += [1 if s==\"3\" else 0 for t in topics for s in [annotations[m][a][t][\"usefulness\"]]]\n",
    "        fleiss[\"i\"][m][\"1\"] += [1 if s==\"1\" else 0 for t in topics for s in [annotations[m][a][t][\"interpretability\"]]]\n",
    "        fleiss[\"i\"][m][\"2\"] += [1 if s==\"2\" else 0 for t in topics for s in [annotations[m][a][t][\"interpretability\"]]]\n",
    "        fleiss[\"i\"][m][\"3\"] += [1 if s==\"3\" else 0 for t in topics for s in [annotations[m][a][t][\"interpretability\"]]]\n",
    "        \n",
    "        \n",
    "\n",
    "    n = 4 # number of raters  \n",
    "\n",
    "    N = len(fleiss[\"u\"][m]) # number of subjects\n",
    "\n",
    "    fleiss[\"i_pi\"][m] = [x/fleiss[\"i\"][m].sum().sum() for x in fleiss[\"i\"][m].sum()]\n",
    "    fleiss[\"u_pi\"][m] = [x/fleiss[\"u\"][m].sum().sum() for x in fleiss[\"u\"][m].sum()]\n",
    "\n",
    "    \n",
    "    fleiss[\"i\"][m][\"P_i\"] = (1/(n*(n-1))) * (sum([fleiss[\"i\"][m][c] ** 2 for c in fleiss[\"i\"][m].columns]) - n)\n",
    "    fleiss[\"u\"][m][\"P_i\"] = (1/(n*(n-1))) * (sum([fleiss[\"u\"][m][c] ** 2 for c in fleiss[\"u\"][m].columns]) - n)\n",
    "\n",
    "    fleiss[\"i_P\"][m] = fleiss[\"i\"][m][\"P_i\"].mean()\n",
    "    fleiss[\"u_P\"][m] = fleiss[\"u\"][m][\"P_i\"].mean()\n",
    "\n",
    "\n",
    "    fleiss[\"i_Pe\"][m] = sum([x**2 for x in fleiss[\"i_pi\"][m]])\n",
    "    fleiss[\"u_Pe\"][m] = sum([x**2 for x in fleiss[\"u_pi\"][m]])\n",
    "    \n",
    "    fleiss[\"k\"][m] = {}\n",
    "    fleiss[\"k\"][m][\"i\"] = (fleiss[\"i_P\"][m] - fleiss[\"i_Pe\"][m]) / (1 - fleiss[\"i_Pe\"][m])\n",
    "    fleiss[\"k\"][m][\"u\"] = (fleiss[\"u_P\"][m] - fleiss[\"u_Pe\"][m]) / (1 - fleiss[\"u_Pe\"][m])\n",
    "\n",
    "    print(model)\n",
    "    print(fleiss[\"k\"][m])"
   ]
  },
  {
   "cell_type": "code",
   "execution_count": null,
   "metadata": {},
   "outputs": [],
   "source": []
  }
 ],
 "metadata": {
  "kernelspec": {
   "display_name": "Python 3",
   "language": "python",
   "name": "python3"
  },
  "language_info": {
   "codemirror_mode": {
    "name": "ipython",
    "version": 3
   },
   "file_extension": ".py",
   "mimetype": "text/x-python",
   "name": "python",
   "nbconvert_exporter": "python",
   "pygments_lexer": "ipython3",
   "version": "3.8.5"
  }
 },
 "nbformat": 4,
 "nbformat_minor": 4
}
